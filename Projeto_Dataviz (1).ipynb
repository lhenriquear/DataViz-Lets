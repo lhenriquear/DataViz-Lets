{
 "cells": [
  {
   "cell_type": "markdown",
   "metadata": {
    "id": "Eb5PTGSBNY76"
   },
   "source": [
    "# SOMENTE O ITEM 1 É OBRIGATÓRIO PARA APRESENTAÇÃO!"
   ]
  },
  {
   "cell_type": "markdown",
   "metadata": {
    "id": "YKphkH0MNY79"
   },
   "source": [
    "# História das Olimpíadas - Parte 2\n",
    "_(créditos ao prof. Rafael Moreira)_"
   ]
  },
  {
   "cell_type": "markdown",
   "metadata": {
    "id": "YlCb1Lw9NY7-"
   },
   "source": [
    "Você recentemente trabalhou (ou está trabalhando) em uma análise de dados históricos dos jogos olímpicos utilizando o Pandas para auxiliá-lo.\n",
    "\n",
    "Desde que você iniciou seus trabalhos nesse projeto, novas ferramentas bastante poderosas foram ensinadas! O seu papel agora será utilizar essas novas ferramentas para gerar algumas visualizações que tornarão certas informações muito mais claras.\n",
    "\n",
    "Utilize qualquer uma das bibliotecas estudadas (```matplotlib```, ```seaborn``` e ```plotly```) para realizar as atividades propostas. Não há problema em usar apenas uma para realizar todas as atividades, nem em utilizar cada uma delas em uma atividade diferente - siga suas preferências pessoais!\n",
    "\n",
    "Utilize os (muitos) parâmetros permitidos por cada função e/ou atributos dos objetos fornecidos pelas bibliotecas para criar uma identidade visual coesa para ser utilizada em todo o projeto. Use títulos, legendas e rótulos nos eixos para deixar os gráficos verdadeiramente informativos. E não se esqueça que a simples escolha das cores a serem utilizadas pode tornar os gráficos ainda mais interessantes!\n",
    "\n",
    "Você utilizará o mesmo dataset fornecido no projeto anterior. Não há problemas em reaproveitar códigos do projeto anterior para economizar tempo e focar seus esforços na geração dos gráficos.\n",
    "\n",
    "Para começar, importe o Pandas e carregue o arquivo ```athlete_events.csv``` fornecido no projeto anterior."
   ]
  },
  {
   "cell_type": "code",
   "execution_count": 1,
   "metadata": {},
   "outputs": [],
   "source": [
    "# pip install plotly==5.3.1"
   ]
  },
  {
   "cell_type": "code",
   "execution_count": 1,
   "metadata": {
    "ExecuteTime": {
     "end_time": "2021-10-28T01:17:40.818421Z",
     "start_time": "2021-10-28T01:17:35.182933Z"
    },
    "id": "QhsJvhQsNY7_"
   },
   "outputs": [
    {
     "data": {
      "text/html": [
       "<div>\n",
       "<style scoped>\n",
       "    .dataframe tbody tr th:only-of-type {\n",
       "        vertical-align: middle;\n",
       "    }\n",
       "\n",
       "    .dataframe tbody tr th {\n",
       "        vertical-align: top;\n",
       "    }\n",
       "\n",
       "    .dataframe thead th {\n",
       "        text-align: right;\n",
       "    }\n",
       "</style>\n",
       "<table border=\"1\" class=\"dataframe\">\n",
       "  <thead>\n",
       "    <tr style=\"text-align: right;\">\n",
       "      <th></th>\n",
       "      <th>ID</th>\n",
       "      <th>Name</th>\n",
       "      <th>Sex</th>\n",
       "      <th>Age</th>\n",
       "      <th>Height</th>\n",
       "      <th>Weight</th>\n",
       "      <th>Team</th>\n",
       "      <th>NOC</th>\n",
       "      <th>Games</th>\n",
       "      <th>Year</th>\n",
       "      <th>Season</th>\n",
       "      <th>City</th>\n",
       "      <th>Sport</th>\n",
       "      <th>Event</th>\n",
       "      <th>Medal</th>\n",
       "    </tr>\n",
       "  </thead>\n",
       "  <tbody>\n",
       "    <tr>\n",
       "      <th>0</th>\n",
       "      <td>1</td>\n",
       "      <td>A Dijiang</td>\n",
       "      <td>M</td>\n",
       "      <td>24.0</td>\n",
       "      <td>180.0</td>\n",
       "      <td>80.0</td>\n",
       "      <td>China</td>\n",
       "      <td>CHN</td>\n",
       "      <td>1992 Summer</td>\n",
       "      <td>1992</td>\n",
       "      <td>Summer</td>\n",
       "      <td>Barcelona</td>\n",
       "      <td>Basketball</td>\n",
       "      <td>Basketball Men's Basketball</td>\n",
       "      <td>NaN</td>\n",
       "    </tr>\n",
       "    <tr>\n",
       "      <th>1</th>\n",
       "      <td>2</td>\n",
       "      <td>A Lamusi</td>\n",
       "      <td>M</td>\n",
       "      <td>23.0</td>\n",
       "      <td>170.0</td>\n",
       "      <td>60.0</td>\n",
       "      <td>China</td>\n",
       "      <td>CHN</td>\n",
       "      <td>2012 Summer</td>\n",
       "      <td>2012</td>\n",
       "      <td>Summer</td>\n",
       "      <td>London</td>\n",
       "      <td>Judo</td>\n",
       "      <td>Judo Men's Extra-Lightweight</td>\n",
       "      <td>NaN</td>\n",
       "    </tr>\n",
       "    <tr>\n",
       "      <th>2</th>\n",
       "      <td>3</td>\n",
       "      <td>Gunnar Nielsen Aaby</td>\n",
       "      <td>M</td>\n",
       "      <td>24.0</td>\n",
       "      <td>NaN</td>\n",
       "      <td>NaN</td>\n",
       "      <td>Denmark</td>\n",
       "      <td>DEN</td>\n",
       "      <td>1920 Summer</td>\n",
       "      <td>1920</td>\n",
       "      <td>Summer</td>\n",
       "      <td>Antwerpen</td>\n",
       "      <td>Football</td>\n",
       "      <td>Football Men's Football</td>\n",
       "      <td>NaN</td>\n",
       "    </tr>\n",
       "    <tr>\n",
       "      <th>3</th>\n",
       "      <td>4</td>\n",
       "      <td>Edgar Lindenau Aabye</td>\n",
       "      <td>M</td>\n",
       "      <td>34.0</td>\n",
       "      <td>NaN</td>\n",
       "      <td>NaN</td>\n",
       "      <td>Denmark/Sweden</td>\n",
       "      <td>DEN</td>\n",
       "      <td>1900 Summer</td>\n",
       "      <td>1900</td>\n",
       "      <td>Summer</td>\n",
       "      <td>Paris</td>\n",
       "      <td>Tug-Of-War</td>\n",
       "      <td>Tug-Of-War Men's Tug-Of-War</td>\n",
       "      <td>Gold</td>\n",
       "    </tr>\n",
       "    <tr>\n",
       "      <th>4</th>\n",
       "      <td>5</td>\n",
       "      <td>Christine Jacoba Aaftink</td>\n",
       "      <td>F</td>\n",
       "      <td>21.0</td>\n",
       "      <td>185.0</td>\n",
       "      <td>82.0</td>\n",
       "      <td>Netherlands</td>\n",
       "      <td>NED</td>\n",
       "      <td>1988 Winter</td>\n",
       "      <td>1988</td>\n",
       "      <td>Winter</td>\n",
       "      <td>Calgary</td>\n",
       "      <td>Speed Skating</td>\n",
       "      <td>Speed Skating Women's 500 metres</td>\n",
       "      <td>NaN</td>\n",
       "    </tr>\n",
       "    <tr>\n",
       "      <th>...</th>\n",
       "      <td>...</td>\n",
       "      <td>...</td>\n",
       "      <td>...</td>\n",
       "      <td>...</td>\n",
       "      <td>...</td>\n",
       "      <td>...</td>\n",
       "      <td>...</td>\n",
       "      <td>...</td>\n",
       "      <td>...</td>\n",
       "      <td>...</td>\n",
       "      <td>...</td>\n",
       "      <td>...</td>\n",
       "      <td>...</td>\n",
       "      <td>...</td>\n",
       "      <td>...</td>\n",
       "    </tr>\n",
       "    <tr>\n",
       "      <th>271111</th>\n",
       "      <td>135569</td>\n",
       "      <td>Andrzej ya</td>\n",
       "      <td>M</td>\n",
       "      <td>29.0</td>\n",
       "      <td>179.0</td>\n",
       "      <td>89.0</td>\n",
       "      <td>Poland-1</td>\n",
       "      <td>POL</td>\n",
       "      <td>1976 Winter</td>\n",
       "      <td>1976</td>\n",
       "      <td>Winter</td>\n",
       "      <td>Innsbruck</td>\n",
       "      <td>Luge</td>\n",
       "      <td>Luge Mixed (Men)'s Doubles</td>\n",
       "      <td>NaN</td>\n",
       "    </tr>\n",
       "    <tr>\n",
       "      <th>271112</th>\n",
       "      <td>135570</td>\n",
       "      <td>Piotr ya</td>\n",
       "      <td>M</td>\n",
       "      <td>27.0</td>\n",
       "      <td>176.0</td>\n",
       "      <td>59.0</td>\n",
       "      <td>Poland</td>\n",
       "      <td>POL</td>\n",
       "      <td>2014 Winter</td>\n",
       "      <td>2014</td>\n",
       "      <td>Winter</td>\n",
       "      <td>Sochi</td>\n",
       "      <td>Ski Jumping</td>\n",
       "      <td>Ski Jumping Men's Large Hill, Individual</td>\n",
       "      <td>NaN</td>\n",
       "    </tr>\n",
       "    <tr>\n",
       "      <th>271113</th>\n",
       "      <td>135570</td>\n",
       "      <td>Piotr ya</td>\n",
       "      <td>M</td>\n",
       "      <td>27.0</td>\n",
       "      <td>176.0</td>\n",
       "      <td>59.0</td>\n",
       "      <td>Poland</td>\n",
       "      <td>POL</td>\n",
       "      <td>2014 Winter</td>\n",
       "      <td>2014</td>\n",
       "      <td>Winter</td>\n",
       "      <td>Sochi</td>\n",
       "      <td>Ski Jumping</td>\n",
       "      <td>Ski Jumping Men's Large Hill, Team</td>\n",
       "      <td>NaN</td>\n",
       "    </tr>\n",
       "    <tr>\n",
       "      <th>271114</th>\n",
       "      <td>135571</td>\n",
       "      <td>Tomasz Ireneusz ya</td>\n",
       "      <td>M</td>\n",
       "      <td>30.0</td>\n",
       "      <td>185.0</td>\n",
       "      <td>96.0</td>\n",
       "      <td>Poland</td>\n",
       "      <td>POL</td>\n",
       "      <td>1998 Winter</td>\n",
       "      <td>1998</td>\n",
       "      <td>Winter</td>\n",
       "      <td>Nagano</td>\n",
       "      <td>Bobsleigh</td>\n",
       "      <td>Bobsleigh Men's Four</td>\n",
       "      <td>NaN</td>\n",
       "    </tr>\n",
       "    <tr>\n",
       "      <th>271115</th>\n",
       "      <td>135571</td>\n",
       "      <td>Tomasz Ireneusz ya</td>\n",
       "      <td>M</td>\n",
       "      <td>34.0</td>\n",
       "      <td>185.0</td>\n",
       "      <td>96.0</td>\n",
       "      <td>Poland</td>\n",
       "      <td>POL</td>\n",
       "      <td>2002 Winter</td>\n",
       "      <td>2002</td>\n",
       "      <td>Winter</td>\n",
       "      <td>Salt Lake City</td>\n",
       "      <td>Bobsleigh</td>\n",
       "      <td>Bobsleigh Men's Four</td>\n",
       "      <td>NaN</td>\n",
       "    </tr>\n",
       "  </tbody>\n",
       "</table>\n",
       "<p>271116 rows × 15 columns</p>\n",
       "</div>"
      ],
      "text/plain": [
       "   ID                      Name Sex   Age  Height  Weight            Team  \\\n",
       "0   1                 A Dijiang   M  24.0   180.0    80.0           China   \n",
       "1   2                  A Lamusi   M  23.0   170.0    60.0           China   \n",
       "2   3       Gunnar Nielsen Aaby   M  24.0     NaN     NaN         Denmark   \n",
       "3   4      Edgar Lindenau Aabye   M  34.0     NaN     NaN  Denmark/Sweden   \n",
       "4   5  Christine Jacoba Aaftink   F  21.0   185.0    82.0     Netherlands   \n",
       "\n",
       "   NOC        Games  Year  Season       City          Sport  \\\n",
       "0  CHN  1992 Summer  1992  Summer  Barcelona     Basketball   \n",
       "1  CHN  2012 Summer  2012  Summer     London           Judo   \n",
       "2  DEN  1920 Summer  1920  Summer  Antwerpen       Football   \n",
       "3  DEN  1900 Summer  1900  Summer      Paris     Tug-Of-War   \n",
       "4  NED  1988 Winter  1988  Winter    Calgary  Speed Skating   \n",
       "\n",
       "                              Event Medal  \n",
       "0       Basketball Men's Basketball   NaN  \n",
       "1      Judo Men's Extra-Lightweight   NaN  \n",
       "2           Football Men's Football   NaN  \n",
       "3       Tug-Of-War Men's Tug-Of-War  Gold  \n",
       "4  Speed Skating Women's 500 metres   NaN  "
      ]
     },
     "execution_count": 2,
       "        Sport Sex  Weight\n",
       "0   Athletics   F    61.0\n",
       "1   Athletics   M    73.2\n",
       "2  Basketball   F    61.0"
       "            ID                      Name Sex   Age  Height  Weight  \\\n",
       "0            1                 A Dijiang   M  24.0   180.0    80.0   \n",
       "1            2                  A Lamusi   M  23.0   170.0    60.0   \n",
       "2            3       Gunnar Nielsen Aaby   M  24.0     NaN     NaN   \n",
       "3            4      Edgar Lindenau Aabye   M  34.0     NaN     NaN   \n",
       "4            5  Christine Jacoba Aaftink   F  21.0   185.0    82.0   \n",
       "...        ...                       ...  ..   ...     ...     ...   \n",
       "271111  135569                Andrzej ya   M  29.0   179.0    89.0   \n",
       "271112  135570                  Piotr ya   M  27.0   176.0    59.0   \n",
       "271113  135570                  Piotr ya   M  27.0   176.0    59.0   \n",
       "271114  135571        Tomasz Ireneusz ya   M  30.0   185.0    96.0   \n",
       "271115  135571        Tomasz Ireneusz ya   M  34.0   185.0    96.0   \n",
       "\n",
       "                  Team  NOC        Games  Year  Season            City  \\\n",
       "0                China  CHN  1992 Summer  1992  Summer       Barcelona   \n",
       "1                China  CHN  2012 Summer  2012  Summer          London   \n",
       "2              Denmark  DEN  1920 Summer  1920  Summer       Antwerpen   \n",
       "3       Denmark/Sweden  DEN  1900 Summer  1900  Summer           Paris   \n",
       "4          Netherlands  NED  1988 Winter  1988  Winter         Calgary   \n",
       "...                ...  ...          ...   ...     ...             ...   \n",
       "271111        Poland-1  POL  1976 Winter  1976  Winter       Innsbruck   \n",
       "271112          Poland  POL  2014 Winter  2014  Winter           Sochi   \n",
       "271113          Poland  POL  2014 Winter  2014  Winter           Sochi   \n",
       "271114          Poland  POL  1998 Winter  1998  Winter          Nagano   \n",
       "271115          Poland  POL  2002 Winter  2002  Winter  Salt Lake City   \n",
       "\n",
       "                Sport                                     Event Medal  \n",
       "0          Basketball               Basketball Men's Basketball   NaN  \n",
       "1                Judo              Judo Men's Extra-Lightweight   NaN  \n",
       "2            Football                   Football Men's Football   NaN  \n",
       "3          Tug-Of-War               Tug-Of-War Men's Tug-Of-War  Gold  \n",
       "4       Speed Skating          Speed Skating Women's 500 metres   NaN  \n",
       "...               ...                                       ...   ...  \n",
       "271111           Luge                Luge Mixed (Men)'s Doubles   NaN  \n",
       "271112    Ski Jumping  Ski Jumping Men's Large Hill, Individual   NaN  \n",
       "271113    Ski Jumping        Ski Jumping Men's Large Hill, Team   NaN  \n",
       "271114      Bobsleigh                      Bobsleigh Men's Four   NaN  \n",
       "271115      Bobsleigh                      Bobsleigh Men's Four   NaN  \n",
       "\n",
       "[271116 rows x 15 columns]"
      ]
     },
     "execution_count": 1,
     "metadata": {},
     "output_type": "execute_result"
    }
   ],
   "source": [
    "import pandas as pd\n",
    "import seaborn as sns\n",
    "import plotly.express as px\n",
    "import matplotlib.pyplot as plt\n",
    "%matplotlib inline\n",
    "#rcParams['figure.figsize'] = 5,4\n",
    "sns.set_style('whitegrid')\n",
    "df = pd.read_csv('athlete_events.csv')\n",
    "df.head()"
    "# Agrupando dados e calculando as médias de alturas para plotar o gráfico de barras:\n",
    "df_agrupamento_pesos = df_esportes_peso.groupby(['Sport', 'Sex'])['Weight'].mean().reset_index()\n",
    "df_agrupamento_pesos['Weight'] = df_agrupamento_pesos['Weight'].round(2)\n",
    "df_agrupamento_pesos.head(3)"
    "df = pd.read_csv('athlete_events (1).csv')\n",
    "df"
   ]
  },
  {
   "cell_type": "markdown",
   "metadata": {
    "id": "d13W5I-9NY7_"
   },
   "source": [
    "## 1. O Brasil nas Olimpíadas\n",
    "\n",
    "Vamos começar filtrando novamente os dados que iremos trabalhar. Crie um DataFrame contendo apenas informações sobre atletas **medalhistas** brasileiros."
   ]
  },
  {
   "cell_type": "code",
   "execution_count": null,
   "metadata": {
    "id": "vDbLQO0SNY7_"
   },
   "outputs": [],
   "source": []
  },
  {
   "cell_type": "markdown",
   "metadata": {
    "id": "Nm_QlGDDNY8A"
   },
   "source": [
    "Vamos caracterizar fisicamente nossos medalhistas, verificando se há alguma correlação entre o desempenho em certos esportes e o tipo físico dos atletas. \n",
    "\n",
    "Gere um gráfico de barras contendo os diferentes esportes no eixo X e a altura dos atletas no eixo Y. Utilize barras lado-a-lado para separar atletas do sexo masculino e feminino."
   ]
  },
  {
   "cell_type": "code",
   "execution_count": null,
   "metadata": {
    "id": "Fceufll3NY8A"
   },
   "outputs": [],
   "source": []
  },
  {
   "cell_type": "markdown",
   "metadata": {
    "id": "QiRjc2wbNY8B"
   },
   "source": [
    "Agora gere um gráfico semelhante ilustrando o peso dos atletas."
   ]
  },
  {
   "cell_type": "code",
   "execution_count": null,
   "metadata": {
    "id": "6dIY_aW7NY8B"
   },
   "outputs": [],
   "source": []
  },
  {
   "cell_type": "markdown",
   "metadata": {
    "id": "_JNNvKUlNY8C"
   },
   "source": [
    "Vamos analisar agora as medalhas que nossos atletas trouxeram para casa.\n",
    "\n",
    "Encontre os maiores medalhistas brasileiros em **total de medalhas**. Em seguida, faça um gráfico de barras empilhadas. No eixo X coloque o nome dos atletas, e no eixo Y coloque o número de medalhas. Utilize as barras empilhadas para mostrar, respectivamente, as medalhas de bronze, prata e ouro de cada atleta."
   ]
  },
  {
   "cell_type": "code",
   "execution_count": null,
   "metadata": {
    "id": "Mnn_vqVHNY8C"
   },
   "outputs": [],
   "source": []
  },
  {
   "cell_type": "markdown",
   "metadata": {
    "id": "KG1C9RCTNY8C"
   },
   "source": [
    "Agora gere o mesmo gráfico de barras empilhadas substituindo os nomes dos atletas pelo nome de todos os esportes onde o Brasil já ganhou medalhas.\n",
    "\n",
    "**DICA:** tome muito cuidado nessa análise: cada **evento esportivo** rende 1 medalha. Por exemplo, quando a equipe de futebol vence, isso é considerado 1 medalha, mesmo tendo cerca de 20 atletas medalhistas na equipe. "
   ]
  },
  {
   "cell_type": "code",
   "execution_count": null,
   "metadata": {
    "id": "MiEEhPGvNY8D"
   },
   "outputs": [],
   "source": []
  },
  {
   "cell_type": "markdown",
   "metadata": {
    "id": "d13W5I-9NY7_"
   },
   "source": [
    "## 1. O Brasil nas Olimpíadas\n",
    "\n",
    "Vamos começar filtrando novamente os dados que iremos trabalhar. Crie um DataFrame contendo apenas informações sobre atletas **medalhistas** brasileiros."
    "id": "Hzg3ZSy3NY8D"
   },
   "source": [
    "Mais um gráfico de barras empilhadas: agora mostre os **eventos esportivos** que renderam medalhas para o Brasil.\n",
    "\n",
    "Lembrando: cada \"categoria\" dentro de um esporte é considerado um evento. Por exemplo, dentro de \"atletismo\", temos uma competição de 100m masculina, uma de 100m feminino, um revezamento 4 x 100m masculino, um revezamento 4 x 100m feminino, uma competição de 400m masculino, uma de 400m feminino, uma maratona masculina, uma maratona feminina, e assim sucessivamente."
   ]
  },
  {
   "cell_type": "code",
   "execution_count": null,
   "metadata": {
    "id": "6q4SA2TvNY8E"
   },
   "outputs": [],
   "source": []
  },
  {
   "cell_type": "markdown",
   "metadata": {
    "id": "aIjK-ynJNY8E"
   },
   "source": [
    "Utilize um gráfico de distribuição (como um histograma, por exemplo) ilustrando a quantidade total de medalhas do Brasil por esporte."
   ]
  },
  {
   "cell_type": "code",
   "execution_count": 3,
   "metadata": {
    "id": "vDbLQO0SNY7_"
   "execution_count": 2,
   "metadata": {
    "ExecuteTime": {
     "end_time": "2021-10-28T01:17:45.099960Z",
     "start_time": "2021-10-28T01:17:45.001243Z"
    }
   },
   "outputs": [
    {
     "data": {
      "text/html": [
       "<div>\n",
       "<style scoped>\n",
       "    .dataframe tbody tr th:only-of-type {\n",
       "        vertical-align: middle;\n",
       "    }\n",
       "\n",
       "    .dataframe tbody tr th {\n",
       "        vertical-align: top;\n",
       "    }\n",
       "\n",
       "    .dataframe thead th {\n",
       "        text-align: right;\n",
       "    }\n",
       "</style>\n",
       "<table border=\"1\" class=\"dataframe\">\n",
       "  <thead>\n",
       "    <tr style=\"text-align: right;\">\n",
       "      <th></th>\n",
       "      <th>ID</th>\n",
       "      <th>Name</th>\n",
       "      <th>Sex</th>\n",
       "      <th>Age</th>\n",
       "      <th>Height</th>\n",
       "      <th>Weight</th>\n",
       "      <th>Team</th>\n",
       "      <th>NOC</th>\n",
       "      <th>Games</th>\n",
       "      <th>Year</th>\n",
       "      <th>Season</th>\n",
       "      <th>City</th>\n",
       "      <th>Sport</th>\n",
       "      <th>Event</th>\n",
       "      <th>Medal</th>\n",
       "    </tr>\n",
       "  </thead>\n",
       "  <tbody>\n",
       "    <tr>\n",
       "      <th>0</th>\n",
       "      <td>386</td>\n",
       "      <td>Alexandre Abeid</td>\n",
       "      <td>M</td>\n",
       "      <td>22.0</td>\n",
       "      <td>194.0</td>\n",
       "      <td>92.0</td>\n",
       "      <td>Brazil</td>\n",
       "      <td>BRA</td>\n",
       "      <td>1972 Summer</td>\n",
       "      <td>1972</td>\n",
       "      <td>Summer</td>\n",
       "      <td>Munich</td>\n",
       "      <td>Volleyball</td>\n",
       "      <td>Volleyball Men's Volleyball</td>\n",
       "      <td>NaN</td>\n",
       "    </tr>\n",
       "    <tr>\n",
       "      <th>1</th>\n",
       "      <td>386</td>\n",
       "      <td>Alexandre Abeid</td>\n",
       "      <td>M</td>\n",
       "      <td>26.0</td>\n",
       "      <td>194.0</td>\n",
       "      <td>92.0</td>\n",
       "      <td>Brazil</td>\n",
       "      <td>BRA</td>\n",
       "      <td>1976 Summer</td>\n",
       "      <td>1976</td>\n",
       "      <td>Summer</td>\n",
       "      <td>Montreal</td>\n",
       "      <td>Volleyball</td>\n",
       "      <td>Volleyball Men's Volleyball</td>\n",
       "      <td>NaN</td>\n",
       "    </tr>\n",
       "    <tr>\n",
       "      <th>2</th>\n",
       "      <td>388</td>\n",
       "      <td>Abel Carlos da Silva Braga</td>\n",
       "      <td>M</td>\n",
       "      <td>19.0</td>\n",
       "      <td>190.0</td>\n",
       "      <td>73.0</td>\n",
       "      <td>Brazil</td>\n",
       "      <td>BRA</td>\n",
       "      <td>1972 Summer</td>\n",
       "      <td>1972</td>\n",
       "      <td>Summer</td>\n",
       "      <td>Munich</td>\n",
       "      <td>Football</td>\n",
       "      <td>Football Men's Football</td>\n",
       "      <td>NaN</td>\n",
       "    </tr>\n",
       "    <tr>\n",
       "      <th>3</th>\n",
       "      <td>451</td>\n",
       "      <td>Diana Monteiro Abla</td>\n",
       "      <td>F</td>\n",
       "      <td>21.0</td>\n",
       "      <td>175.0</td>\n",
       "      <td>75.0</td>\n",
       "      <td>Brazil</td>\n",
       "      <td>BRA</td>\n",
       "      <td>2016 Summer</td>\n",
       "      <td>2016</td>\n",
       "      <td>Summer</td>\n",
       "      <td>Rio de Janeiro</td>\n",
       "      <td>Water Polo</td>\n",
       "      <td>Water Polo Women's Water Polo</td>\n",
       "      <td>NaN</td>\n",
       "    </tr>\n",
       "    <tr>\n",
       "      <th>4</th>\n",
       "      <td>565</td>\n",
       "      <td>Glauclio Serro Abreu</td>\n",
       "      <td>M</td>\n",
       "      <td>26.0</td>\n",
       "      <td>185.0</td>\n",
       "      <td>75.0</td>\n",
       "      <td>Brazil</td>\n",
       "      <td>BRA</td>\n",
       "      <td>2004 Summer</td>\n",
       "      <td>2004</td>\n",
       "      <td>Summer</td>\n",
       "      <td>Athina</td>\n",
       "      <td>Boxing</td>\n",
       "      <td>Boxing Men's Middleweight</td>\n",
       "      <td>NaN</td>\n",
       "    </tr>\n",
       "  </tbody>\n",
       "</table>\n",
       "</div>"
      ],
      "text/plain": [
       "    ID                        Name Sex   Age  Height  Weight    Team  NOC  \\\n",
       "0  386             Alexandre Abeid   M  22.0   194.0    92.0  Brazil  BRA   \n",
       "1  386             Alexandre Abeid   M  26.0   194.0    92.0  Brazil  BRA   \n",
       "2  388  Abel Carlos da Silva Braga   M  19.0   190.0    73.0  Brazil  BRA   \n",
       "3  451         Diana Monteiro Abla   F  21.0   175.0    75.0  Brazil  BRA   \n",
       "4  565        Glauclio Serro Abreu   M  26.0   185.0    75.0  Brazil  BRA   \n",
       "\n",
       "         Games  Year  Season            City       Sport  \\\n",
       "0  1972 Summer  1972  Summer          Munich  Volleyball   \n",
       "1  1976 Summer  1976  Summer        Montreal  Volleyball   \n",
       "2  1972 Summer  1972  Summer          Munich    Football   \n",
       "3  2016 Summer  2016  Summer  Rio de Janeiro  Water Polo   \n",
       "4  2004 Summer  2004  Summer          Athina      Boxing   \n",
       "\n",
       "                           Event Medal  \n",
       "0    Volleyball Men's Volleyball   NaN  \n",
       "1    Volleyball Men's Volleyball   NaN  \n",
       "2        Football Men's Football   NaN  \n",
       "3  Water Polo Women's Water Polo   NaN  \n",
       "4      Boxing Men's Middleweight   NaN  "
      ]
     },
     "execution_count": 3,
     "metadata": {},
     "output_type": "execute_result"
    }
   ],
   "source": [
    "brasil = ['Brazil']\n",
    "df_atletas_br = df[df.Team.isin(brasil)]\n",
    "df_brasil_olimpico = df_atletas_br.reset_index()\n",
    "del df_brasil_olimpico['index']\n",
    "df_brasil_olimpico.head()"
    "df_brasil_olimpico.head(3)\n",
    "df_brasil_olimpico.dropna(inplace = True)\n",
    "df_brasil_olimpico\n",
    "df_dados_tratados = df_brasil_olimpico.drop_duplicates(subset=['Team','NOC','Games','Year','City','Sport','Event','Medal'])\n",
    "df_dados_tratados.head(1)\n",
    "medalhas_brasil_total_esporte = df_dados_tratados.groupby('Sport').count()['Medal'].reset_index()\n",
    "medalhas_brasil_total_esporte.sort_values(by=['Medal','Sport'], ascending=False)"
   ]
  },
  {
   "cell_type": "code",
   "execution_count": 3,
   "metadata": {
    "ExecuteTime": {
     "end_time": "2021-10-28T01:17:48.039061Z",
     "start_time": "2021-10-28T01:17:47.659748Z"
    },
    "id": "3oL8HPtkNY8F"
   },
   "outputs": [
    {
     "data": {
      "image/png": "iVBORw0KGgoAAAANSUhEUgAAAYQAAAFQCAYAAAC/EgnqAAAAOXRFWHRTb2Z0d2FyZQBNYXRwbG90bGliIHZlcnNpb24zLjMuNCwgaHR0cHM6Ly9tYXRwbG90bGliLm9yZy8QVMy6AAAACXBIWXMAAAsTAAALEwEAmpwYAAA9lUlEQVR4nO3deVhUZfsH8O8IAsYiEm7JIrhrGi65vLmklUuBKwSooIlauQWZoKi4JYui9WapaWmKG+qrZqJWLomZuYYo4gIi4IYr4iDOsJzfHzDzY1xJnjPA8P1cV1czZ8Z7npnhzH2eXSFJkgQiIqr0qpR1AYiIqHxgQiAiIgBMCEREVIQJgYiIADAhEBFREeOyLkBpxMXFwdTUtKyLQURUoahUKri4uDxxvEInBFNTUzRr1qysi0FEVKEkJiY+9TibjIiICAATAhERFWFCICIiAEwIRERUhAmBiIgAMCEQEVERJgQiIgLAhEBEREWYEIiICAATApHscnPzy2UsosdV6KUriCqCqlWN8MX0KCGxIuf4CIlD9DSsIRAREQAmBCIiKsKEQEREAJgQiIioCBMCEREBkGGUUW5uLoKDg3H16lWo1Wp8+umnaNiwISZPngyFQoFGjRphxowZqFLl/3NRQUEBZs6cifPnz8PExARffvklHB0dRReNiIieQ3gNYfv27bC2tsa6deuwfPlyzJkzB2FhYfD398e6desgSRL27t2r82/27NkDtVqN6OhoTJw4EeHh4aKLRURELyA8IfTu3RufffaZ9r6RkRESEhLQvn17AEDXrl3x119/6fybEydOoEuXLgAAFxcXnDlzRnSxiIjoBYQ3GZmbmwMAlEolJkyYAH9/f0REREChUGgff/Dggc6/USqVsLCw0N43MjJCXl4ejI2fXzyVSvXMvUGJygvR+37zb57kIstM5evXr2Ps2LEYPHgw3NzcMH/+fO1j2dnZsLKy0nm+hYUFsrOztfcLCgpemAwAwNTUVPjJRlTe8W+eSutZFxXCm4xu376NESNGYNKkSXB3dwcANG/eHEeOHAEAxMbGol27djr/pk2bNoiNjQUAxMXFoXHjxqKLRURELyA8ISxduhRZWVlYvHgxfHx84OPjA39/fyxatAienp7Izc1Fr169AACBgYG4du0a3nvvPZiYmMDLywthYWGYMmWK6GIREdELKCRJksq6EC8rMTGR1WeqELi4HZUnz/rt5MQ0IiICwIRARERFmBCIiAgAEwIRERVhQiAiIgBMCEREVIQJgYiIADAhEBFRESYEIiICwIRARERFmBCIiAgAEwIRERVhQiAiIgBMCEREVIQJoRzILygol7GIqHKRZQtN+neMqlTB1j/F7JM7oDP3hyCil8MaAhERAZCxhnDq1ClERkYiKioKAQEBuH37NgDg6tWreOONN/DVV1/pPL9///6wtLQEANjZ2SEsLEyuohER0VPIkhCWL1+O7du3o1q1agCg/fG/f/8+fH19n9gzWaVSAQCiosRsM0hERP+eLAnBwcEBixYtQmBgoM7xRYsWYejQoahVq5bO8XPnziEnJwcjRoxAXl4ePv/8c7i4uLzwdVQqFRITxbS9lyXR+0IbwmdiSPj9UkUhS0Lo1asXrly5onPszp07OHz48BO1AwAwMzODn58fPDw8cPnyZYwaNQq7d++GsfHzi2dqair8ZDME/EwMG79fKq1nXVTobZTR7t274erqCiMjoycec3JygqOjIxQKBZycnGBtbY1bt26hbt26+ioeEVGlp7dRRocPH0bXrl2f+tjmzZsRHh4OAMjIyIBSqUTNmjX1VTQiIoIeE0JKSgrs7e11jgUGBuLatWtwd3fHgwcP4O3tjYCAAISGhr6wuYiIiMSS7VfXzs4OGzdu1N6PiYl54jnz5s3T3l6wYIFcRSEiohLgxDQiIgLAhEBEREWYEIiICAATAhERFWFCICIiAEwIRERUhAmBiIgAMCEQEVERJgQiIgLAhECE3Lz8chmLSN+4YBBVelWNjRAyf6uQWLMnDRASh6gssIZAREQAmBCIiKgIEwIREQFgQiAioiJMCEREBEDGhHDq1Cn4+PgAABISEtClSxf4+PjAx8cHO3fu1HluQUEBQkJC4OnpCR8fH6SmpspVLCIiegZZhp0uX74c27dvR7Vq1QAAZ8+exUcffYQRI0Y89fl79uyBWq1GdHQ04uLiEB4ejiVLlshRNCIiegZZaggODg5YtGiR9v6ZM2fwxx9/YMiQIQgODoZSqdR5/okTJ9ClSxcAgIuLC86cOSNHsYiI6DlkqSH06tULV65c0d5v1aoVPDw88Prrr2PJkiX47rvvEBQUpH1cqVTCwsJCe9/IyAh5eXkwNn5+8VQqFRITE8W/AT1r1qyZ0HiG8Jnok9yfP79fqij0MlP5vffeg5WVlfb2nDlzdB63sLBAdna29n5BQcELkwEAmJqaCj/ZDAE/k7Il9+fP75dK61kXFXoZZeTn54f4+HgAwOHDh9GiRQudx9u0aYPY2FgAQFxcHBo3bqyPYhERUTF6qSHMnDkTc+bMQdWqVWFra6utIQQGBsLf3x/vvfceDh06BC8vL0iShNDQUH0Ui4iIipEtIdjZ2WHjxo0AgBYtWmDDhg1PPGfevHna27Nnz5arKEREVAKcmEZERACYEIiIqAgTAhERAWBCICKiIkwIREQEgAmBiIiKMCEQEREAJgQiIirChEBERACYEIiIqAgTAhERAWBCICKiIkwIREQEgAmBiIiKMCEQEREAJgQiIirChEBERABk3DHt1KlTiIyMRFRUFBITEzFnzhwYGRnBxMQEERERsLW11Xl+//79YWlpCaBwt7WwsDC5ikZERE8hS0JYvnw5tm/fjmrVqgEA5s6di+nTp6NZs2bYsGEDli9fjilTpmifr1KpAABRUVFyFIeIiEpAliYjBwcHLFq0SHt/4cKFaNasGQAgPz8fpqamOs8/d+4ccnJyMGLECPj6+iIuLk6OYhER0XPIUkPo1asXrly5or1fq1YtAMDJkyexZs0arF27Vuf5ZmZm8PPzg4eHBy5fvoxRo0Zh9+7dMDZ+fvFUKhUSExPFvwE90yRLUQzhM9EnuT9/fr9UUcjWh/C4nTt3YsmSJVi2bBlsbGx0HnNycoKjoyMUCgWcnJxgbW2NW7duoW7dus+NaWpqKvxkMwT8TMqW3J8/v18qrWddVOhllNHPP/+MNWvWICoqCvb29k88vnnzZoSHhwMAMjIyoFQqUbNmTX0UjYiIisieEPLz8zF37lxkZ2dj/Pjx8PHxwTfffAMACAwMxLVr1+Du7o4HDx7A29sbAQEBCA0NfWFzERERiVWiX91NmzbBw8NDe3/16tXw9fV97r+xs7PDxo0bAQBHjx596nPmzZunvb1gwYKSFIUqoby8fBgbG5W7WESG5rkJYceOHdi3bx+OHDmCv//+G0DhFf/FixdfmBCIRDE2NkLE978JiRX0cU8hcYgM0XMTQpcuXVCzZk1kZmbC09MTAFClSpWn9gMQEVHF9tyEUL16dXTo0AEdOnTAnTt3tBPI8vPz9VI4IiLSnxL1IcyaNQsHDhxArVq1IEkSFAoFNmzYIHfZiIhIj0qUEE6dOoU9e/agShWuhUdEZKhK9Avv6OiobS4iIiLDVKIawvXr19G9e3c4OjoCAJuMiIgMUIkSAucIEBEZvhIlhK1btz5xbNy4ccILQ0REZadECUGzmY0kSTh79iwKCgpkLRQREelfiRKCl5eXzv2RI0fKUhgiIio7JUoIKSkp2tu3bt3C9evXZSsQERGVjRIlhJCQEO1tU1NTBAYGylYgIiIqGyVKCFFRUbh37x7S09NhZ2f3xAY3RERU8ZVoYtquXbvg5eWFpUuXwtPTEz///LPc5SIiIj0rUQ3hp59+wpYtW2Bubg6lUolhw4ahX79+cpeNiIj0qEQ1BIVCAXNzcwCAhYUFTE1NZS0UERHpX4kSgoODA8LDw7Fnzx5ERETAwcHhhf/m1KlT8PHxAQCkpqbC29sbgwcPxowZM56Yx1BQUICQkBB4enrCx8cHqampL/FWiIioNEqUED788ENUr14df/31F7Zs2YIhQ4Y89/nLly/HtGnTtAvihYWFwd/fH+vWrYMkSdi7d6/O8/fs2QO1Wo3o6GhMnDgR4eHhL/l2iIjoZZWoDyE8PBzh4eFo2LAhPvroI0yePBlr16595vMdHBywaNEi7fDUhIQEtG/fHgDQtWtXHDp0CO+99572+SdOnECXLl0AAC4uLjhz5kyJCq9SqZCYmFii55ZGgwYNYWJSVUgstToXyclJOseaNWsmJLaGPj4TfZL786no8YlEKVFCMDY2RsOGDQEA9vb2L9wXoVevXrhy5Yr2vmZTHQAwNzfHgwcPdJ6vVCphYWGhvW9kZIS8vDwYGz+/eKampsJPtmfZcyrlxU8qgXffcJK9zPr6TCqqiv758/ul0nrWRUWJEsJrr72GhQsXwsXFBfHx8ahVq9a/evHiCSQ7OxtWVlY6j1tYWCA7O1t7v6Cg4IXJgIiIxCpRH0JYWBhsbGxw4MAB2NjYICws7F+9SPPmzXHkyBEAQGxsLNq1a6fzeJs2bRAbGwsAiIuLQ+PGjf9VfCIiKr0SXYabmppi+PDhL/0iQUFBmD59OhYuXAhnZ2f06tULABAYGAh/f3+89957OHToELy8vCBJEkJDQ1/6tYiI6OXI1i5jZ2eHjRs3AgCcnJywZs2aJ54zb9487e3Zs2fLVRQiIiqBEjUZERGR4WNCICIiAEwIRERUhAmBiIgAMCEQEVERJgQiIgLAhEBEREWYEIiICAATAhERFWFCICIiAEwIRERUhAmBiIgAMCEQEVERJgQiIgJgIAmhoEAql7GIiCoSg9inskoVBY5fui4kVjvnukLiEBFVNHpLCFu2bMHWrVsBACqVComJiTh06JB2f+WVK1di8+bNsLGxAQDMmjULzs7O+ioeEVGlp7eEMHDgQAwcOBBA4Y/9oEGDtMkAABISEhAREYHXX39dX0UiIqJi9N6HcPr0aSQlJcHT01PneEJCApYtWwZvb298//33+i4WEVGlp/c+hO+//x5jx4594vgHH3yAwYMHw8LCAuPGjcP+/fvRvXv358bSND01a9ZMaBkTExN17lf0+BVdRf/8+f1SRaHXhJCVlYVLly6hY8eOOsclScKwYcNgaWkJAOjWrRvOnj37woRgamoq/GQDxJ/Ahha/oqvonz+/XyqtZ11U6LXJ6NixY/jPf/7zxHGlUglXV1dkZ2dDkiQcOXKEfQlERHqm1xpCSkoK7OzstPd/+eUXPHz4EJ6enggICICvry9MTEzQqVMndOvWTZ9FIyKq9PSaEEaOHKlz383NTXu7f//+6N+/vz6LQ0RExRjETGUiIio9JgQiIgLAhEBEREWYEIiICAATAhERFWFCICIiAEwIRERUhAmBiIgAMCEQEVERJgQiIgLAhEBEREWYEIiICAATAhERFWFCICIiAEwIRERUhAmBiIgAMCEQEVERve6Y1r9/f1haWgIA7OzsEBYWpn1s3759+O6772BsbIxBgwbhww8/1GfRiIgqPb0lBJVKBQCIiop64rHc3FyEhYVh8+bNqFatGry9vdG9e3fUrFlTX8UjIqr09JYQzp07h5ycHIwYMQJ5eXn4/PPP4eLiAgBITk6Gg4MDqlevDgBo27Ytjh8/jj59+jw3pkqlQmJiIpo1aya0rImJiTr3K3p8Z+cGMDU1ERJbpVLj0qVknWNOzg1gJij+I5UaKY/Fr+ifv9zxiUTRW0IwMzODn58fPDw8cPnyZYwaNQq7d++GsbExlEqltikJAMzNzaFUKl8Y09TUVPjJBog/gctD/FU7TwqJPez9Nk+N/92GP4XEH+vV2SA//4oUnwzfsy4q9JYQnJyc4OjoCIVCAScnJ1hbW+PWrVuoW7cuLCwskJ2drX1udna2ToIgIiL56W2U0ebNmxEeHg4AyMjIgFKp1PYRNGjQAKmpqcjMzIRarcbx48fRunVrfRWNiIigxxqCu7s7pkyZAm9vbygUCoSGhmLXrl14+PAhPD09MXnyZPj5+UGSJAwaNAi1a9fWV9GIiAh6TAgmJiZYsGCBzrE2bdpob/fo0QM9evTQV3GIiOgxnJhGREQAmBCIiKgIEwIREQFgQiAioiJMCERUZtTq3HIZq7LS6+J2RETFmZhUxaB+k4TE+t/P84XEqcxYQyAiIgBMCEREVIQJgYiIADAhEBFRESYEIiICwIRARERFmBCIiAgAEwIRERVhQiCq4HJz88plrMpApVKXy1gvizOViSq4qlWNMWbCd0JiLf5mrJA4lYWpqQneatNfSKxDJ7cJiVMaeksIubm5CA4OxtWrV6FWq/Hpp5/inXfe0T6+cuVKbN68GTY2NgCAWbNmwdnZWV/FIyKq9PSWELZv3w5ra2vMnz8f9+7dw4ABA3QSQkJCAiIiIvD666/rq0hERFSM3hJC79690atXL+19IyMjnccTEhKwbNky3Lp1C2+//TY+/vhjfRWNiIigx4Rgbm4OAFAqlZgwYQL8/f11Hv/ggw8wePBgWFhYYNy4cdi/fz+6d+/+3JgqlQqJiYlo1qyZ0LImJibq3Gd8xq/M8eVUkcsOVPzyP06vncrXr1/H2LFjMXjwYLi5uWmPS5KEYcOGwdLSEgDQrVs3nD179oUJwdTUVPgXAoj/khmf8RlfPypy2QH9lf9ZiUdvw05v376NESNGYNKkSXB3d9d5TKlUwtXVFdnZ2ZAkCUeOHGFfAhGRnumthrB06VJkZWVh8eLFWLx4MQDAw8MDOTk58PT0REBAAHx9fWFiYoJOnTqhW7du+ioaERFBjwlh2rRpmDZt2jMf79+/P/r376+v4hAR0WM4U5mInkmtFjtzWXQ8EoszlYnomUxMjDFsWKiweKtWBQuLReKxhkBERACYEIiIqAgTAhERAWBCICKiIkwIREQEgAmBiIiKMCEQEREAJgQiIirChEBEBkutyi2XsUpKpVLpNRZnKhORwTIxrYpeb48QEuvXP1YIifNvmJqaomXDzkJinU7684XPYQ2BiIgAMCEQEVERJgQiIgLAhEBEREWYEIiICIAeE0JBQQFCQkLg6ekJHx8fpKam6jy+b98+DBo0CJ6enti4caO+ikVEREX0lhD27NkDtVqN6OhoTJw4EeHh4drHcnNzERYWhhUrViAqKgrR0dG4deuWvopGRETQY0I4ceIEunTpAgBwcXHBmTNntI8lJyfDwcEB1atXh4mJCdq2bYvjx4/rq2hERARAIUmSpI8Xmjp1Knr27Ilu3boBAN5++23s2bMHxsbGOH78ONasWYOvv/4aAPDf//4Xr732Gjw8PJ4bMy4uDqampnIXnYjIoKhUKri4uDxxXG8zlS0sLJCdna29X1BQAGNj46c+lp2dDUtLyxfGfNobIiKil6O3JqM2bdogNjYWQOGVfePGjbWPNWjQAKmpqcjMzIRarcbx48fRunVrfRWNiIigxyajgoICzJw5ExcuXIAkSQgNDcXZs2fx8OFDeHp6Yt++ffjuu+8gSRIGDRqEIUOG6KNYRERURG8JgYiIyjdOTCMiIgBMCEREVIQJgYiIADAhEBFREe6YRrK6du2azn1jY2PUqFEDVatWLaMSldzDhw+RlZUFY2NjREdHo3///qhXr57Q17h48SKSkpJQv359NGvWTGhsQ1BQUABJkvDPP/+gVatWMDExERJXkiScPn1aZ1vJN998U0hsfZHj3DLYUUYpKSnPfMzJyalUsT///HMoFIqnPrZgwYJSxX7clClTdO5XrVoVderUwZAhQ1C9evWXjquv9+Dm5oaMjAw4OTnh8uXLqFatGvLy8jBp0iT069evVLF9fHx03oPms/n0009hZ2dX2qJjzJgxGDhwIH777Tc0bNgQR44cwY8//ljquBqrV6/Gjh078MYbb+Cff/5Bnz594OfnJyz+gwcPcPToUZ0fvffff19YfAA4cOAALl68iPr16+Pdd98VGnv+/Pmwt7fHtWvXkJCQAFtbW0RERAiJPW7cONy5cwd169YFACgUCuHn7rZt23TuGxsbo06dOmjXrp2Q+HKcWwZbQwgJCXnqcYVCgdWrV5cqtpeXV6n+/b+hUqlgb2+Pdu3a4dSpUzh9+jRsbGwQFBSEpUuXvnRcfb0HOzs7rFq1CjY2Nrh//z6mTZuGOXPmYNSoUaVOCHZ2dmjTpg3atm2LuLg47N+/Hy4uLpg6dSpWrVpV6rJnZWXhnXfeQVRUFObNm4eDBw+WOmZxMTExWLduHYyNjZGbmwsvLy+hCWHEiBFo0KABrKysABT+7YtMCAsWLMDly5fRtm1bbNu2DcePH8fkyZOFxT9x4gQmTZoEHx8fREVFYdiwYcJi3759Gxs2bBAW72liYmKQk5OD1q1bIz4+HiqVCsbGxmjevDmCg4NLHV+Oc8tgE0JUVJRssZ9X+2jfvr3Q17p79y4WLlwIAOjSpQtGjBgBf3//Uk/c09d7uHPnDmxsbAAA1atXx+3bt2FtbY0qVUrffXXt2jWEhYUBAJydnfHLL7/Aw8MDP//8c6ljA4Wr8K5YsQLNmzdHUlKSzvIqIkiSpF2+pWrVqsKb0SwtLXVWFRbt2LFj2h/VYcOG4cMPPxQav6CgAPHx8bCzs4Narcbdu3eFxXZyckJGRgZq164tLObj8vLysHr1alSpUgUFBQUYNWoUfvzxR2EXY3KcWwabEDp37vzMx/78889Sxdbn0txKpRLJyclo0KABkpOTkZ2djXv37uHhw4eliquv99CiRQt8/vnncHFxQVxcHJo1a4adO3fi1VdfLXXs3NxcHDx4EK1bt8bJkyeRl5eH9PR05OTkCCg5EBQUhL179+LTTz/FL7/8gpkzZwqJq9G2bVtMmDABbdu2xYkTJ4Qv19K5c2esX78eDRs21B4T2U6el5eHgoICVKlSBZIkPbMJ8mX169cPc+bMQWhoKObPnw9fX19hsU+ePInu3bujRo0a2nKX9nfhcZmZmcjLy4OJiQny8vJw//59AIBarRYSX45zy2D7EPTl5s2byMvLgyRJuHnzpvCTOj4+HjNnzsTNmzdRt25dhISEID4+Hra2tujVq5eQ15D7PezduxfJyclo0qQJunXrhkuXLqFu3bqoVq1aqeKmpaVh3rx5SE5ORuPGjfHFF18gLi4OdevWFdJOm5aWhvj4eLi6uiIyMhJeXl5C+iaK++OPP7QJ/+233xYae8yYMVCr1TpNRiLbyVesWIFff/0Vb7zxBuLj49G7d28MHz5cWHy1Wo2kpCQ0b94ce/bsQbdu3SrEYASNTZs24YcffkCjRo1w6dIljBw5Ejdv3kROTg4CAgKEvIboc8vgE0JcXBy2bNmC3NxcAIU/fqI6BoODgxEXF4ecnBw8evQI9vb2FW63N7nfg1KpRGxsrM5VUf/+/YXFl5OXlxcCAgLQoUMHHDt2DN9++62QvonHOxuLE/nZDB8+HD/99JOweE9z4cIFXLp0Cc7OzjoLVoowYcIEdOrUCd7e3li+fDnOnTsnLKGdP38ewcHByMjIgK2tLUJDQ9G8eXMhsYu7d+8e0tLS4ODggBo1aiA/Px9GRkZCYstxbhlsk5HGl19+ieHDh+PXX39F48aNhVXXAODSpUuIiYlBSEgIAgIC8NlnnwmLrbFt2zYsW7ZMZ6TI3r17hcWX+z2MGTMGtWrV0hnNIcrSpUvxww8/wMzMTHtMdLW/Q4cOAAqbWgoKCoTETE5OBlB4sVKtWjW0bt0ap0+fRl5entCE0KhRI8TExKBZs2baz720I+wA4Ntvv33iWFJSEn777TeMGzeu1PE1MjIy4O3tDQAYNWoUfHx8hMX+8ssvMXfuXDRt2hSJiYmYNWuW8E7mxMREREdH65y7mj4vEeQ4tww+IVhZWcHV1RWHDh3C+PHjMXToUGGxzc3NoVAo8PDhQ9jY2GhrISItX74cS5Ys0X7posn9HiRJQmRkpNCYGrt27cLBgwdL3fT0LFZWVoiOjoaLiwvi4+Nhbm4uJO7EiRMBAH5+fli2bJn2+IgRI4TE1zh37hzOnTunvS9ihB0A2NraAijcFlcz0uv06dO4fv16qWM/LiUlBU5OTkhLSxOWkIHCv8umTZsCAJo1a6bt3Bdp8uTJGDp0KOrUqSM8NiDPuWXwCUGhUODixYvIycnBpUuXhHamtmjRAj/++CNq1aqFgIAA5OfnC4utYW9vD0dHR+FxNeR+D02aNMGpU6d0Jl2JmlxUr149ndqBaOHh4ViyZAl+//13NGzYEKGhoULj3717F1lZWbCyssK9e/eQmZkpNH7xkXbXr18XdlGhGSXz+++/azva+/bti48++khIfI3g4GD4+/vjzp07qFWrFmbNmiUstrGxMfbv34927drh2LFjwv4mi7O1tX3hro+lIce5ZfB9CBcvXsTFixdRu3ZtzJ07F3379hXa8ZWdnQ0zMzMcOHAArVq10l49ieLv7w+lUqlT7f/888+Fvoac76Fv375QKpXa+wqFQliT16hRo3D9+nVt27WoTtMbN26gTp06Tx2aK6LJRePXX39FZGQkLCwsoFQqERoaKnQU0OrVq2FmZoasrCxs2bIFXbp0eWKiY2kMHDgQX3/9NRwcHHDp0iUEBQVh06ZNwuLL6erVq4iIiMClS5fQoEEDBAYGCp+FHhISAjs7O51z93mjH/8tOc4tg08IQGEH0uXLl9GwYUM0aNBAWNz09HTMmzcPly9fRqNGjTBp0iThTTtbt2594tiAAQOExdfHe5DL0aNHnzgmYg5FWFgYpkyZop0JrTlFRDW5PO7OnTuwtrYW1tmo4enpiaioKIwcORKrVq3CsGHDhJb/+PHjCA8PR0ZGBmrWrIn58+cLOb8mTJiAb7755qk/nqXtI3peH6LoWsLTkq/IPgQ5GHyT0eLFi3Hw4EG0bNkSK1euFDo0Ljg4GCNHjkSbNm1w7NgxBAcHY+XKlUJinz59Gi1btkTNmjWFxHsWud7D7NmzERISAk9Pzyc6u0rbebd//3507979qVfwIhKC5kT+6KOP0KNHD+3xnTt3ljp2cY8vvQFA6A+2QqHArVu3YGtrC4VCoR0HL0q7du2wefNmoTEB4JtvvgFQOGyz+MWJpjO+NHr37q1N8prPXnNbVM01Ly8PxsbGQpu4ipPz3DL4hBAbG4t169ahSpUqyMvLw+DBg4UlBCMjI3Tr1g0A0KNHDyFDEjUOHz6Mli1bIiYm5onHRFY75XoPY8aMAQDtLGuNvLy8UsfWtLXLNblu//79OHnyJGJiYhAXFwegcNbs3r17hS79oPnBkCQJCQkJOh3AInTo0AFDhw7FggULEBoaip49ewqNL9cIuAsXLiAjIwORkZEIDAyEJEkoKCjAggULSj0Lfd++faUu34sEBQVhwYIF2uQDiE06mnMrIiJCZ16GiIRv8AnBxsYGOTk5MDc3R25urnaqd2loqq3VqlXD8uXL8eabb2oni4kyfPhwqNVq2a4y5H4PmjiRkZEIDQ1FtWrVkJ6ejqCgoFJfxWiazD755BMkJSUJHUoMAE2bNkVmZiZMTU21fQYKhQIffPCB0NdxdnbW3m7QoAH+97//CY0fEBCgnQDVsmVL4ZO65BoBl5WVhZ07d+LOnTvYsWMHgMLPf/DgwcJeY9OmTVi1apXOrHZRNQRNP5Ym+WRmZqJ69erChlxLkoSUlBQEBQVh3rx52oQZEhJS6hqbwSYETXXqzp076NWrF5o0aYLk5GRYW1uXOrbmqt3a2hqXLl3CpUuXAIhtgyx+daEh8ipDH+8BKKzNDB06FG5ubti6dauQRb00Pv744ydm4j5tjPy/VbduXQwYMAD9+vVDWloaUlNT0aRJE+Hr3kRHR2tv37x5U9haSXI2KRQn1wi4du3aoV27dkhISECLFi0AQLtEhijr16/H999/L2uT7LFjxzBr1izk5+ejd+/eeO2114SMOjp16hRWrVqFlJQUTJ8+HQBQpUoVIS0HBtupfPXqVQCF690UvzLKysoStu78jz/+iAEDBgipdZSVTZs26fyRrl69WuiaMY8ePUJgYCD+/vtvjBw5EqNHjxYWe+jQoVizZo2weI9bs2YNfv/9d9y/fx8DBgxAamrqM1fR/Tc0fR+LFi3S/mA3adIEH3zwgZCRLrdv34atra32HChO5EgauUfA7dq1CwUFBVCr1Zg/fz78/PyErQbr5+cndCnzpxkyZAi+++47jB8/Hj/88AO8vb2xZcsWYfEPHDigbe4VxWBrCCYmJlAqlU9Uq6ZPny6sI+yVV17RzhYcNGgQunbtKqxaKPdV3o4dO7Bv3z4cOXIEf//9N4DCq7ALFy4ITQgeHh5wd3fH/PnzMW/ePKEnYrt27XDw4EGdkS2vvfaakNjA/y9P7evri2HDhmHQoEFC4j4tqZw7dw7GxsZCJqdpmuuqVKmCHTt26LTxi5xJLPrH6HErVqzAsmXL8Pnnn+OPP/7AiBEjSp0QNH1aarUafn5+aN68uWzDuatUqQJra2soFAqYmpoKm9ioUbt2bQwaNEjo8hsGmxDkrFZpeHt7w9vbGxcvXsTSpUsxY8YMDBo0CMOGDdM2Y7ysZ3XKitKlSxfUrFkTmZmZ8PT0BFD4+djb2wt9nYiICO0f6fTp04V26t25cwehoaE6TUYim0SKDzcFxDWnPW1p9oKCAvj4+AidrfzZZ5+hU6dOsg0jdnNzQ3R0tHbHN80yE6JoPm9zc3OYmJgIaVLT9Ak9Pp9E9EqtAODg4IAFCxbg3r17WLZsmdCLFQCYO3eu8OU3DDYhvPvuu3j33XdlqVZpZGVlISYmBj///DMsLS0xdepU5OXlYcyYMaVuytBc5eXl5WH37t06i/PNnj271GWvXr06OnTogA4dOuDw4cNIT09Hq1athPSxFGdjY4MJEyYgOTkZ9evXFzoxKiUlBbt27RIW73Gurq4YMmQIrl27hlGjRgnfEUwjPz8fJ06cwKNHj4TGNTc3F7aq5tOEhITAysoKb731Fo4ePYpp06Zh3rx5wuLb29tj0KBBmD59Or799lu0atWq1DE1AxI0NXCNwMBA4Ysuzpo1C5s2bUK7du3wyiuvYM6cOULjy7H8hsEmBA05qlUa7u7u6Nu3L7766iudqzCRwweDgoLQvXt3nDx5ErVq1Sr1PgiPW7hwIW7cuIHk5GRUrVoVy5YtE1ormTZtGry9vfHmm2/i6NGjwnYzA4DGjRsjLi5O5/sU2Sk+dOhQdOrUCRcuXICTk5P25BNNpVJhzZo1mDZtmtC4ci1up5Gamoq1a9cCKLwAE70LX3h4OLKzs2Fubo7XX39dSAfw2rVrsWTJEty/fx+//fab9rjICasaCoVCuye0HMvayLH8hsF2Kmv4+Phg6tSpsqxqKEkSUlNTdUahiK56apYwnjJlCsLCwjB48GCsW7dOWPwhQ4Zg7dq12m0KP/zwQ6HLX2viPv56Iri5uek0I4gagbVgwYJnfo+i25nl9PjqoKJnWru7uyMqKgrVqlXDo0eP4OPjI3TpCjmXrl+6dCk++eQTIbGeJTg4GFZWVmjXrh2OHj2KzMxMoTUozfIbKSkpcHZ2FrL8hsHXEORc1XDt2rXaUSj9+/dHWlqakFEoxUmShFu3biE7OxsPHz4UPts0Pz8fKpUKCoUC+fn5Qof2aeKfP38eTZo0wfnz54UmzF9++UVYrOKKzw8oTo52Zjk93lcher6Gr68v+vXrh0aNGiEpKQkTJkwQGl/Opeu9vLywY8cOnY2hPv74Y2HxAflrUPXq1cO4ceOQlJQEJycnISPIDD4hyLmqYfFRKMOHDxc2CqW4cePGYc+ePejRowe6d++OgQMHCo0/bNgwDBw4EHfv3oWHh4fQhf+Awo7k4OBgXLlyBXZ2dpg7d66w2Bs2bHhivXkRy0to2pkfPHiAQ4cOCW/b15cNGzZg5cqV2h+9qlWr4tdffxUWv2PHjujatSvS09NhZ2eHGjVqCIsNyLt0/YQJE1C/fn1cuHABpqamsiyhrlKpkJOTo61BiW42Wr16NWJiYtCqVSusWLECffr0KfUoLINPCHPnzkVERAQWLlwIZ2dnoR07co1CAYCEhARMnToVmzZtwr179zBz5kxYW1sL2RqyuD59+uA///kPUlNTYWdnJ2yBtZSUFERERMDOzg5BQUEYN24crly5gnPnzglri1+9ejWWLVuG6tWrC4n3uLFjx6JevXraDv6KVkPYuHEjoqKisGTJEvTu3Vvo0ipA4ZpParUa3bt3h7W1tfCEIOfS9UBhx/KUKVMwd+5cDBkyRGhs4Mka1Pjx44XGj4mJwdq1a2FsbIzc3Fx4eXmVfp6GVAmcP39eiomJkc6ePSs0blRUlOTt7S1169ZNGjlypPTDDz8Ii+3n5yclJiZKkiRJffr0kc6cOSM9ePBA8vT0FPYakiRJs2fP1t6OjY2VevbsKSSul5eX9Oeff0oxMTGSi4uLlJKSIt2/f1/y8PAQEl+SJMnf31/Ky8sTFu9xQ4cOlS22PowYMUKSJEmaNGmSJEmSNHjwYOGv8eDBAykmJkb68MMPpX79+gmNfeHCBSkmJkY6fvy4NGDAAGnlypXCYvv4+EiPHj2SPvvsM6mgoEDq27evsNjF3bt3T4qPj5fu3r0rPPbj55KI3waDryHIUa3SkHMUilTU95GRkYGcnBztFH7RbfwWFhaIjIzEw4cPcfHiRfzwww9C4hobG+Ott94CUPgd1K9fH0DhZD5ROnbsiHfffRf29vbaZT1EdJpq2qrt7e3xzz//aD97QPzSHnKytLTEnj17tPMz7t69KzT+nj178Ndff+HUqVN47bXXhM7xAQpHSTVq1AgAhM7wBQoHN6xatQpvvfUWunXrhrZt2wqND8i/hWbbtm0xYcIEtG3bFidOnEDr1q1LHdPgE4Ic1aqnjUJJTEzEzp07hY1C0WwXePDgQXTq1AlA4Q+VqPVuNAICAhAREYHU1NSnTph6WcU/n+I/oiK3QYyOjsbXX38NS0tLYTEB3SWSNbO4AbGb++jDl19+ibS0NEycOBErVqzQ7m4mSmRkJExNTTF69Gh06dKl1JMxHyfnntmvvfYaevXqBaCw2fTs2bNC4hYn9xaaQUFB+OOPP5CcnIxBgwYJmW9l8AlBkiTtyKKqVasKWfHxWaNQROrUqRO8vLxw48YNLFmyBGlpaZg5c6aw5Zcfv5q7ffu29piIky4pKQkTJ06EJEk6t0Wsaa9Ru3ZttGzZUnitSTObOj4+Xmcy1JEjR4S+jlw0e2lolu6+e/cuOnfuLHy/7N27d+PKlSv4888/MW7cODx69EjokGU59sw+fvw4kpKS8NNPP2m3/CwoKMDatWu1K6uKIvcWmleuXEFycjJycnJw+vRpnD59utRLkxh8QpCjWiX3pjUAMHr0aLzzzjuwsbFBjRo1kJaWBm9vb7z33ntC4ou60nqWr7/+Wnu7+HA7kUPv1Gq1ttNOUyMRsYXm8ePHkZycjJUrV8r+oyEHfe2lkZCQgNjYWBw6dAhmZmbo06ePsNiAPHtmW1lZ4fbt21Cr1dpOaoVCgUmTJgl9HaCw/MuWLZNtC82JEyeiS5cuQpfdN9iEsHjxYowZMwZBQUHYtm0b7ty5g4EDB+Ltt98udeynnWgaIr/w4rMnHRwc4ODgICy2xrFjx5CTkwNJkjBnzhx89tlncHNzK3VcETuXvYjoceMaVlZWuHXr1hM/GiI+F33QrChrZWUldKmQxy1evBg9e/bE4sWLhTcXAYUrFbu5uQndM7tx48Zo3LgxPDw8hC9n/rjc3FykpKTo7Own8vfBzMxM6GKFgAEnhL///lu7QNyWLVuEztAs3jF04cIF7cQQUctq69P8+fMRGRmJWbNmYf369fD39y/3P3yaLTQvXbr0RF+OiERU/EcjIyMDa9aswaFDh7RtzhVFcnIysrKyZPmxBgrb3l1dXQEU7l43ZcoUYYMSAGDUqFHCYj3u8OHD+P7776FWq4VvoanxeAfyzZs3hcTVJBhbW1v88ssvaNGihbClSQw2IUjFVuSQZFqdIyoqCjt27JBlBJO+mJqa4tVXX4WxsTFq1qwpfDarHDRbaN6+fVuW+Gq1WjsYQbOM+t69e4U3X8gtOTkZHTt2RI0aNbQ/GCKbCrdt2wZzc3OoVCp89dVXwmcq161bF/v379cZpSOq5rl8+XIsXbpUtpVggcK9odetW4fc3Fw8evQI9evXf27rQkmFhIRoBz1s3LgRWVlZMDIygoWFRakvfA02IRS/cpRrQtGOHTvETwzRMwsLC3z00UcYPHgw1q5dK+sJIopmJvHNmzfRs2dPdOrUSdiEOqBwb2lXV1dERkaifv36GDlyZIVLBgCwbt064ZvUF/ftt9/ik08+gUqlwvr164VvFDVmzBj07NlTlhqOXLu9FRcbG4vY2FiEhobio48+ErYd7uTJkxEcHIxNmzbhjz/+wMyZM2FpaYmxY8eWOrbBJoSEhAR4eXlpR7lobotcM1+OEUz69t///hdpaWlo2LAhLly4IOuoCNH69euHffv24dtvv4WjoyN69uyJd955p9RxfX19sWPHDly9ehXu7u6y1TDlIucm9UDhAn+aiywzMzPEx8drlyQR0amvUbduXeGzezXMzMwwcuRI2XZ7Awq3p9Xs4+Do6Kizf3NpfPXVV4iIiICJiQm+/vprLF++HI6Ojhg5cmSp//4NNiFs375dttibN2+Gq6urLCOY9O369evYu3cvdu/eDUDcfgv60LZtW9SvXx9NmzbF2rVrMWvWLCEJYfTo0Rg9ejSOHj2KTZs24cyZM5g/fz769eun7eAsz+TepP7xkWIiN/Uprnv37oiMjETDhg21x0TtWSD3bm8AUKdOHWzevBnVqlVDZGQklEqlkLjPmrQqoiXEYBOCyL1jH3f+/Hl8//33eOutt9C0aVPk5+cLG8Gkb3LvtyCnfv36oUqVKnBzc8Ps2bOF/1i3b98e7du3R1ZWFn7++WcEBgZi27ZtQl9DDnJvUq9px1cqlVi+fDlu3bqFt99+G02aNBESX2Pnzp1wdnbWNnWJbPp1c3PD1q1bcf36dXTo0EE7I1qU6OhohISE4NatW6hfvz7OnTunMxS7NJ41aVXEuSt2Rk8lMXXqVOzcuRMdO3ZEXFwcfvvtN9y6dUtYlVCfzMzM8PHHH6N27doIDw+XraNWDqNGjUKTJk1w4MAB/O9//8PBgwdleR0rKyv4+PhUiGRQXFpaGmJiYrB161Z07txZ+KbywcHBsLe3x+XLl2Fra4upU6cKjW9iYoJZs2Zh4sSJmDhxotAmnRkzZuDatWs4dOgQsrOzERQUJCz2okWLcOjQIeTn56NevXqoU6cO/v77b20tvLQ0k1a//fZb+Pj4IC0tDZ988omYSaulXg2JpIyMDGn+/PlS+/bty7oo/5qvr6908+ZNafz48VJ2drb0/vvvl3WR/hWVSiXFxsZKQ4cOlTp37lzWxSlX3N3dpbt370rDhw+XVCqVNGTIEKHxfXx8dP4vevG8adOmSUuXLpViY2OlgwcPSgcPHhQWW7Nwoeb/IheNdHd3lwoKCnSOqdVqaeDAgcJeIykpSbtgXmpqqvTbb78JiWuwTUb6oFKp8Pvvv2Pbtm3Izs6WZbaj3DT7LfTr1w/vvvsu+vXrV9ZFKrFPPvkE165dQ8uWLfHZZ58JXxq8opNjk/rHaZpzbty4IXwJkby8PFy+fBmXL1/WHhM1sSs/Px93796FQqGAUqkUWvZXXnnlieatqlWrwtzcXNhryDVplQnhJRw5cgTbtm3DkSNH8M477yAwMLBCdDYWV3y/gl69emlnPIpuB5aDZq+I2bNn48aNG5g5cyaOHz+OoKAg9OjRo6yLV27IsUl9cdOmTUNwcDCSk5MxYcIEzJgxQ2j8hg0bYsCAAcKHswKAv78/vL29cevWLXh6egpt7jIzM0N6ejrs7e21x9LT0yvGfhpC6hmVzJAhQ6Tt27dLKpWqrIvy0vSxX4Fc9LVXhCFQKpWSJEnSzZs3ZX8ttVotNN66deskT09Pafz48dIff/zxRDOMCHfu3BEe98KFC5Krq6s0d+5cafXq1VJ4eLjk6uoqJSQkCH0dObCG8BLWrFlT1kUoNX3sVyAXSU97RVR0Fy9exIwZM/DgwQO4ubmhUaNG6N69u7D469evx08//aTdotPY2Bi//fabsPje3t7w9vbGxYsXsXTpUsyYMQODBg3CsGHDXnqy2q5duxAeHg4zMzPMnz9feK0JKNzHYd26ddi7dy9u3ryJFi1aYOzYsbCwsBD+WqLxDKqk9LFfgVz0tVdERffll18iLCwM1tbWcHd3x6JFi4TG37RpE6KiotC1a1eEhYXpzBcQISsrC+vXr8f06dORlZWFqVOnomHDhto1yl7GqlWrsH37dvzwww9YvHixwNLqsrS0RP/+/TF69Gi4urpWiGQAsA+h0tLHfgVykXuvCEPi6OgIhUIBGxsboZ2aAFCjRg3UqlUL2dnZ6NChA7755huh8d3d3dG+fXt88cUXqFevnnYZjnPnzr10TBMTE1SvXh3Vq1evkMPE5caEUEnpY78Cuci9V4ShqF69OjZs2ICcnBzExMQIWxPI399fu1OdHFt0JiUlYfbs2di9ezfef/99XLx4ERkZGZgzZw66dOmCgIAAIa8jVbAlSfRBIfFTITJISqUSS5cuxYULF9CgQQN8/PHHsLa2LnVcX19frF69GkqlEunp6Xj11VexYsUK9OjRQ8hqpJ988gnGjh2Lli1bwsfHB1FRUUhNTcW0adNKvc1r9+7d4ebmBkmSsGPHDp2l3kWvZVQRsYZAZKCysrJ01i96+PChkISQnp6OhQsX6hyrWrUq/vzzTyEJIScnBy1btgQA7X7Zjo6OyMvLK3Xs4kt0i16u2xAwIRAZqICAACgUChQUFODKlStwdHTE+vXrSx3XzMys1BuxPE/x/Q+Kd/xqVhYuDc3S6fR0TAhEBio6Olp7OysrCyEhIULi2trayvrDWqtWLcTHx+sMCY2Pj9fLXuaVHRMCUSVgaWmJtLQ0IbFef/11IXGeZdKkSRgzZgw6duwIR0dHpKen4/Dhw1i6dKmsr0vsVCYyWJ6entqtFu/evYtOnTpVmL0uHj16hH379uHKlSuoW7cu3nnnHaGTJpVKJWJjY3W2jBW110JFxoRAZKCuXr2qvW1qagpbW9syLE354uvri1q1amnnNigUCo4yApuMiAzW1q1bn/mYZjHDykqSJERGRpZ1McodLl1BZKBSU1Nx8+ZNODk5ITs7G8ePH4etrS1rCihc1ffUqVNQq9Xa/4hNRkQGa8SIEVixYsUz71dmffv2hVKp1PaxKBQK7N27t6yLVebYZERkoDIzM5GamgpHR0ckJyfj0aNHZV2kcsPPz69CbQalL0wIRAZqypQpGDduHDIzM1GvXj3MmjWrrItUbmzatIkJ4SnYZERkYDSLzwHAjz/+CD8/PwD/vwYRAR9++CHUajWcnJy0+2gsWLCgjEtV9lhDIDIwd+7c0d4+cOCANiHw2u//ffHFF2VdhHKJo4yIDFjxJFAh9vTVk+bNm+PQoUPYtm0bMjMzUbt27bIuUrnAhEBkYIr/8DMJPF1wcDDs7e1x+fJl2NraYurUqWVdpHKBTUZEBqYi74anL5mZmXB3d8f27dvRpk0bNqcVYUIgMjAVeTc8fdIkyBs3bmg7lis7jjIiokrn/PnzCAkJQXJyMpydnTFjxgy0aNGirItV5pgQiIgIAJuMiKgS6dGjh05Hu7GxMfLy8mBiYoJdu3aVYcnKByYEIqo0du/eDUmSMGvWLHh5eaFVq1Y4e/Ys1q1bV9ZFKxeYEIio0jAxMQEApKena7fobN68OVJSUsqyWOUGEwIRVTqWlpb4+uuv0apVK/zzzz+oV69eWRepXGCnMhFVOg8fPsTWrVuRlJQEZ2dnDB48GEZGRmVdrDLHwbdEVOmYmpoCKFzao6CgAPn5+WVcovKBCYGIKp3p06cjPT0dnTt3xtWrVzFt2rSyLlK5wD4EIqp0UlNTsXbtWgDAu+++y1ncRVhDIKJKR6VSIScnBwDw6NEjNhkVYQ2BiCodX19f9OvXD40aNUJSUhLGjx9f1kUqFzjKiIgqpczMTKSnp8POzg41atQo6+KUC6whEFGlMWXKlGc+FhYWpseSlE9MCERUaZw5cwaPHj1C37590bp1a+6D8Bg2GRFRpXLhwgVs374d8fHxePPNN9G3b184OjqWdbHKBSYEIqq0jh07hqioKNy4cQMbN24s6+KUOTYZEVGlo1Qq8fvvv2PHjh3IyclB3759y7pI5QJrCERUaezatQsxMTG4du0aevbsCVdXV9jZ2ZV1scoNJgQiqjSaNm0KZ2dnNG3aFAB0NstZsGBBWRWr3GCTERFVGqtXry7rIpRrrCEQEREArmVERERFmBCIiAgA+xCI/pVly5bhr7/+QpUqVaBQKBAQEIDXX3/9peOtWbMGQ4cOFVhCopfHPgSiEkpKSsK0adOwfv16KBQKJCYmIigoCNu3b3/pmG+99RYOHToksJREL481BKISsrGxwbVr17B582Z07doVzZo1w+bNm+Hj4wMnJyekpKRAkiR89dVXqFmzJsLDw3HixAkAgKurK4YNG4bJkycjMzMTmZmZ6NatG+7fv4+ZM2di5syZZfvmiMA+BKISs7GxwZIlS3Dy5El4enqid+/e2L9/PwCgTZs2iIqKQp8+ffD9999j//79uHLlCjZu3Ih169Zhx44dOH/+PACgY8eO2LBhAz799FNUr16dyYDKDdYQiEooNTUVFhYW2mWST58+jdGjR8PW1hYdO3YEUJgY9u3bhzp16qBdu3ZQKBSoWrUq3njjDSQnJwMAnJycyuw9ED0PawhEJXT+/HnMnDkTKpUKQOEPu6WlJYyMjHDmzBkAwMmTJ9GwYUM0aNBA21yUm5uLf/75R7uiZvHZsezCo/KENQSiEurZsyeSk5Ph4eGBV155BZIkITAwEKtWrcLWrVvx008/oVq1apg3bx5q1KiBo0ePwtPTE7m5uejduzdatGjxRMwGDRrgiy++QGRkZBm8IyJdHGVEVEo+Pj6YOXMmGjRoUNZFISoVNhkREREA1hCIiKgIawhERASACYGIiIowIRAREQAmBCIiKsKEQEREAID/A+KeZfTU1d0xAAAAAElFTkSuQmCC\n",
      "text/plain": [
       "<Figure size 432x288 with 1 Axes>"
      ]
     },
     "metadata": {},
     "output_type": "display_data"
    }
   ],
   "source": [
    "sns.countplot(x = df_dados_tratados['Sport'], palette=\"ch:s=.25,rot=-.25\" );\n",
    "plt.xticks(rotation=90);\n"
   ]
  },
  {
   "cell_type": "markdown",
   "metadata": {},
   "source": [
    "Repita o procedimento acima, mas com medalhas de ouro."
   ]
  },
  {
   "cell_type": "code",
   "execution_count": 4,
   "metadata": {},
   "outputs": [
    {
     "data": {
      "text/html": [
       "<div>\n",
       "<style scoped>\n",
       "    .dataframe tbody tr th:only-of-type {\n",
       "        vertical-align: middle;\n",
       "    }\n",
       "\n",
       "    .dataframe tbody tr th {\n",
       "        vertical-align: top;\n",
       "    }\n",
       "\n",
       "    .dataframe thead th {\n",
       "        text-align: right;\n",
       "    }\n",
       "</style>\n",
       "<table border=\"1\" class=\"dataframe\">\n",
       "  <thead>\n",
       "    <tr style=\"text-align: right;\">\n",
       "      <th></th>\n",
       "      <th>ID</th>\n",
       "      <th>Name</th>\n",
       "      <th>Sex</th>\n",
       "      <th>Age</th>\n",
       "      <th>Height</th>\n",
       "      <th>Weight</th>\n",
       "      <th>Team</th>\n",
       "      <th>NOC</th>\n",
       "      <th>Games</th>\n",
       "      <th>Year</th>\n",
       "      <th>Season</th>\n",
       "      <th>City</th>\n",
       "      <th>Sport</th>\n",
       "      <th>Event</th>\n",
       "      <th>Medal</th>\n",
       "    </tr>\n",
       "  </thead>\n",
       "  <tbody>\n",
       "    <tr>\n",
       "      <th>8</th>\n",
       "      <td>918</td>\n",
       "      <td>Ademir Roque Kaefer</td>\n",
       "      <td>M</td>\n",
       "      <td>24.0</td>\n",
       "      <td>179.0</td>\n",
       "      <td>74.0</td>\n",
       "      <td>Brazil</td>\n",
       "      <td>BRA</td>\n",
       "      <td>1984 Summer</td>\n",
       "      <td>1984</td>\n",
       "      <td>Summer</td>\n",
       "      <td>Los Angeles</td>\n",
       "      <td>Football</td>\n",
       "      <td>Football Men's Football</td>\n",
       "      <td>Silver</td>\n",
       "    </tr>\n",
       "    <tr>\n",
       "      <th>9</th>\n",
       "      <td>918</td>\n",
       "      <td>Ademir Roque Kaefer</td>\n",
       "      <td>M</td>\n",
       "      <td>28.0</td>\n",
       "      <td>179.0</td>\n",
       "      <td>74.0</td>\n",
       "      <td>Brazil</td>\n",
       "      <td>BRA</td>\n",
       "      <td>1988 Summer</td>\n",
       "      <td>1988</td>\n",
       "      <td>Summer</td>\n",
       "      <td>Seoul</td>\n",
       "      <td>Football</td>\n",
       "      <td>Football Men's Football</td>\n",
       "      <td>Silver</td>\n",
       "    </tr>\n",
       "    <tr>\n",
       "      <th>10</th>\n",
       "      <td>925</td>\n",
       "      <td>Adenzia Aparecida Ferreira da Silva</td>\n",
       "      <td>F</td>\n",
       "      <td>25.0</td>\n",
       "      <td>187.0</td>\n",
       "      <td>65.0</td>\n",
       "      <td>Brazil</td>\n",
       "      <td>BRA</td>\n",
       "      <td>2012 Summer</td>\n",
       "      <td>2012</td>\n",
       "      <td>Summer</td>\n",
       "      <td>London</td>\n",
       "      <td>Volleyball</td>\n",
       "      <td>Volleyball Women's Volleyball</td>\n",
       "      <td>Gold</td>\n",
       "    </tr>\n",
       "    <tr>\n",
       "      <th>20</th>\n",
       "      <td>966</td>\n",
       "      <td>Daniel Adler</td>\n",
       "      <td>M</td>\n",
       "      <td>26.0</td>\n",
       "      <td>180.0</td>\n",
       "      <td>72.0</td>\n",
       "      <td>Brazil</td>\n",
       "      <td>BRA</td>\n",
       "      <td>1984 Summer</td>\n",
       "      <td>1984</td>\n",
       "      <td>Summer</td>\n",
       "      <td>Los Angeles</td>\n",
       "      <td>Sailing</td>\n",
       "      <td>Sailing Mixed Three Person Keelboat</td>\n",
       "      <td>Silver</td>\n",
       "    </tr>\n",
       "    <tr>\n",
       "      <th>24</th>\n",
       "      <td>1020</td>\n",
       "      <td>Adriana Aparecida dos Santos</td>\n",
       "      <td>F</td>\n",
       "      <td>25.0</td>\n",
       "      <td>180.0</td>\n",
       "      <td>61.0</td>\n",
       "      <td>Brazil</td>\n",
       "      <td>BRA</td>\n",
       "      <td>1996 Summer</td>\n",
       "      <td>1996</td>\n",
       "      <td>Summer</td>\n",
       "      <td>Atlanta</td>\n",
       "      <td>Basketball</td>\n",
       "      <td>Basketball Women's Basketball</td>\n",
       "      <td>Silver</td>\n",
       "    </tr>\n",
       "  </tbody>\n",
       "</table>\n",
       "</div>"
      ],
      "text/plain": [
       "      ID                                 Name Sex   Age  Height  Weight  \\\n",
       "8    918                  Ademir Roque Kaefer   M  24.0   179.0    74.0   \n",
       "9    918                  Ademir Roque Kaefer   M  28.0   179.0    74.0   \n",
       "10   925  Adenzia Aparecida Ferreira da Silva   F  25.0   187.0    65.0   \n",
       "20   966                         Daniel Adler   M  26.0   180.0    72.0   \n",
       "24  1020         Adriana Aparecida dos Santos   F  25.0   180.0    61.0   \n",
       "\n",
       "      Team  NOC        Games  Year  Season         City       Sport  \\\n",
       "8   Brazil  BRA  1984 Summer  1984  Summer  Los Angeles    Football   \n",
       "9   Brazil  BRA  1988 Summer  1988  Summer        Seoul    Football   \n",
       "10  Brazil  BRA  2012 Summer  2012  Summer       London  Volleyball   \n",
       "20  Brazil  BRA  1984 Summer  1984  Summer  Los Angeles     Sailing   \n",
       "24  Brazil  BRA  1996 Summer  1996  Summer      Atlanta  Basketball   \n",
       "\n",
       "                                  Event   Medal  \n",
       "8               Football Men's Football  Silver  \n",
       "9               Football Men's Football  Silver  \n",
       "10        Volleyball Women's Volleyball    Gold  \n",
       "20  Sailing Mixed Three Person Keelboat  Silver  \n",
       "24        Basketball Women's Basketball  Silver  "
      ]
     },
     "execution_count": 4,
     "metadata": {},
     "output_type": "execute_result"
    }
   ],
   "source": [
    "df_brasil_olimpico.dropna(inplace = True)\n",
    "df_brasil_olimpico.head()"
   ]
  },
  {
   "cell_type": "code",
   "execution_count": 5,
   "metadata": {
    "ExecuteTime": {
     "end_time": "2021-10-28T01:17:56.340857Z",
     "start_time": "2021-10-28T01:17:56.013850Z"
    }
   },
   "outputs": [
    {
     "data": {
      "text/plain": [
       "<AxesSubplot:xlabel='Gold', ylabel='Sport'>"
      ]
     },
     "execution_count": 5,
     "metadata": {},
     "output_type": "execute_result"
    },
    {
     "data": {
      "image/png": "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\n",
      "text/plain": [
       "<Figure size 432x288 with 1 Axes>"
      ]
     },
     "metadata": {},
     "output_type": "display_data"
    }
   ],
   "source": [
    "sns.barplot(y='Sport', x=\"Gold\", palette=\"flare\", data=df_ouros, order = df_ouros.sort_values('Gold').Sport)"
   ]
  },
  {
   "cell_type": "markdown",
   "metadata": {
    "id": "Nly79TxCNY8F"
   },
   "source": [
    "Agora faça um gráfico de setores (pizza) mostrando a distribuição de medalhas de ouro do Brasil por esporte."
   ]
  },
  {
   "cell_type": "code",
   "execution_count": 9,
   "metadata": {
    "ExecuteTime": {
     "end_time": "2021-10-28T01:19:05.738514Z",
     "start_time": "2021-10-28T01:19:03.938946Z"
    },
    "id": "nFxsNiQUNY8F"
   },
   "outputs": [
    {
     "data": {
      "text/html": [
       "<div>\n",
       "<style scoped>\n",
       "    .dataframe tbody tr th:only-of-type {\n",
       "        vertical-align: middle;\n",
       "    }\n",
       "\n",
       "    .dataframe tbody tr th {\n",
       "        vertical-align: top;\n",
       "    }\n",
       "\n",
       "    .dataframe thead th {\n",
       "        text-align: right;\n",
       "    }\n",
       "</style>\n",
       "<table border=\"1\" class=\"dataframe\">\n",
       "  <thead>\n",
       "    <tr style=\"text-align: right;\">\n",
       "      <th></th>\n",
       "      <th>ID</th>\n",
       "      <th>Name</th>\n",
       "      <th>Sex</th>\n",
       "      <th>Age</th>\n",
       "      <th>Height</th>\n",
       "      <th>Weight</th>\n",
       "      <th>Team</th>\n",
       "      <th>NOC</th>\n",
       "      <th>Games</th>\n",
       "      <th>Year</th>\n",
       "      <th>Season</th>\n",
       "      <th>City</th>\n",
       "      <th>Sport</th>\n",
       "      <th>Event</th>\n",
       "      <th>Medal</th>\n",
       "    </tr>\n",
       "  </thead>\n",
       "  <tbody>\n",
       "    <tr>\n",
       "      <th>8</th>\n",
       "      <td>918</td>\n",
       "      <td>Ademir Roque Kaefer</td>\n",
       "      <td>M</td>\n",
       "      <td>24.0</td>\n",
       "      <td>179.0</td>\n",
       "      <td>74.0</td>\n",
       "      <td>Brazil</td>\n",
       "      <td>BRA</td>\n",
       "      <td>1984 Summer</td>\n",
       "      <td>1984</td>\n",
       "      <td>Summer</td>\n",
       "      <td>Los Angeles</td>\n",
       "      <td>Football</td>\n",
       "      <td>Football Men's Football</td>\n",
       "      <td>Silver</td>\n",
       "    </tr>\n",
       "    <tr>\n",
       "      <th>9</th>\n",
       "      <td>918</td>\n",
       "      <td>Ademir Roque Kaefer</td>\n",
       "      <td>M</td>\n",
       "      <td>28.0</td>\n",
       "      <td>179.0</td>\n",
       "      <td>74.0</td>\n",
       "      <td>Brazil</td>\n",
       "      <td>BRA</td>\n",
       "      <td>1988 Summer</td>\n",
       "      <td>1988</td>\n",
       "      <td>Summer</td>\n",
       "      <td>Seoul</td>\n",
       "      <td>Football</td>\n",
       "      <td>Football Men's Football</td>\n",
       "      <td>Silver</td>\n",
       "    </tr>\n",
       "    <tr>\n",
       "      <th>10</th>\n",
       "      <td>925</td>\n",
       "      <td>Adenzia Aparecida Ferreira da Silva</td>\n",
       "      <td>F</td>\n",
       "      <td>25.0</td>\n",
       "      <td>187.0</td>\n",
       "      <td>65.0</td>\n",
       "      <td>Brazil</td>\n",
       "      <td>BRA</td>\n",
       "      <td>2012 Summer</td>\n",
       "      <td>2012</td>\n",
       "      <td>Summer</td>\n",
       "      <td>London</td>\n",
       "      <td>Volleyball</td>\n",
       "      <td>Volleyball Women's Volleyball</td>\n",
       "      <td>Gold</td>\n",
       "    </tr>\n",
       "    <tr>\n",
       "      <th>20</th>\n",
       "      <td>966</td>\n",
       "      <td>Daniel Adler</td>\n",
       "      <td>M</td>\n",
       "      <td>26.0</td>\n",
       "      <td>180.0</td>\n",
       "      <td>72.0</td>\n",
       "      <td>Brazil</td>\n",
       "      <td>BRA</td>\n",
       "      <td>1984 Summer</td>\n",
       "      <td>1984</td>\n",
       "      <td>Summer</td>\n",
       "      <td>Los Angeles</td>\n",
       "      <td>Sailing</td>\n",
       "      <td>Sailing Mixed Three Person Keelboat</td>\n",
       "      <td>Silver</td>\n",
       "    </tr>\n",
       "    <tr>\n",
       "      <th>24</th>\n",
       "      <td>1020</td>\n",
       "      <td>Adriana Aparecida dos Santos</td>\n",
       "      <td>F</td>\n",
       "      <td>25.0</td>\n",
       "      <td>180.0</td>\n",
       "      <td>61.0</td>\n",
       "      <td>Brazil</td>\n",
       "      <td>BRA</td>\n",
       "      <td>1996 Summer</td>\n",
       "      <td>1996</td>\n",
       "      <td>Summer</td>\n",
       "      <td>Atlanta</td>\n",
       "      <td>Basketball</td>\n",
       "      <td>Basketball Women's Basketball</td>\n",
       "      <td>Silver</td>\n",
       "    </tr>\n",
       "    <tr>\n",
       "      <th>...</th>\n",
       "      <td>...</td>\n",
       "      <td>...</td>\n",
       "      <td>...</td>\n",
       "      <td>...</td>\n",
       "      <td>...</td>\n",
       "      <td>...</td>\n",
       "      <td>...</td>\n",
       "      <td>...</td>\n",
       "      <td>...</td>\n",
       "      <td>...</td>\n",
       "      <td>...</td>\n",
       "      <td>...</td>\n",
       "      <td>...</td>\n",
       "      <td>...</td>\n",
       "      <td>...</td>\n",
       "    </tr>\n",
       "    <tr>\n",
       "      <th>3400</th>\n",
       "      <td>111358</td>\n",
       "      <td>Maicon de Andrade Siqueira</td>\n",
       "      <td>M</td>\n",
       "      <td>23.0</td>\n",
       "      <td>190.0</td>\n",
       "      <td>90.0</td>\n",
       "      <td>Brazil</td>\n",
       "      <td>BRA</td>\n",
       "      <td>2016 Summer</td>\n",
       "      <td>2016</td>\n",
       "      <td>Summer</td>\n",
       "      <td>Rio de Janeiro</td>\n",
       "      <td>Taekwondo</td>\n",
       "      <td>Taekwondo Men's Heavyweight</td>\n",
       "      <td>Bronze</td>\n",
       "    </tr>\n",
       "    <tr>\n",
       "      <th>3656</th>\n",
       "      <td>126422</td>\n",
       "      <td>Douglas Eduardo Vieira</td>\n",
       "      <td>M</td>\n",
       "      <td>24.0</td>\n",
       "      <td>170.0</td>\n",
       "      <td>95.0</td>\n",
       "      <td>Brazil</td>\n",
       "      <td>BRA</td>\n",
       "      <td>1984 Summer</td>\n",
       "      <td>1984</td>\n",
       "      <td>Summer</td>\n",
       "      <td>Los Angeles</td>\n",
       "      <td>Judo</td>\n",
       "      <td>Judo Men's Half-Heavyweight</td>\n",
       "      <td>Silver</td>\n",
       "    </tr>\n",
       "    <tr>\n",
       "      <th>3716</th>\n",
       "      <td>131784</td>\n",
       "      <td>Felipe Almeida Wu</td>\n",
       "      <td>M</td>\n",
       "      <td>24.0</td>\n",
       "      <td>169.0</td>\n",
       "      <td>69.0</td>\n",
       "      <td>Brazil</td>\n",
       "      <td>BRA</td>\n",
       "      <td>2016 Summer</td>\n",
       "      <td>2016</td>\n",
       "      <td>Summer</td>\n",
       "      <td>Rio de Janeiro</td>\n",
       "      <td>Shooting</td>\n",
       "      <td>Shooting Men's Air Pistol, 10 metres</td>\n",
       "      <td>Silver</td>\n",
       "    </tr>\n",
       "    <tr>\n",
       "      <th>3736</th>\n",
       "      <td>133931</td>\n",
       "      <td>Arthur Nabarrete Zanetti</td>\n",
       "      <td>M</td>\n",
       "      <td>22.0</td>\n",
       "      <td>156.0</td>\n",
       "      <td>61.0</td>\n",
       "      <td>Brazil</td>\n",
       "      <td>BRA</td>\n",
       "      <td>2012 Summer</td>\n",
       "      <td>2012</td>\n",
       "      <td>Summer</td>\n",
       "      <td>London</td>\n",
       "      <td>Gymnastics</td>\n",
       "      <td>Gymnastics Men's Rings</td>\n",
       "      <td>Gold</td>\n",
       "    </tr>\n",
       "    <tr>\n",
       "      <th>3738</th>\n",
       "      <td>133931</td>\n",
       "      <td>Arthur Nabarrete Zanetti</td>\n",
       "      <td>M</td>\n",
       "      <td>26.0</td>\n",
       "      <td>156.0</td>\n",
       "      <td>61.0</td>\n",
       "      <td>Brazil</td>\n",
       "      <td>BRA</td>\n",
       "      <td>2016 Summer</td>\n",
       "      <td>2016</td>\n",
       "      <td>Summer</td>\n",
       "      <td>Rio de Janeiro</td>\n",
       "      <td>Gymnastics</td>\n",
       "      <td>Gymnastics Men's Rings</td>\n",
       "      <td>Silver</td>\n",
       "    </tr>\n",
       "  </tbody>\n",
       "</table>\n",
       "<p>109 rows × 15 columns</p>\n",
       "</div>"
      ],
      "text/plain": [
       "          ID                                 Name Sex   Age  Height  Weight  \\\n",
       "8        918                  Ademir Roque Kaefer   M  24.0   179.0    74.0   \n",
       "9        918                  Ademir Roque Kaefer   M  28.0   179.0    74.0   \n",
       "10       925  Adenzia Aparecida Ferreira da Silva   F  25.0   187.0    65.0   \n",
       "20       966                         Daniel Adler   M  26.0   180.0    72.0   \n",
       "24      1020         Adriana Aparecida dos Santos   F  25.0   180.0    61.0   \n",
       "...      ...                                  ...  ..   ...     ...     ...   \n",
       "3400  111358           Maicon de Andrade Siqueira   M  23.0   190.0    90.0   \n",
       "3656  126422               Douglas Eduardo Vieira   M  24.0   170.0    95.0   \n",
       "3716  131784                    Felipe Almeida Wu   M  24.0   169.0    69.0   \n",
       "3736  133931             Arthur Nabarrete Zanetti   M  22.0   156.0    61.0   \n",
       "3738  133931             Arthur Nabarrete Zanetti   M  26.0   156.0    61.0   \n",
       "\n",
       "        Team  NOC        Games  Year  Season            City       Sport  \\\n",
       "8     Brazil  BRA  1984 Summer  1984  Summer     Los Angeles    Football   \n",
       "9     Brazil  BRA  1988 Summer  1988  Summer           Seoul    Football   \n",
       "10    Brazil  BRA  2012 Summer  2012  Summer          London  Volleyball   \n",
       "20    Brazil  BRA  1984 Summer  1984  Summer     Los Angeles     Sailing   \n",
       "24    Brazil  BRA  1996 Summer  1996  Summer         Atlanta  Basketball   \n",
       "...      ...  ...          ...   ...     ...             ...         ...   \n",
       "3400  Brazil  BRA  2016 Summer  2016  Summer  Rio de Janeiro   Taekwondo   \n",
       "3656  Brazil  BRA  1984 Summer  1984  Summer     Los Angeles        Judo   \n",
       "3716  Brazil  BRA  2016 Summer  2016  Summer  Rio de Janeiro    Shooting   \n",
       "3736  Brazil  BRA  2012 Summer  2012  Summer          London  Gymnastics   \n",
       "3738  Brazil  BRA  2016 Summer  2016  Summer  Rio de Janeiro  Gymnastics   \n",
       "\n",
       "                                     Event   Medal  \n",
       "8                  Football Men's Football  Silver  \n",
       "9                  Football Men's Football  Silver  \n",
       "10           Volleyball Women's Volleyball    Gold  \n",
       "20     Sailing Mixed Three Person Keelboat  Silver  \n",
       "24           Basketball Women's Basketball  Silver  \n",
       "...                                    ...     ...  \n",
       "3400           Taekwondo Men's Heavyweight  Bronze  \n",
       "3656           Judo Men's Half-Heavyweight  Silver  \n",
       "3716  Shooting Men's Air Pistol, 10 metres  Silver  \n",
       "3736                Gymnastics Men's Rings    Gold  \n",
       "3738                Gymnastics Men's Rings  Silver  \n",
       "\n",
       "[109 rows x 15 columns]"
      ]
     },
     "execution_count": 5,
     "metadata": {},
     "output_type": "execute_result"
    }
   ],
   "source": [
    "df_dados_tratados = df_brasil_olimpico.drop_duplicates(subset=['Team','NOC','Games','Year','City','Sport','Event','Medal'])\n",
    "df_dados_tratados"
   ]
  },
  {
   "cell_type": "markdown",
   "metadata": {
    "id": "Nm_QlGDDNY8A"
   },
   "source": [
    "Vamos caracterizar fisicamente nossos medalhistas, verificando se há alguma correlação entre o desempenho em certos esportes e o tipo físico dos atletas. \n",
    "\n",
    "Gere um gráfico de barras contendo os diferentes esportes no eixo X e a altura dos atletas no eixo Y. Utilize barras lado-a-lado para separar atletas do sexo masculino e feminino."
   ]
  },
  {
   "cell_type": "code",
   "execution_count": 6,
   "metadata": {
    "id": "Fceufll3NY8A"
   },
   "outputs": [
    {
     "data": {
      "text/html": [
       "<div>\n",
       "<style scoped>\n",
       "    .dataframe tbody tr th:only-of-type {\n",
       "        vertical-align: middle;\n",
       "    }\n",
       "\n",
       "    .dataframe tbody tr th {\n",
       "        vertical-align: top;\n",
       "    }\n",
       "\n",
       "    .dataframe thead th {\n",
       "        text-align: right;\n",
       "    }\n",
       "</style>\n",
       "<table border=\"1\" class=\"dataframe\">\n",
       "  <thead>\n",
       "    <tr style=\"text-align: right;\">\n",
       "      <th></th>\n",
       "      <th>Sex</th>\n",
       "      <th>Height</th>\n",
       "      <th>Sport</th>\n",
       "    </tr>\n",
       "  </thead>\n",
       "  <tbody>\n",
       "    <tr>\n",
       "      <th>0</th>\n",
       "      <td>M</td>\n",
       "      <td>168.0</td>\n",
       "      <td>Athletics</td>\n",
       "    </tr>\n",
       "    <tr>\n",
       "      <th>1</th>\n",
       "      <td>M</td>\n",
       "      <td>186.0</td>\n",
       "      <td>Athletics</td>\n",
       "    </tr>\n",
       "    <tr>\n",
       "      <th>2</th>\n",
       "      <td>M</td>\n",
       "      <td>186.0</td>\n",
       "      <td>Athletics</td>\n",
       "    </tr>\n",
       "    <tr>\n",
       "      <th>3</th>\n",
       "      <td>M</td>\n",
       "      <td>187.0</td>\n",
       "      <td>Athletics</td>\n",
       "    </tr>\n",
       "    <tr>\n",
       "      <th>4</th>\n",
       "      <td>M</td>\n",
       "      <td>187.0</td>\n",
       "      <td>Athletics</td>\n",
       "    </tr>\n",
       "    <tr>\n",
       "      <th>...</th>\n",
       "      <td>...</td>\n",
       "      <td>...</td>\n",
       "      <td>...</td>\n",
       "    </tr>\n",
       "    <tr>\n",
       "      <th>104</th>\n",
       "      <td>M</td>\n",
       "      <td>190.0</td>\n",
       "      <td>Volleyball</td>\n",
       "    </tr>\n",
       "    <tr>\n",
       "      <th>105</th>\n",
       "      <td>M</td>\n",
       "      <td>186.0</td>\n",
       "      <td>Volleyball</td>\n",
       "    </tr>\n",
       "    <tr>\n",
       "      <th>106</th>\n",
       "      <td>M</td>\n",
       "      <td>190.0</td>\n",
       "      <td>Volleyball</td>\n",
       "    </tr>\n",
       "    <tr>\n",
       "      <th>107</th>\n",
       "      <td>M</td>\n",
       "      <td>198.0</td>\n",
       "      <td>Volleyball</td>\n",
       "    </tr>\n",
       "    <tr>\n",
       "      <th>108</th>\n",
       "      <td>F</td>\n",
       "      <td>187.0</td>\n",
       "      <td>Volleyball</td>\n",
       "    </tr>\n",
       "  </tbody>\n",
       "</table>\n",
       "<p>109 rows × 3 columns</p>\n",
       "</div>"
      ],
      "text/plain": [
       "    Sex  Height       Sport\n",
       "0     M   168.0   Athletics\n",
       "1     M   186.0   Athletics\n",
       "2     M   186.0   Athletics\n",
       "3     M   187.0   Athletics\n",
       "4     M   187.0   Athletics\n",
       "..   ..     ...         ...\n",
       "104   M   190.0  Volleyball\n",
       "105   M   186.0  Volleyball\n",
       "106   M   190.0  Volleyball\n",
       "107   M   198.0  Volleyball\n",
       "108   F   187.0  Volleyball\n",
       "\n",
       "[109 rows x 3 columns]"
      ]
     },
     "execution_count": 6,
     "metadata": {},
     "output_type": "execute_result"
    }
   ],
   "source": [
    "# Grouped Bar Chart\n",
    "import plotly.graph_objects as go\n",
    "\n",
    "# Tratando o dataframe que será efetivamente utilizado para ter menos dados:\n",
    "df_esportes_altura = df_dados_tratados[['Sex', 'Height', 'Sport']]\n",
    "df_esportes_altura = df_esportes_altura.sort_values(by = 'Sport', ascending=True)\n",
    "df_esportes_altura = df_esportes_altura.reset_index()\n",
    "df_esportes_altura.drop('index', inplace=True, axis=1)\n",
    "df_esportes_altura"
   ]
  },
  {
   "cell_type": "code",
   "execution_count": 7,
   "metadata": {},
   "outputs": [
    {
     "data": {
      "text/html": [
       "<div>\n",
       "<style scoped>\n",
       "    .dataframe tbody tr th:only-of-type {\n",
       "        vertical-align: middle;\n",
       "    }\n",
       "\n",
       "    .dataframe tbody tr th {\n",
       "        vertical-align: top;\n",
       "    }\n",
       "\n",
       "    .dataframe thead th {\n",
       "        text-align: right;\n",
       "    }\n",
       "</style>\n",
       "<table border=\"1\" class=\"dataframe\">\n",
       "  <thead>\n",
       "    <tr style=\"text-align: right;\">\n",
       "      <th></th>\n",
       "      <th>Sport</th>\n",
       "      <th>Sex</th>\n",
       "      <th>Height</th>\n",
       "    </tr>\n",
       "  </thead>\n",
       "  <tbody>\n",
       "    <tr>\n",
       "      <th>0</th>\n",
       "      <td>Athletics</td>\n",
       "      <td>F</td>\n",
       "      <td>173.00</td>\n",
       "    </tr>\n",
       "    <tr>\n",
       "      <th>1</th>\n",
       "      <td>Athletics</td>\n",
       "      <td>M</td>\n",
       "      <td>183.07</td>\n",
       "    </tr>\n",
       "    <tr>\n",
       "      <th>2</th>\n",
       "      <td>Basketball</td>\n",
       "      <td>F</td>\n",
       "      <td>180.00</td>\n",
       "    </tr>\n",
       "    <tr>\n",
       "      <th>3</th>\n",
       "      <td>Basketball</td>\n",
       "      <td>M</td>\n",
       "      <td>185.33</td>\n",
       "    </tr>\n",
       "    <tr>\n",
       "      <th>4</th>\n",
       "      <td>Boxing</td>\n",
       "      <td>F</td>\n",
       "      <td>167.00</td>\n",
       "    </tr>\n",
       "    <tr>\n",
       "      <th>5</th>\n",
       "      <td>Boxing</td>\n",
       "      <td>M</td>\n",
       "      <td>170.75</td>\n",
       "    </tr>\n",
       "    <tr>\n",
       "      <th>6</th>\n",
       "      <td>Canoeing</td>\n",
       "      <td>M</td>\n",
       "      <td>175.00</td>\n",
       "    </tr>\n",
       "    <tr>\n",
       "      <th>7</th>\n",
       "      <td>Equestrianism</td>\n",
       "      <td>M</td>\n",
       "      <td>178.33</td>\n",
       "    </tr>\n",
       "    <tr>\n",
       "      <th>8</th>\n",
       "      <td>Football</td>\n",
       "      <td>F</td>\n",
       "      <td>177.50</td>\n",
       "    </tr>\n",
       "    <tr>\n",
       "      <th>9</th>\n",
       "      <td>Football</td>\n",
       "      <td>M</td>\n",
       "      <td>178.33</td>\n",
       "    </tr>\n",
       "    <tr>\n",
       "      <th>10</th>\n",
       "      <td>Gymnastics</td>\n",
       "      <td>M</td>\n",
       "      <td>162.75</td>\n",
       "    </tr>\n",
       "    <tr>\n",
       "      <th>11</th>\n",
       "      <td>Judo</td>\n",
       "      <td>F</td>\n",
       "      <td>168.20</td>\n",
       "    </tr>\n",
       "    <tr>\n",
       "      <th>12</th>\n",
       "      <td>Judo</td>\n",
       "      <td>M</td>\n",
       "      <td>179.31</td>\n",
       "    </tr>\n",
       "    <tr>\n",
       "      <th>13</th>\n",
       "      <td>Modern Pentathlon</td>\n",
       "      <td>F</td>\n",
       "      <td>166.00</td>\n",
       "    </tr>\n",
       "    <tr>\n",
       "      <th>14</th>\n",
       "      <td>Sailing</td>\n",
       "      <td>F</td>\n",
       "      <td>164.50</td>\n",
       "    </tr>\n",
       "    <tr>\n",
       "      <th>15</th>\n",
       "      <td>Sailing</td>\n",
       "      <td>M</td>\n",
       "      <td>182.69</td>\n",
       "    </tr>\n",
       "    <tr>\n",
       "      <th>16</th>\n",
       "      <td>Shooting</td>\n",
       "      <td>M</td>\n",
       "      <td>169.00</td>\n",
       "    </tr>\n",
       "    <tr>\n",
       "      <th>17</th>\n",
       "      <td>Swimming</td>\n",
       "      <td>F</td>\n",
       "      <td>165.00</td>\n",
       "    </tr>\n",
       "    <tr>\n",
       "      <th>18</th>\n",
       "      <td>Swimming</td>\n",
       "      <td>M</td>\n",
       "      <td>192.45</td>\n",
       "    </tr>\n",
       "    <tr>\n",
       "      <th>19</th>\n",
       "      <td>Taekwondo</td>\n",
       "      <td>F</td>\n",
       "      <td>178.00</td>\n",
       "    </tr>\n",
       "    <tr>\n",
       "      <th>20</th>\n",
       "      <td>Taekwondo</td>\n",
       "      <td>M</td>\n",
       "      <td>190.00</td>\n",
       "    </tr>\n",
       "    <tr>\n",
       "      <th>21</th>\n",
       "      <td>Volleyball</td>\n",
       "      <td>F</td>\n",
       "      <td>185.00</td>\n",
       "    </tr>\n",
       "    <tr>\n",
       "      <th>22</th>\n",
       "      <td>Volleyball</td>\n",
       "      <td>M</td>\n",
       "      <td>192.67</td>\n",
       "    </tr>\n",
       "  </tbody>\n",
       "</table>\n",
       "</div>"
      ],
      "text/plain": [
       "                Sport Sex  Height\n",
       "0           Athletics   F  173.00\n",
       "1           Athletics   M  183.07\n",
       "2          Basketball   F  180.00\n",
       "3          Basketball   M  185.33\n",
       "4              Boxing   F  167.00\n",
       "5              Boxing   M  170.75\n",
       "6            Canoeing   M  175.00\n",
       "7       Equestrianism   M  178.33\n",
       "8            Football   F  177.50\n",
       "9            Football   M  178.33\n",
       "10         Gymnastics   M  162.75\n",
       "11               Judo   F  168.20\n",
       "12               Judo   M  179.31\n",
       "13  Modern Pentathlon   F  166.00\n",
       "14            Sailing   F  164.50\n",
       "15            Sailing   M  182.69\n",
       "16           Shooting   M  169.00\n",
       "17           Swimming   F  165.00\n",
       "18           Swimming   M  192.45\n",
       "19          Taekwondo   F  178.00\n",
       "20          Taekwondo   M  190.00\n",
       "21         Volleyball   F  185.00\n",
       "22         Volleyball   M  192.67"
      ]
     },
     "execution_count": 7,
     "metadata": {},
     "output_type": "execute_result"
    }
   ],
   "source": [
    "# Agrupando dados e calculando as médias de alturas para plotar o gráfico de barras:\n",
    "df_agrupamento_alturas = df_esportes_altura.groupby(['Sport', 'Sex'])['Height'].mean().reset_index()\n",
    "df_agrupamento_alturas['Height'] = df_agrupamento_alturas['Height'].round(2)\n",
    "df_agrupamento_alturas"
   ]
  },
  {
   "cell_type": "code",
   "execution_count": 8,
   "metadata": {},
   "outputs": [
    {
     "data": {
      "application/vnd.plotly.v1+json": {
       "config": {
        "plotlyServerURL": "https://plot.ly"
       },
       "data": [
        {
         "alignmentgroup": "True",
         "hovertemplate": "Gênero=F<br>Esporte=%{x}<br>Altura Média (cm)=%{y}<extra></extra>",
         "legendgroup": "F",
         "marker": {
          "color": "red",
          "pattern": {
           "shape": ""
          }
         },
         "name": "F",
         "offsetgroup": "F",
         "orientation": "v",
         "showlegend": true,
         "textposition": "auto",
         "type": "bar",
         "x": [
          "Athletics",
          "Basketball",
          "Boxing",
          "Football",
          "Judo",
          "Modern Pentathlon",
          "Sailing",
          "Swimming",
          "Taekwondo",
          "Volleyball"
         ],
         "xaxis": "x",
         "y": [
          173,
          180,
          167,
          177.5,
          168.2,
          166,
          164.5,
          165,
          178,
          185
         ],
         "yaxis": "y"
        },
        {
         "alignmentgroup": "True",
         "hovertemplate": "Gênero=M<br>Esporte=%{x}<br>Altura Média (cm)=%{y}<extra></extra>",
         "legendgroup": "M",
         "marker": {
          "color": "blue",
          "pattern": {
           "shape": ""
          }
         },
         "name": "M",
         "offsetgroup": "M",
         "orientation": "v",
         "showlegend": true,
         "textposition": "auto",
         "type": "bar",
         "x": [
          "Athletics",
          "Basketball",
          "Boxing",
          "Canoeing",
          "Equestrianism",
          "Football",
          "Gymnastics",
          "Judo",
          "Sailing",
          "Shooting",
          "Swimming",
          "Taekwondo",
          "Volleyball"
         ],
         "xaxis": "x",
         "y": [
          183.07,
          185.33,
          170.75,
          175,
          178.33,
          178.33,
          162.75,
          179.31,
          182.69,
          169,
          192.45,
          190,
          192.67
         ],
         "yaxis": "y"
        }
       ],
       "layout": {
        "barmode": "group",
        "font": {
         "size": 9
        },
        "legend": {
         "title": {
          "text": "Gênero"
         },
         "tracegroupgap": 0
        },
        "template": {
         "data": {
          "bar": [
           {
            "error_x": {
             "color": "#2a3f5f"
            },
            "error_y": {
             "color": "#2a3f5f"
            },
            "marker": {
             "line": {
              "color": "#E5ECF6",
              "width": 0.5
             },
             "pattern": {
              "fillmode": "overlay",
              "size": 10,
              "solidity": 0.2
             }
            },
            "type": "bar"
           }
          ],
          "barpolar": [
           {
            "marker": {
             "line": {
              "color": "#E5ECF6",
              "width": 0.5
             },
             "pattern": {
              "fillmode": "overlay",
              "size": 10,
              "solidity": 0.2
             }
            },
            "type": "barpolar"
           }
          ],
          "carpet": [
           {
            "aaxis": {
             "endlinecolor": "#2a3f5f",
             "gridcolor": "white",
             "linecolor": "white",
             "minorgridcolor": "white",
             "startlinecolor": "#2a3f5f"
            },
            "baxis": {
             "endlinecolor": "#2a3f5f",
             "gridcolor": "white",
             "linecolor": "white",
             "minorgridcolor": "white",
             "startlinecolor": "#2a3f5f"
            },
            "type": "carpet"
           }
          ],
          "choropleth": [
           {
            "colorbar": {
             "outlinewidth": 0,
             "ticks": ""
            },
            "type": "choropleth"
           }
          ],
          "contour": [
           {
            "colorbar": {
             "outlinewidth": 0,
             "ticks": ""
            },
            "colorscale": [
             [
              0,
              "#0d0887"
             ],
             [
              0.1111111111111111,
              "#46039f"
             ],
             [
              0.2222222222222222,
              "#7201a8"
             ],
             [
              0.3333333333333333,
              "#9c179e"
             ],
             [
              0.4444444444444444,
              "#bd3786"
             ],
             [
              0.5555555555555556,
              "#d8576b"
             ],
             [
              0.6666666666666666,
              "#ed7953"
             ],
             [
              0.7777777777777778,
              "#fb9f3a"
             ],
             [
              0.8888888888888888,
              "#fdca26"
             ],
             [
              1,
              "#f0f921"
             ]
            ],
            "type": "contour"
           }
          ],
          "contourcarpet": [
           {
            "colorbar": {
             "outlinewidth": 0,
             "ticks": ""
            },
            "type": "contourcarpet"
           }
          ],
          "heatmap": [
           {
            "colorbar": {
             "outlinewidth": 0,
             "ticks": ""
            },
            "colorscale": [
             [
              0,
              "#0d0887"
             ],
             [
              0.1111111111111111,
              "#46039f"
             ],
             [
              0.2222222222222222,
              "#7201a8"
             ],
             [
              0.3333333333333333,
              "#9c179e"
             ],
             [
              0.4444444444444444,
              "#bd3786"
             ],
             [
              0.5555555555555556,
              "#d8576b"
             ],
             [
              0.6666666666666666,
              "#ed7953"
             ],
             [
              0.7777777777777778,
              "#fb9f3a"
             ],
             [
              0.8888888888888888,
              "#fdca26"
             ],
             [
              1,
              "#f0f921"
             ]
            ],
            "type": "heatmap"
           }
          ],
          "heatmapgl": [
           {
            "colorbar": {
             "outlinewidth": 0,
             "ticks": ""
            },
            "colorscale": [
             [
              0,
              "#0d0887"
             ],
             [
              0.1111111111111111,
              "#46039f"
             ],
             [
              0.2222222222222222,
              "#7201a8"
             ],
             [
              0.3333333333333333,
              "#9c179e"
             ],
             [
              0.4444444444444444,
              "#bd3786"
             ],
             [
              0.5555555555555556,
              "#d8576b"
             ],
             [
              0.6666666666666666,
              "#ed7953"
             ],
             [
              0.7777777777777778,
              "#fb9f3a"
             ],
             [
              0.8888888888888888,
              "#fdca26"
             ],
             [
              1,
              "#f0f921"
             ]
            ],
            "type": "heatmapgl"
           }
          ],
          "histogram": [
           {
            "marker": {
             "pattern": {
              "fillmode": "overlay",
              "size": 10,
              "solidity": 0.2
             }
            },
            "type": "histogram"
           }
          ],
          "histogram2d": [
           {
            "colorbar": {
             "outlinewidth": 0,
             "ticks": ""
            },
            "colorscale": [
             [
              0,
              "#0d0887"
             ],
             [
              0.1111111111111111,
              "#46039f"
             ],
             [
              0.2222222222222222,
              "#7201a8"
             ],
             [
              0.3333333333333333,
              "#9c179e"
             ],
             [
              0.4444444444444444,
              "#bd3786"
             ],
             [
              0.5555555555555556,
              "#d8576b"
             ],
             [
              0.6666666666666666,
              "#ed7953"
             ],
             [
              0.7777777777777778,
              "#fb9f3a"
             ],
             [
              0.8888888888888888,
              "#fdca26"
             ],
             [
              1,
              "#f0f921"
             ]
            ],
            "type": "histogram2d"
           }
          ],
          "histogram2dcontour": [
           {
            "colorbar": {
             "outlinewidth": 0,
             "ticks": ""
            },
            "colorscale": [
             [
              0,
              "#0d0887"
             ],
             [
              0.1111111111111111,
              "#46039f"
             ],
             [
              0.2222222222222222,
              "#7201a8"
             ],
             [
              0.3333333333333333,
              "#9c179e"
             ],
             [
              0.4444444444444444,
              "#bd3786"
             ],
             [
              0.5555555555555556,
              "#d8576b"
             ],
             [
              0.6666666666666666,
              "#ed7953"
             ],
             [
              0.7777777777777778,
              "#fb9f3a"
             ],
             [
              0.8888888888888888,
              "#fdca26"
             ],
             [
              1,
              "#f0f921"
             ]
            ],
            "type": "histogram2dcontour"
           }
          ],
          "mesh3d": [
           {
            "colorbar": {
             "outlinewidth": 0,
             "ticks": ""
            },
            "type": "mesh3d"
           }
          ],
          "parcoords": [
           {
            "line": {
             "colorbar": {
              "outlinewidth": 0,
              "ticks": ""
             }
            },
            "type": "parcoords"
           }
          ],
          "pie": [
           {
            "automargin": true,
            "type": "pie"
           }
          ],
          "scatter": [
           {
            "marker": {
             "colorbar": {
              "outlinewidth": 0,
              "ticks": ""
             }
            },
            "type": "scatter"
           }
          ],
          "scatter3d": [
           {
            "line": {
             "colorbar": {
              "outlinewidth": 0,
              "ticks": ""
             }
            },
            "marker": {
             "colorbar": {
              "outlinewidth": 0,
              "ticks": ""
             }
            },
            "type": "scatter3d"
           }
          ],
          "scattercarpet": [
           {
            "marker": {
             "colorbar": {
              "outlinewidth": 0,
              "ticks": ""
             }
            },
            "type": "scattercarpet"
           }
          ],
          "scattergeo": [
           {
            "marker": {
             "colorbar": {
              "outlinewidth": 0,
              "ticks": ""
             }
            },
            "type": "scattergeo"
           }
          ],
          "scattergl": [
           {
            "marker": {
             "colorbar": {
              "outlinewidth": 0,
              "ticks": ""
             }
            },
            "type": "scattergl"
           }
          ],
          "scattermapbox": [
           {
            "marker": {
             "colorbar": {
              "outlinewidth": 0,
              "ticks": ""
             }
            },
            "type": "scattermapbox"
           }
          ],
          "scatterpolar": [
           {
            "marker": {
             "colorbar": {
              "outlinewidth": 0,
              "ticks": ""
             }
            },
            "type": "scatterpolar"
           }
          ],
          "scatterpolargl": [
           {
            "marker": {
             "colorbar": {
              "outlinewidth": 0,
              "ticks": ""
             }
            },
            "type": "scatterpolargl"
           }
          ],
          "scatterternary": [
           {
            "marker": {
             "colorbar": {
              "outlinewidth": 0,
              "ticks": ""
             }
            },
            "type": "scatterternary"
           }
          ],
          "surface": [
           {
            "colorbar": {
             "outlinewidth": 0,
             "ticks": ""
            },
            "colorscale": [
             [
              0,
              "#0d0887"
             ],
             [
              0.1111111111111111,
              "#46039f"
             ],
             [
              0.2222222222222222,
              "#7201a8"
             ],
             [
              0.3333333333333333,
              "#9c179e"
             ],
             [
              0.4444444444444444,
              "#bd3786"
             ],
             [
              0.5555555555555556,
              "#d8576b"
             ],
             [
              0.6666666666666666,
              "#ed7953"
             ],
             [
              0.7777777777777778,
              "#fb9f3a"
             ],
             [
              0.8888888888888888,
              "#fdca26"
             ],
             [
              1,
              "#f0f921"
             ]
            ],
            "type": "surface"
           }
          ],
          "table": [
           {
            "cells": {
             "fill": {
              "color": "#EBF0F8"
             },
             "line": {
              "color": "white"
             }
            },
            "header": {
             "fill": {
              "color": "#C8D4E3"
             },
             "line": {
              "color": "white"
             }
            },
            "type": "table"
           }
          ]
         },
         "layout": {
          "annotationdefaults": {
           "arrowcolor": "#2a3f5f",
           "arrowhead": 0,
           "arrowwidth": 1
          },
          "autotypenumbers": "strict",
          "coloraxis": {
           "colorbar": {
            "outlinewidth": 0,
            "ticks": ""
           }
          },
          "colorscale": {
           "diverging": [
            [
             0,
             "#8e0152"
            ],
            [
             0.1,
             "#c51b7d"
            ],
            [
             0.2,
             "#de77ae"
            ],
            [
             0.3,
             "#f1b6da"
            ],
            [
             0.4,
             "#fde0ef"
            ],
            [
             0.5,
             "#f7f7f7"
            ],
            [
             0.6,
             "#e6f5d0"
            ],
            [
             0.7,
             "#b8e186"
            ],
            [
             0.8,
             "#7fbc41"
            ],
            [
             0.9,
             "#4d9221"
            ],
            [
             1,
             "#276419"
            ]
           ],
           "sequential": [
            [
             0,
             "#0d0887"
            ],
            [
             0.1111111111111111,
             "#46039f"
            ],
            [
             0.2222222222222222,
             "#7201a8"
            ],
            [
             0.3333333333333333,
             "#9c179e"
            ],
            [
             0.4444444444444444,
             "#bd3786"
            ],
            [
             0.5555555555555556,
             "#d8576b"
            ],
            [
             0.6666666666666666,
             "#ed7953"
            ],
            [
             0.7777777777777778,
             "#fb9f3a"
            ],
            [
             0.8888888888888888,
             "#fdca26"
            ],
            [
             1,
             "#f0f921"
            ]
           ],
           "sequentialminus": [
            [
             0,
             "#0d0887"
            ],
            [
             0.1111111111111111,
             "#46039f"
            ],
            [
             0.2222222222222222,
             "#7201a8"
            ],
            [
             0.3333333333333333,
             "#9c179e"
            ],
            [
             0.4444444444444444,
             "#bd3786"
            ],
            [
             0.5555555555555556,
             "#d8576b"
            ],
            [
             0.6666666666666666,
             "#ed7953"
            ],
            [
             0.7777777777777778,
             "#fb9f3a"
            ],
            [
             0.8888888888888888,
             "#fdca26"
            ],
            [
             1,
             "#f0f921"
            ]
           ]
          },
          "colorway": [
           "#636efa",
           "#EF553B",
           "#00cc96",
           "#ab63fa",
           "#FFA15A",
           "#19d3f3",
           "#FF6692",
           "#B6E880",
           "#FF97FF",
           "#FECB52"
          ],
          "font": {
           "color": "#2a3f5f"
          },
          "geo": {
           "bgcolor": "white",
           "lakecolor": "white",
           "landcolor": "#E5ECF6",
           "showlakes": true,
           "showland": true,
           "subunitcolor": "white"
          },
          "hoverlabel": {
           "align": "left"
          },
          "hovermode": "closest",
          "mapbox": {
           "style": "light"
          },
          "paper_bgcolor": "white",
          "plot_bgcolor": "#E5ECF6",
          "polar": {
           "angularaxis": {
            "gridcolor": "white",
            "linecolor": "white",
            "ticks": ""
           },
           "bgcolor": "#E5ECF6",
           "radialaxis": {
            "gridcolor": "white",
            "linecolor": "white",
            "ticks": ""
           }
          },
          "scene": {
           "xaxis": {
            "backgroundcolor": "#E5ECF6",
            "gridcolor": "white",
            "gridwidth": 2,
            "linecolor": "white",
            "showbackground": true,
            "ticks": "",
            "zerolinecolor": "white"
           },
           "yaxis": {
            "backgroundcolor": "#E5ECF6",
            "gridcolor": "white",
            "gridwidth": 2,
            "linecolor": "white",
            "showbackground": true,
            "ticks": "",
            "zerolinecolor": "white"
           },
           "zaxis": {
            "backgroundcolor": "#E5ECF6",
            "gridcolor": "white",
            "gridwidth": 2,
            "linecolor": "white",
            "showbackground": true,
            "ticks": "",
            "zerolinecolor": "white"
           }
          },
          "shapedefaults": {
           "line": {
            "color": "#2a3f5f"
           }
          },
          "ternary": {
           "aaxis": {
            "gridcolor": "white",
            "linecolor": "white",
            "ticks": ""
           },
           "baxis": {
            "gridcolor": "white",
            "linecolor": "white",
            "ticks": ""
           },
           "bgcolor": "#E5ECF6",
           "caxis": {
            "gridcolor": "white",
            "linecolor": "white",
            "ticks": ""
           }
          },
          "title": {
           "x": 0.05
          },
          "xaxis": {
           "automargin": true,
           "gridcolor": "white",
           "linecolor": "white",
           "ticks": "",
           "title": {
            "standoff": 15
           },
           "zerolinecolor": "white",
           "zerolinewidth": 2
          },
          "yaxis": {
           "automargin": true,
           "gridcolor": "white",
           "linecolor": "white",
           "ticks": "",
           "title": {
            "standoff": 15
           },
           "zerolinecolor": "white",
           "zerolinewidth": 2
          }
         }
        },
        "title": {
         "text": "BRASIL OLÍMPICO - Altura Média dos Medalhistas (por gênero)"
        },
        "xaxis": {
         "anchor": "y",
         "domain": [
          0,
          1
         ],
         "title": {
          "text": "Esporte"
         }
        },
        "yaxis": {
         "anchor": "x",
         "domain": [
          0,
          1
         ],
         "title": {
          "text": "Altura Média (cm)"
         }
        }
       }
      }
     },
     "metadata": {},
     "output_type": "display_data"
    }
   ],
   "source": [
    "# Criando o gráfico através do plotly express:\n",
    "fig_altura_genero = px.bar(\n",
    "                  df_agrupamento_alturas,\n",
    "                  x='Sport',\n",
    "                  y='Height',\n",
    "                  color='Sex',\n",
    "                  color_discrete_map={\n",
    "                      'F': 'red',\n",
    "                      'M': 'blue'\n",
    "                  },\n",
    "                  labels={\n",
    "                      'Height': 'Altura Média (cm)',\n",
    "                      'Sport': 'Esporte',\n",
    "                      'Sex': 'Gênero'\n",
    "                      },\n",
    "                  title='BRASIL OLÍMPICO - Altura Média dos Medalhistas (por gênero)',\n",
    "                  barmode='group')\n",
    "\n",
    "fig_altura_genero.update_layout(\n",
    "    font=dict(size=9)\n",
    ")\n",
    "fig_altura_genero.show()"
   ]
  },
  {
   "cell_type": "markdown",
   "metadata": {
    "id": "QiRjc2wbNY8B"
   },
   "source": [
    "Agora gere um gráfico semelhante ilustrando o peso dos atletas."
   ]
  },
  {
   "cell_type": "code",
   "execution_count": 9,
   "metadata": {
    "id": "6dIY_aW7NY8B"
   },
   "outputs": [
    {
     "data": {
      "text/html": [
       "<div>\n",
       "<style scoped>\n",
       "    .dataframe tbody tr th:only-of-type {\n",
       "        vertical-align: middle;\n",
       "    }\n",
       "\n",
       "    .dataframe tbody tr th {\n",
       "        vertical-align: top;\n",
       "    }\n",
       "\n",
       "    .dataframe thead th {\n",
       "        text-align: right;\n",
       "    }\n",
       "</style>\n",
       "<table border=\"1\" class=\"dataframe\">\n",
       "  <thead>\n",
       "    <tr style=\"text-align: right;\">\n",
       "      <th></th>\n",
       "      <th>Sex</th>\n",
       "      <th>Weight</th>\n",
       "      <th>Sport</th>\n",
       "    </tr>\n",
       "  </thead>\n",
       "  <tbody>\n",
       "    <tr>\n",
       "      <th>0</th>\n",
       "      <td>M</td>\n",
       "      <td>54.0</td>\n",
       "      <td>Athletics</td>\n",
       "    </tr>\n",
       "    <tr>\n",
       "      <th>1</th>\n",
       "      <td>M</td>\n",
       "      <td>76.0</td>\n",
       "      <td>Athletics</td>\n",
       "    </tr>\n",
       "    <tr>\n",
       "      <th>2</th>\n",
       "      <td>M</td>\n",
       "      <td>76.0</td>\n",
       "      <td>Athletics</td>\n",
       "    </tr>\n",
       "    <tr>\n",
       "      <th>3</th>\n",
       "      <td>M</td>\n",
       "      <td>74.0</td>\n",
       "      <td>Athletics</td>\n",
       "    </tr>\n",
       "    <tr>\n",
       "      <th>4</th>\n",
       "      <td>M</td>\n",
       "      <td>78.0</td>\n",
       "      <td>Athletics</td>\n",
       "    </tr>\n",
       "    <tr>\n",
       "      <th>...</th>\n",
       "      <td>...</td>\n",
       "      <td>...</td>\n",
       "      <td>...</td>\n",
       "    </tr>\n",
       "    <tr>\n",
       "      <th>104</th>\n",
       "      <td>M</td>\n",
       "      <td>95.0</td>\n",
       "      <td>Volleyball</td>\n",
       "    </tr>\n",
       "    <tr>\n",
       "      <th>105</th>\n",
       "      <td>M</td>\n",
       "      <td>78.0</td>\n",
       "      <td>Volleyball</td>\n",
       "    </tr>\n",
       "    <tr>\n",
       "      <th>106</th>\n",
       "      <td>M</td>\n",
       "      <td>95.0</td>\n",
       "      <td>Volleyball</td>\n",
       "    </tr>\n",
       "    <tr>\n",
       "      <th>107</th>\n",
       "      <td>M</td>\n",
       "      <td>87.0</td>\n",
       "      <td>Volleyball</td>\n",
       "    </tr>\n",
       "    <tr>\n",
       "      <th>108</th>\n",
       "      <td>F</td>\n",
       "      <td>73.0</td>\n",
       "      <td>Volleyball</td>\n",
       "    </tr>\n",
       "  </tbody>\n",
       "</table>\n",
       "<p>109 rows × 3 columns</p>\n",
       "</div>"
      ],
      "text/plain": [
       "    Sex  Weight       Sport\n",
       "0     M    54.0   Athletics\n",
       "1     M    76.0   Athletics\n",
       "2     M    76.0   Athletics\n",
       "3     M    74.0   Athletics\n",
       "4     M    78.0   Athletics\n",
       "..   ..     ...         ...\n",
       "104   M    95.0  Volleyball\n",
       "105   M    78.0  Volleyball\n",
       "106   M    95.0  Volleyball\n",
       "107   M    87.0  Volleyball\n",
       "108   F    73.0  Volleyball\n",
       "\n",
       "[109 rows x 3 columns]"
      ]
     },
     "execution_count": 9,
     "metadata": {},
     "output_type": "execute_result"
    }
   ],
   "source": [
    "# Tratando o dataframe que será efetivamente utilizado para ter menos dados:\n",
    "df_esportes_peso = df_dados_tratados[['Sex', 'Weight', 'Sport']]\n",
    "df_esportes_peso = df_esportes_peso.sort_values(by = 'Sport', ascending=True)\n",
    "df_esportes_peso = df_esportes_peso.reset_index()\n",
    "df_esportes_peso.drop('index', inplace=True, axis=1)\n",
    "df_esportes_peso"
   ]
  },
  {
   "cell_type": "code",
   "execution_count": 10,
   "metadata": {},
   "outputs": [
    {
     "data": {
      "text/html": [
       "<div>\n",
       "<style scoped>\n",
       "    .dataframe tbody tr th:only-of-type {\n",
       "        vertical-align: middle;\n",
       "    }\n",
       "\n",
       "    .dataframe tbody tr th {\n",
       "        vertical-align: top;\n",
       "    }\n",
       "\n",
       "    .dataframe thead th {\n",
       "        text-align: right;\n",
       "    }\n",
       "</style>\n",
       "<table border=\"1\" class=\"dataframe\">\n",
       "  <thead>\n",
       "    <tr style=\"text-align: right;\">\n",
       "      <th></th>\n",
       "      <th>Sport</th>\n",
       "      <th>Sex</th>\n",
       "      <th>Weight</th>\n",
       "    </tr>\n",
       "  </thead>\n",
       "  <tbody>\n",
       "    <tr>\n",
       "      <th>0</th>\n",
       "      <td>Athletics</td>\n",
       "      <td>F</td>\n",
       "      <td>61.00</td>\n",
       "    </tr>\n",
       "    <tr>\n",
       "      <th>1</th>\n",
       "      <td>Athletics</td>\n",
       "      <td>M</td>\n",
       "      <td>73.20</td>\n",
       "    </tr>\n",
       "    <tr>\n",
       "      <th>2</th>\n",
       "      <td>Basketball</td>\n",
       "      <td>F</td>\n",
       "      <td>61.00</td>\n",
       "    </tr>\n",
       "    <tr>\n",
       "      <th>3</th>\n",
       "      <td>Basketball</td>\n",
       "      <td>M</td>\n",
       "      <td>81.33</td>\n",
       "    </tr>\n",
       "    <tr>\n",
       "      <th>4</th>\n",
       "      <td>Boxing</td>\n",
       "      <td>F</td>\n",
       "      <td>60.00</td>\n",
       "    </tr>\n",
       "    <tr>\n",
       "      <th>5</th>\n",
       "      <td>Boxing</td>\n",
       "      <td>M</td>\n",
       "      <td>65.00</td>\n",
       "    </tr>\n",
       "    <tr>\n",
       "      <th>6</th>\n",
       "      <td>Canoeing</td>\n",
       "      <td>M</td>\n",
       "      <td>85.00</td>\n",
       "    </tr>\n",
       "    <tr>\n",
       "      <th>7</th>\n",
       "      <td>Equestrianism</td>\n",
       "      <td>M</td>\n",
       "      <td>71.00</td>\n",
       "    </tr>\n",
       "    <tr>\n",
       "      <th>8</th>\n",
       "      <td>Football</td>\n",
       "      <td>F</td>\n",
       "      <td>68.00</td>\n",
       "    </tr>\n",
       "    <tr>\n",
       "      <th>9</th>\n",
       "      <td>Football</td>\n",
       "      <td>M</td>\n",
       "      <td>70.67</td>\n",
       "    </tr>\n",
       "    <tr>\n",
       "      <th>10</th>\n",
       "      <td>Gymnastics</td>\n",
       "      <td>M</td>\n",
       "      <td>63.75</td>\n",
       "    </tr>\n",
       "    <tr>\n",
       "      <th>11</th>\n",
       "      <td>Judo</td>\n",
       "      <td>F</td>\n",
       "      <td>63.60</td>\n",
       "    </tr>\n",
       "    <tr>\n",
       "      <th>12</th>\n",
       "      <td>Judo</td>\n",
       "      <td>M</td>\n",
       "      <td>93.38</td>\n",
       "    </tr>\n",
       "    <tr>\n",
       "      <th>13</th>\n",
       "      <td>Modern Pentathlon</td>\n",
       "      <td>F</td>\n",
       "      <td>55.00</td>\n",
       "    </tr>\n",
       "    <tr>\n",
       "      <th>14</th>\n",
       "      <td>Sailing</td>\n",
       "      <td>F</td>\n",
       "      <td>58.00</td>\n",
       "    </tr>\n",
       "    <tr>\n",
       "      <th>15</th>\n",
       "      <td>Sailing</td>\n",
       "      <td>M</td>\n",
       "      <td>84.50</td>\n",
       "    </tr>\n",
       "    <tr>\n",
       "      <th>16</th>\n",
       "      <td>Shooting</td>\n",
       "      <td>M</td>\n",
       "      <td>69.00</td>\n",
       "    </tr>\n",
       "    <tr>\n",
       "      <th>17</th>\n",
       "      <td>Swimming</td>\n",
       "      <td>F</td>\n",
       "      <td>52.00</td>\n",
       "    </tr>\n",
       "    <tr>\n",
       "      <th>18</th>\n",
       "      <td>Swimming</td>\n",
       "      <td>M</td>\n",
       "      <td>84.73</td>\n",
       "    </tr>\n",
       "    <tr>\n",
       "      <th>19</th>\n",
       "      <td>Taekwondo</td>\n",
       "      <td>F</td>\n",
       "      <td>69.00</td>\n",
       "    </tr>\n",
       "    <tr>\n",
       "      <th>20</th>\n",
       "      <td>Taekwondo</td>\n",
       "      <td>M</td>\n",
       "      <td>90.00</td>\n",
       "    </tr>\n",
       "    <tr>\n",
       "      <th>21</th>\n",
       "      <td>Volleyball</td>\n",
       "      <td>F</td>\n",
       "      <td>73.00</td>\n",
       "    </tr>\n",
       "    <tr>\n",
       "      <th>22</th>\n",
       "      <td>Volleyball</td>\n",
       "      <td>M</td>\n",
       "      <td>88.33</td>\n",
       "    </tr>\n",
       "  </tbody>\n",
       "</table>\n",
       "</div>"
      ],
      "text/plain": [
       "                Sport Sex  Weight\n",
       "0           Athletics   F   61.00\n",
       "1           Athletics   M   73.20\n",
       "2          Basketball   F   61.00\n",
       "3          Basketball   M   81.33\n",
       "4              Boxing   F   60.00\n",
       "5              Boxing   M   65.00\n",
       "6            Canoeing   M   85.00\n",
       "7       Equestrianism   M   71.00\n",
       "8            Football   F   68.00\n",
       "9            Football   M   70.67\n",
       "10         Gymnastics   M   63.75\n",
       "11               Judo   F   63.60\n",
       "12               Judo   M   93.38\n",
       "13  Modern Pentathlon   F   55.00\n",
       "14            Sailing   F   58.00\n",
       "15            Sailing   M   84.50\n",
       "16           Shooting   M   69.00\n",
       "17           Swimming   F   52.00\n",
       "18           Swimming   M   84.73\n",
       "19          Taekwondo   F   69.00\n",
       "20          Taekwondo   M   90.00\n",
       "21         Volleyball   F   73.00\n",
       "22         Volleyball   M   88.33"
      ]
     },
     "execution_count": 10,
     "metadata": {},
     "output_type": "execute_result"
    }
   ],
   "source": [
    "# Agrupando dados e calculando as médias de alturas para plotar o gráfico de barras:\n",
    "df_agrupamento_pesos = df_esportes_peso.groupby(['Sport', 'Sex'])['Weight'].mean().reset_index()\n",
    "df_agrupamento_pesos['Weight'] = df_agrupamento_pesos['Weight'].round(2)\n",
    "df_agrupamento_pesos"
   ]
  },
  {
   "cell_type": "markdown",
   "metadata": {
    "id": "_JNNvKUlNY8C"
   },
   "source": [
    "Vamos analisar agora as medalhas que nossos atletas trouxeram para casa.\n",
    "\n",
    "Encontre os maiores medalhistas brasileiros em **total de medalhas**. Em seguida, faça um gráfico de barras empilhadas. No eixo X coloque o nome dos atletas, e no eixo Y coloque o número de medalhas. Utilize as barras empilhadas para mostrar, respectivamente, as medalhas de bronze, prata e ouro de cada atleta."
   ]
  },
  {
   "cell_type": "code",
   "execution_count": 11,
   "metadata": {
    "id": "Mnn_vqVHNY8C"
   },
   "outputs": [
    {
     "data": {
      "text/html": [
       "<div>\n",
       "<style scoped>\n",
       "    .dataframe tbody tr th:only-of-type {\n",
       "        vertical-align: middle;\n",
       "    }\n",
       "\n",
       "    .dataframe tbody tr th {\n",
       "        vertical-align: top;\n",
       "    }\n",
       "\n",
       "    .dataframe thead th {\n",
       "        text-align: right;\n",
       "    }\n",
       "</style>\n",
       "<table border=\"1\" class=\"dataframe\">\n",
       "  <thead>\n",
       "    <tr style=\"text-align: right;\">\n",
       "      <th></th>\n",
       "      <th>Name</th>\n",
       "      <th>Medals</th>\n",
       "      <th>Sport</th>\n",
       "    </tr>\n",
       "  </thead>\n",
       "  <tbody>\n",
       "    <tr>\n",
       "      <th>0</th>\n",
       "      <td>Torben Schmidt Grael</td>\n",
       "      <td>5</td>\n",
       "      <td>Sailing</td>\n",
       "    </tr>\n",
       "    <tr>\n",
       "      <th>5</th>\n",
       "      <td>Robert Scheidt</td>\n",
       "      <td>5</td>\n",
       "      <td>Sailing</td>\n",
       "    </tr>\n",
       "    <tr>\n",
       "      <th>10</th>\n",
       "      <td>Gustavo Frana Borges</td>\n",
       "      <td>4</td>\n",
       "      <td>Swimming</td>\n",
       "    </tr>\n",
       "    <tr>\n",
       "      <th>14</th>\n",
       "      <td>Srgio \"Escadinha\" Dutra dos Santos</td>\n",
       "      <td>4</td>\n",
       "      <td>Volleyball</td>\n",
       "    </tr>\n",
       "    <tr>\n",
       "      <th>18</th>\n",
       "      <td>Gilberto Amauri \"Giba\" de Godoy Filho</td>\n",
       "      <td>3</td>\n",
       "      <td>Volleyball</td>\n",
       "    </tr>\n",
       "    <tr>\n",
       "      <th>21</th>\n",
       "      <td>Csar Augusto Cielo Filho</td>\n",
       "      <td>3</td>\n",
       "      <td>Swimming</td>\n",
       "    </tr>\n",
       "    <tr>\n",
       "      <th>24</th>\n",
       "      <td>Marcelo Bastos Ferreira</td>\n",
       "      <td>3</td>\n",
       "      <td>Sailing</td>\n",
       "    </tr>\n",
       "    <tr>\n",
       "      <th>27</th>\n",
       "      <td>Isaquias Queiroz dos Santos</td>\n",
       "      <td>3</td>\n",
       "      <td>Canoeing</td>\n",
       "    </tr>\n",
       "    <tr>\n",
       "      <th>30</th>\n",
       "      <td>Rodrigo \"Rodrigo\" Santana</td>\n",
       "      <td>3</td>\n",
       "      <td>Volleyball</td>\n",
       "    </tr>\n",
       "    <tr>\n",
       "      <th>33</th>\n",
       "      <td>Bruno \"Bruninho\" Mossa de Rezende</td>\n",
       "      <td>3</td>\n",
       "      <td>Volleyball</td>\n",
       "    </tr>\n",
       "    <tr>\n",
       "      <th>36</th>\n",
       "      <td>Rodrigo de Paula Pessoa</td>\n",
       "      <td>3</td>\n",
       "      <td>Equestrianism</td>\n",
       "    </tr>\n",
       "    <tr>\n",
       "      <th>39</th>\n",
       "      <td>Hlia \"Fofo\" Rogrio de Souza Pinto</td>\n",
       "      <td>3</td>\n",
       "      <td>Volleyball</td>\n",
       "    </tr>\n",
       "    <tr>\n",
       "      <th>42</th>\n",
       "      <td>Dante Guimares Santos do Amaral</td>\n",
       "      <td>3</td>\n",
       "      <td>Volleyball</td>\n",
       "    </tr>\n",
       "    <tr>\n",
       "      <th>45</th>\n",
       "      <td>Fabiana \"Fabi\" Alvim de Oliveira</td>\n",
       "      <td>2</td>\n",
       "      <td>Volleyball</td>\n",
       "    </tr>\n",
       "    <tr>\n",
       "      <th>47</th>\n",
       "      <td>Ricardo \"Ricardinho\" Bermudez Garcia</td>\n",
       "      <td>2</td>\n",
       "      <td>Volleyball</td>\n",
       "    </tr>\n",
       "  </tbody>\n",
       "</table>\n",
       "</div>"
      ],
      "text/plain": [
       "                                     Name  Medals          Sport\n",
       "0                    Torben Schmidt Grael       5        Sailing\n",
       "5                          Robert Scheidt       5        Sailing\n",
       "10                   Gustavo Frana Borges       4       Swimming\n",
       "14     Srgio \"Escadinha\" Dutra dos Santos       4     Volleyball\n",
       "18  Gilberto Amauri \"Giba\" de Godoy Filho       3     Volleyball\n",
       "21               Csar Augusto Cielo Filho       3       Swimming\n",
       "24                Marcelo Bastos Ferreira       3        Sailing\n",
       "27            Isaquias Queiroz dos Santos       3       Canoeing\n",
       "30              Rodrigo \"Rodrigo\" Santana       3     Volleyball\n",
       "33      Bruno \"Bruninho\" Mossa de Rezende       3     Volleyball\n",
       "36                Rodrigo de Paula Pessoa       3  Equestrianism\n",
       "39      Hlia \"Fofo\" Rogrio de Souza Pinto       3     Volleyball\n",
       "42        Dante Guimares Santos do Amaral       3     Volleyball\n",
       "45       Fabiana \"Fabi\" Alvim de Oliveira       2     Volleyball\n",
       "47   Ricardo \"Ricardinho\" Bermudez Garcia       2     Volleyball"
      ]
     },
     "execution_count": 11,
     "metadata": {},
     "output_type": "execute_result"
    }
   ],
   "source": [
    "# MONTANDO UMA FUNÇÃO PARA LISTAR OS MELHORES DE QUALQUER PAÍS A SER ANALISADO\n",
    "# CRÉDITO DA FÓRMULA DADO AO LIVRO 'DATA SCIENCE DO ZERO'\n",
    "\n",
    "def maiores_medalhistas(df,country,top):\n",
    "    \"\"\"\n",
    "    Em um dataframe temporário, tratar dados NaN na coluna medalhas.\n",
    "    No mesmo dataframe definir o país a ser filtrado nos dados.\n",
    "    Na variável 'x' listar os maiores medalhistas alinhando as colunas com um merge e \n",
    "    removendo eventuais dados duplicados.\n",
    "    Renomear as colunas subsituindo os dados com 'inplace'. Retornar x.\n",
    "    \"\"\"\n",
    "    temp_df = df.dropna(subset=['Medal'])\n",
    "    temp_df = temp_df[temp_df['Team'] == country]\n",
    "    x = temp_df['Name'].value_counts().reset_index().head(top).merge(df,left_on='index',right_on='Name',how='left')[['index','Name_x','Sport']].drop_duplicates('index')\n",
    "    x.rename(columns={'index':'Name','Name_x':'Medals'},inplace=True)\n",
    "    return x\n",
    "\n",
    "df_top_atletas_br = maiores_medalhistas(df_brasil_olimpico,'Brazil',15)\n",
    "df_top_atletas_br"
   ]
  },
  {
   "cell_type": "code",
   "execution_count": 40,
   "metadata": {},
   "outputs": [
    {
     "data": {
      "text/html": [
       "<div>\n",
       "<style scoped>\n",
       "    .dataframe tbody tr th:only-of-type {\n",
       "        vertical-align: middle;\n",
       "    }\n",
       "\n",
       "    .dataframe tbody tr th {\n",
       "        vertical-align: top;\n",
       "    }\n",
       "\n",
       "    .dataframe thead th {\n",
       "        text-align: right;\n",
       "    }\n",
       "</style>\n",
       "<table border=\"1\" class=\"dataframe\">\n",
       "  <thead>\n",
       "    <tr style=\"text-align: right;\">\n",
       "      <th></th>\n",
       "      <th>Name</th>\n",
       "      <th>Sport</th>\n",
       "      <th>Medal</th>\n",
       "      <th>Totals</th>\n",
       "    </tr>\n",
       "  </thead>\n",
       "  <tbody>\n",
       "    <tr>\n",
       "      <th>0</th>\n",
       "      <td>Ademir Roque Kaefer</td>\n",
       "      <td>Football</td>\n",
       "      <td>Silver</td>\n",
       "      <td>2</td>\n",
       "    </tr>\n",
       "    <tr>\n",
       "      <th>31</th>\n",
       "      <td>Csar Augusto Cielo Filho</td>\n",
       "      <td>Swimming</td>\n",
       "      <td>Bronze</td>\n",
       "      <td>2</td>\n",
       "    </tr>\n",
       "    <tr>\n",
       "      <th>77</th>\n",
       "      <td>Robert Scheidt</td>\n",
       "      <td>Sailing</td>\n",
       "      <td>Gold</td>\n",
       "      <td>2</td>\n",
       "    </tr>\n",
       "    <tr>\n",
       "      <th>75</th>\n",
       "      <td>Reinaldo Conrad</td>\n",
       "      <td>Sailing</td>\n",
       "      <td>Bronze</td>\n",
       "      <td>2</td>\n",
       "    </tr>\n",
       "    <tr>\n",
       "      <th>72</th>\n",
       "      <td>Rafael Carlos da Silva</td>\n",
       "      <td>Judo</td>\n",
       "      <td>Bronze</td>\n",
       "      <td>2</td>\n",
       "    </tr>\n",
       "    <tr>\n",
       "      <th>...</th>\n",
       "      <td>...</td>\n",
       "      <td>...</td>\n",
       "      <td>...</td>\n",
       "      <td>...</td>\n",
       "    </tr>\n",
       "    <tr>\n",
       "      <th>39</th>\n",
       "      <td>Elisngela Almeida de Oliveira</td>\n",
       "      <td>Volleyball</td>\n",
       "      <td>Bronze</td>\n",
       "      <td>1</td>\n",
       "    </tr>\n",
       "    <tr>\n",
       "      <th>38</th>\n",
       "      <td>Eduardo Henrique Gomes Penido</td>\n",
       "      <td>Sailing</td>\n",
       "      <td>Gold</td>\n",
       "      <td>1</td>\n",
       "    </tr>\n",
       "    <tr>\n",
       "      <th>37</th>\n",
       "      <td>Douglas dos Santos Justino de Melo</td>\n",
       "      <td>Football</td>\n",
       "      <td>Gold</td>\n",
       "      <td>1</td>\n",
       "    </tr>\n",
       "    <tr>\n",
       "      <th>36</th>\n",
       "      <td>Douglas Eduardo Vieira</td>\n",
       "      <td>Judo</td>\n",
       "      <td>Silver</td>\n",
       "      <td>1</td>\n",
       "    </tr>\n",
       "    <tr>\n",
       "      <th>9</th>\n",
       "      <td>Aline Pellegrino</td>\n",
       "      <td>Football</td>\n",
       "      <td>Silver</td>\n",
       "      <td>1</td>\n",
       "    </tr>\n",
       "  </tbody>\n",
       "</table>\n",
       "<p>94 rows × 4 columns</p>\n",
       "</div>"
      ],
      "text/plain": [
       "                                  Name       Sport   Medal  Totals\n",
       "0                  Ademir Roque Kaefer    Football  Silver       2\n",
       "31            Csar Augusto Cielo Filho    Swimming  Bronze       2\n",
       "77                      Robert Scheidt     Sailing    Gold       2\n",
       "75                     Reinaldo Conrad     Sailing  Bronze       2\n",
       "72              Rafael Carlos da Silva        Judo  Bronze       2\n",
       "..                                 ...         ...     ...     ...\n",
       "39       Elisngela Almeida de Oliveira  Volleyball  Bronze       1\n",
       "38       Eduardo Henrique Gomes Penido     Sailing    Gold       1\n",
       "37  Douglas dos Santos Justino de Melo    Football    Gold       1\n",
       "36              Douglas Eduardo Vieira        Judo  Silver       1\n",
       "9                     Aline Pellegrino    Football  Silver       1\n",
       "\n",
       "[94 rows x 4 columns]"
      ]
     },
     "execution_count": 40,
     "metadata": {},
     "output_type": "execute_result"
    }
   ],
   "source": [
    "df_maiores_medalhistas = pd.DataFrame({'Totals': df_dados_tratados.groupby(['Name','Sport'])['Medal'].value_counts()}).reset_index()\n",
    "df_maiores_medalhistas = df_maiores_medalhistas.sort_values(by=['Totals'], ascending=False)\n",
    "df_maiores_medalhistas"
   ]
  },
  {
   "cell_type": "code",
   "execution_count": 42,
   "metadata": {},
   "outputs": [
    {
     "data": {
      "application/vnd.plotly.v1+json": {
       "config": {
        "plotlyServerURL": "https://plot.ly"
       },
       "data": [
        {
         "alignmentgroup": "True",
         "hovertemplate": "Tipo de Medalha=Silver<br>Atletas=%{x}<br>Medalhas=%{y}<extra></extra>",
         "legendgroup": "Silver",
         "marker": {
          "color": "silver",
          "pattern": {
           "shape": ""
          }
         },
         "name": "Silver",
         "offsetgroup": "Silver",
         "orientation": "v",
         "showlegend": true,
         "textposition": "auto",
         "type": "bar",
         "x": [
          "Ademir Roque Kaefer",
          "Isaquias Queiroz dos Santos",
          "Gustavo Frana Borges",
          "Nlson Prudncio",
          "Alex Sandro Lobo Silva",
          "Adriana Aparecida dos Santos",
          "Thiago Soares Alves",
          "Tiago Henrique de Oliveira Camilo",
          "Thiago Machado Vilela Pereira",
          "Robert Scheidt",
          "Ricardo Prado",
          "Joaquim Carvalho Cruz",
          "Carlos Eduardo Honorato",
          "Bruno Prada",
          "Arthur Nabarrete Zanetti",
          "Andria Suntaque",
          "Andr Domingos da Silva",
          "Anderson de Oliveira Rodrigues",
          "Daniel Adler",
          "Amauri Ribeiro",
          "Diego Matias Hyplito",
          "Felipe Almeida Wu",
          "Esquiva Falco Florentino",
          "Douglas Eduardo Vieira",
          "Aline Pellegrino"
         ],
         "xaxis": "x",
         "y": [
          2,
          2,
          2,
          1,
          1,
          1,
          1,
          1,
          1,
          1,
          1,
          1,
          1,
          1,
          1,
          1,
          1,
          1,
          1,
          1,
          1,
          1,
          1,
          1,
          1
         ],
         "yaxis": "y"
        },
        {
         "alignmentgroup": "True",
         "hovertemplate": "Tipo de Medalha=Bronze<br>Atletas=%{x}<br>Medalhas=%{y}<extra></extra>",
         "legendgroup": "Bronze",
         "marker": {
          "color": "brown",
          "pattern": {
           "shape": ""
          }
         },
         "name": "Bronze",
         "offsetgroup": "Bronze",
         "orientation": "v",
         "showlegend": true,
         "textposition": "auto",
         "type": "bar",
         "x": [
          "Csar Augusto Cielo Filho",
          "Reinaldo Conrad",
          "Rafael Carlos da Silva",
          "Mayra Aguiar da Silva",
          "Luiz Felipe Cortizo Gonalves de Azevedo",
          "Leandro Marques Guilheiro",
          "Joo Carlos de Oliveira",
          "Gustavo Frana Borges",
          "Zenny \"Algodo\" de Azevedo",
          "Poliana Okimoto-Cintra",
          "Nlson Prudncio",
          "Nelson Falco",
          "Natlia Falavigna Silva",
          "Adriana dos Santos Arajo",
          "Marcelo Bastos Ferreira",
          "Aldair Nascimento dos Santos",
          "Maicon de Andrade Siqueira",
          "Luiz Yoshio Onmura",
          "Alexandre \"Alexandre Pato\" Rodrigues da Silva",
          "Lars Schmidt Grael",
          "Rbson Caetano da Silva",
          "Jos Telles da Conceio",
          "Yane Mrcia Campos da Fonseca Marques",
          "Yamaguchi Falco Florentino",
          "Wlter Carmona",
          "Vanderlei Cordeiro de Lima",
          "Tiago Henrique de Oliveira Camilo",
          "Adriana Aparecida dos Santos",
          "Servilio Sebastio de Oliveira",
          "Ketleyn Lima Quadros",
          "Ana Flvia Chritaro Daniel Sanglard",
          "Amaury Antnio Pasos",
          "Clinio Freitas",
          "Chiaki Ishii",
          "Bruno Prada",
          "Bruno Lins Tenrio de Barros",
          "Aurlio Fernndez Miguel",
          "Arthur Nory Oyakawa Mariano",
          "Andr Domingos da Silva",
          "Cyro Marques Delgado",
          "Fernando \"Xuxa\" de Queiroz Scherer",
          "Isaquias Queiroz dos Santos",
          "Henrique Carlos Serra Azul Guimares",
          "Flvio Vianna de Ulha Canto",
          "Fernanda Ryff Moreira Oliveira",
          "Felipe Eidji Kitadai",
          "Elisngela Almeida de Oliveira"
         ],
         "xaxis": "x",
         "y": [
          2,
          2,
          2,
          2,
          2,
          2,
          2,
          2,
          2,
          1,
          1,
          1,
          1,
          1,
          1,
          1,
          1,
          1,
          1,
          1,
          1,
          1,
          1,
          1,
          1,
          1,
          1,
          1,
          1,
          1,
          1,
          1,
          1,
          1,
          1,
          1,
          1,
          1,
          1,
          1,
          1,
          1,
          1,
          1,
          1,
          1,
          1
         ],
         "yaxis": "y"
        },
        {
         "alignmentgroup": "True",
         "hovertemplate": "Tipo de Medalha=Gold<br>Atletas=%{x}<br>Medalhas=%{y}<extra></extra>",
         "legendgroup": "Gold",
         "marker": {
          "color": "gold",
          "pattern": {
           "shape": ""
          }
         },
         "name": "Gold",
         "offsetgroup": "Gold",
         "orientation": "v",
         "showlegend": true,
         "textposition": "auto",
         "type": "bar",
         "x": [
          "Robert Scheidt",
          "Marcelo Bastos Ferreira",
          "Adhemar Ferreira da Silva",
          "Rafaela Lopes Silva",
          "Maurren Higa Maggi",
          "Martine Soffiatti Grael",
          "Lars Sigurd Bjorkstrom",
          "William Peixoto Arjona",
          "Thiago Braz da Silva",
          "Sarah Gabrielle Cabral de Menezes",
          "Rodrigo de Paula Pessoa",
          "Robson Donato Conceio",
          "Anderson de Oliveira Rodrigues",
          "Carolina \"Carol\" Demartini de Albuquerque",
          "Aurlio Fernndez Miguel",
          "Arthur Nabarrete Zanetti",
          "Csar Augusto Cielo Filho",
          "Joaquim Carvalho Cruz",
          "Amauri Ribeiro",
          "Adenzia Aparecida Ferreira da Silva",
          "Eduardo Henrique Gomes Penido",
          "Douglas dos Santos Justino de Melo"
         ],
         "xaxis": "x",
         "y": [
          2,
          2,
          2,
          1,
          1,
          1,
          1,
          1,
          1,
          1,
          1,
          1,
          1,
          1,
          1,
          1,
          1,
          1,
          1,
          1,
          1,
          1
         ],
         "yaxis": "y"
        }
       ],
       "layout": {
        "barmode": "relative",
        "font": {
         "size": 7
        },
        "legend": {
         "title": {
          "text": "Tipo de Medalha"
         },
         "tracegroupgap": 0
        },
        "template": {
         "data": {
          "bar": [
           {
            "error_x": {
             "color": "#2a3f5f"
            },
            "error_y": {
             "color": "#2a3f5f"
            },
            "marker": {
             "line": {
              "color": "#E5ECF6",
              "width": 0.5
             },
             "pattern": {
              "fillmode": "overlay",
              "size": 10,
              "solidity": 0.2
             }
            },
            "type": "bar"
           }
          ],
          "barpolar": [
           {
            "marker": {
             "line": {
              "color": "#E5ECF6",
              "width": 0.5
             },
             "pattern": {
              "fillmode": "overlay",
              "size": 10,
              "solidity": 0.2
             }
            },
            "type": "barpolar"
           }
          ],
          "carpet": [
           {
            "aaxis": {
             "endlinecolor": "#2a3f5f",
             "gridcolor": "white",
             "linecolor": "white",
             "minorgridcolor": "white",
             "startlinecolor": "#2a3f5f"
            },
            "baxis": {
             "endlinecolor": "#2a3f5f",
             "gridcolor": "white",
             "linecolor": "white",
             "minorgridcolor": "white",
             "startlinecolor": "#2a3f5f"
            },
            "type": "carpet"
           }
          ],
          "choropleth": [
           {
            "colorbar": {
             "outlinewidth": 0,
             "ticks": ""
            },
            "type": "choropleth"
           }
          ],
          "contour": [
           {
            "colorbar": {
             "outlinewidth": 0,
             "ticks": ""
            },
            "colorscale": [
             [
              0,
              "#0d0887"
             ],
             [
              0.1111111111111111,
              "#46039f"
             ],
             [
              0.2222222222222222,
              "#7201a8"
             ],
             [
              0.3333333333333333,
              "#9c179e"
             ],
             [
              0.4444444444444444,
              "#bd3786"
             ],
             [
              0.5555555555555556,
              "#d8576b"
             ],
             [
              0.6666666666666666,
              "#ed7953"
             ],
             [
              0.7777777777777778,
              "#fb9f3a"
             ],
             [
              0.8888888888888888,
              "#fdca26"
             ],
             [
              1,
              "#f0f921"
             ]
            ],
            "type": "contour"
           }
          ],
          "contourcarpet": [
           {
            "colorbar": {
             "outlinewidth": 0,
             "ticks": ""
            },
            "type": "contourcarpet"
           }
          ],
          "heatmap": [
           {
            "colorbar": {
             "outlinewidth": 0,
             "ticks": ""
            },
            "colorscale": [
             [
              0,
              "#0d0887"
             ],
             [
              0.1111111111111111,
              "#46039f"
             ],
             [
              0.2222222222222222,
              "#7201a8"
             ],
             [
              0.3333333333333333,
              "#9c179e"
             ],
             [
              0.4444444444444444,
              "#bd3786"
             ],
             [
              0.5555555555555556,
              "#d8576b"
             ],
             [
              0.6666666666666666,
              "#ed7953"
             ],
             [
              0.7777777777777778,
              "#fb9f3a"
             ],
             [
              0.8888888888888888,
              "#fdca26"
             ],
             [
              1,
              "#f0f921"
             ]
            ],
            "type": "heatmap"
           }
          ],
          "heatmapgl": [
           {
            "colorbar": {
             "outlinewidth": 0,
             "ticks": ""
            },
            "colorscale": [
             [
              0,
              "#0d0887"
             ],
             [
              0.1111111111111111,
              "#46039f"
             ],
             [
              0.2222222222222222,
              "#7201a8"
             ],
             [
              0.3333333333333333,
              "#9c179e"
             ],
             [
              0.4444444444444444,
              "#bd3786"
             ],
             [
              0.5555555555555556,
              "#d8576b"
             ],
             [
              0.6666666666666666,
              "#ed7953"
             ],
             [
              0.7777777777777778,
              "#fb9f3a"
             ],
             [
              0.8888888888888888,
              "#fdca26"
             ],
             [
              1,
              "#f0f921"
             ]
            ],
            "type": "heatmapgl"
           }
          ],
          "histogram": [
           {
            "marker": {
             "pattern": {
              "fillmode": "overlay",
              "size": 10,
              "solidity": 0.2
             }
            },
            "type": "histogram"
           }
          ],
          "histogram2d": [
           {
            "colorbar": {
             "outlinewidth": 0,
             "ticks": ""
            },
            "colorscale": [
             [
              0,
              "#0d0887"
             ],
             [
              0.1111111111111111,
              "#46039f"
             ],
             [
              0.2222222222222222,
              "#7201a8"
             ],
             [
              0.3333333333333333,
              "#9c179e"
             ],
             [
              0.4444444444444444,
              "#bd3786"
             ],
             [
              0.5555555555555556,
              "#d8576b"
             ],
             [
              0.6666666666666666,
              "#ed7953"
             ],
             [
              0.7777777777777778,
              "#fb9f3a"
             ],
             [
              0.8888888888888888,
              "#fdca26"
             ],
             [
              1,
              "#f0f921"
             ]
            ],
            "type": "histogram2d"
           }
          ],
          "histogram2dcontour": [
           {
            "colorbar": {
             "outlinewidth": 0,
             "ticks": ""
            },
            "colorscale": [
             [
              0,
              "#0d0887"
             ],
             [
              0.1111111111111111,
              "#46039f"
             ],
             [
              0.2222222222222222,
              "#7201a8"
             ],
             [
              0.3333333333333333,
              "#9c179e"
             ],
             [
              0.4444444444444444,
              "#bd3786"
             ],
             [
              0.5555555555555556,
              "#d8576b"
             ],
             [
              0.6666666666666666,
              "#ed7953"
             ],
             [
              0.7777777777777778,
              "#fb9f3a"
             ],
             [
              0.8888888888888888,
              "#fdca26"
             ],
             [
              1,
              "#f0f921"
             ]
            ],
            "type": "histogram2dcontour"
           }
          ],
          "mesh3d": [
           {
            "colorbar": {
             "outlinewidth": 0,
             "ticks": ""
            },
            "type": "mesh3d"
           }
          ],
          "parcoords": [
           {
            "line": {
             "colorbar": {
              "outlinewidth": 0,
              "ticks": ""
             }
            },
            "type": "parcoords"
           }
          ],
          "pie": [
           {
            "automargin": true,
            "type": "pie"
           }
          ],
          "scatter": [
           {
            "marker": {
             "colorbar": {
              "outlinewidth": 0,
              "ticks": ""
             }
            },
            "type": "scatter"
           }
          ],
          "scatter3d": [
           {
            "line": {
             "colorbar": {
              "outlinewidth": 0,
              "ticks": ""
             }
            },
            "marker": {
             "colorbar": {
              "outlinewidth": 0,
              "ticks": ""
             }
            },
            "type": "scatter3d"
           }
          ],
          "scattercarpet": [
           {
            "marker": {
             "colorbar": {
              "outlinewidth": 0,
              "ticks": ""
             }
            },
            "type": "scattercarpet"
           }
          ],
          "scattergeo": [
           {
            "marker": {
             "colorbar": {
              "outlinewidth": 0,
              "ticks": ""
             }
            },
            "type": "scattergeo"
           }
          ],
          "scattergl": [
           {
            "marker": {
             "colorbar": {
              "outlinewidth": 0,
              "ticks": ""
             }
            },
            "type": "scattergl"
           }
          ],
          "scattermapbox": [
           {
            "marker": {
             "colorbar": {
              "outlinewidth": 0,
              "ticks": ""
             }
            },
            "type": "scattermapbox"
           }
          ],
          "scatterpolar": [
           {
            "marker": {
             "colorbar": {
              "outlinewidth": 0,
              "ticks": ""
             }
            },
            "type": "scatterpolar"
           }
          ],
          "scatterpolargl": [
           {
            "marker": {
             "colorbar": {
              "outlinewidth": 0,
              "ticks": ""
             }
            },
            "type": "scatterpolargl"
           }
          ],
          "scatterternary": [
           {
            "marker": {
             "colorbar": {
              "outlinewidth": 0,
              "ticks": ""
             }
            },
            "type": "scatterternary"
           }
          ],
          "surface": [
           {
            "colorbar": {
             "outlinewidth": 0,
             "ticks": ""
            },
            "colorscale": [
             [
              0,
              "#0d0887"
             ],
             [
              0.1111111111111111,
              "#46039f"
             ],
             [
              0.2222222222222222,
              "#7201a8"
             ],
             [
              0.3333333333333333,
              "#9c179e"
             ],
             [
              0.4444444444444444,
              "#bd3786"
             ],
             [
              0.5555555555555556,
              "#d8576b"
             ],
             [
              0.6666666666666666,
              "#ed7953"
             ],
             [
              0.7777777777777778,
              "#fb9f3a"
             ],
             [
              0.8888888888888888,
              "#fdca26"
             ],
             [
              1,
              "#f0f921"
             ]
            ],
            "type": "surface"
           }
          ],
          "table": [
           {
            "cells": {
             "fill": {
              "color": "#EBF0F8"
             },
             "line": {
              "color": "white"
             }
            },
            "header": {
             "fill": {
              "color": "#C8D4E3"
             },
             "line": {
              "color": "white"
             }
            },
            "type": "table"
           }
          ]
         },
         "layout": {
          "annotationdefaults": {
           "arrowcolor": "#2a3f5f",
           "arrowhead": 0,
           "arrowwidth": 1
          },
          "autotypenumbers": "strict",
          "coloraxis": {
           "colorbar": {
            "outlinewidth": 0,
            "ticks": ""
           }
          },
          "colorscale": {
           "diverging": [
            [
             0,
             "#8e0152"
            ],
            [
             0.1,
             "#c51b7d"
            ],
            [
             0.2,
             "#de77ae"
            ],
            [
             0.3,
             "#f1b6da"
            ],
            [
             0.4,
             "#fde0ef"
            ],
            [
             0.5,
             "#f7f7f7"
            ],
            [
             0.6,
             "#e6f5d0"
            ],
            [
             0.7,
             "#b8e186"
            ],
            [
             0.8,
             "#7fbc41"
            ],
            [
             0.9,
             "#4d9221"
            ],
            [
             1,
             "#276419"
            ]
           ],
           "sequential": [
            [
             0,
             "#0d0887"
            ],
            [
             0.1111111111111111,
             "#46039f"
            ],
            [
             0.2222222222222222,
             "#7201a8"
            ],
            [
             0.3333333333333333,
             "#9c179e"
            ],
            [
             0.4444444444444444,
             "#bd3786"
            ],
            [
             0.5555555555555556,
             "#d8576b"
            ],
            [
             0.6666666666666666,
             "#ed7953"
            ],
            [
             0.7777777777777778,
             "#fb9f3a"
            ],
            [
             0.8888888888888888,
             "#fdca26"
            ],
            [
             1,
             "#f0f921"
            ]
           ],
           "sequentialminus": [
            [
             0,
             "#0d0887"
            ],
            [
             0.1111111111111111,
             "#46039f"
            ],
            [
             0.2222222222222222,
             "#7201a8"
            ],
            [
             0.3333333333333333,
             "#9c179e"
            ],
            [
             0.4444444444444444,
             "#bd3786"
            ],
            [
             0.5555555555555556,
             "#d8576b"
            ],
            [
             0.6666666666666666,
             "#ed7953"
            ],
            [
             0.7777777777777778,
             "#fb9f3a"
            ],
            [
             0.8888888888888888,
             "#fdca26"
            ],
            [
             1,
             "#f0f921"
            ]
           ]
          },
          "colorway": [
           "#636efa",
           "#EF553B",
           "#00cc96",
           "#ab63fa",
           "#FFA15A",
           "#19d3f3",
           "#FF6692",
           "#B6E880",
           "#FF97FF",
           "#FECB52"
          ],
          "font": {
           "color": "#2a3f5f"
          },
          "geo": {
           "bgcolor": "white",
           "lakecolor": "white",
           "landcolor": "#E5ECF6",
           "showlakes": true,
           "showland": true,
           "subunitcolor": "white"
          },
          "hoverlabel": {
           "align": "left"
          },
          "hovermode": "closest",
          "mapbox": {
           "style": "light"
          },
          "paper_bgcolor": "white",
          "plot_bgcolor": "#E5ECF6",
          "polar": {
           "angularaxis": {
            "gridcolor": "white",
            "linecolor": "white",
            "ticks": ""
           },
           "bgcolor": "#E5ECF6",
           "radialaxis": {
            "gridcolor": "white",
            "linecolor": "white",
            "ticks": ""
           }
          },
          "scene": {
           "xaxis": {
            "backgroundcolor": "#E5ECF6",
            "gridcolor": "white",
            "gridwidth": 2,
            "linecolor": "white",
            "showbackground": true,
            "ticks": "",
            "zerolinecolor": "white"
           },
           "yaxis": {
            "backgroundcolor": "#E5ECF6",
            "gridcolor": "white",
            "gridwidth": 2,
            "linecolor": "white",
            "showbackground": true,
            "ticks": "",
            "zerolinecolor": "white"
           },
           "zaxis": {
            "backgroundcolor": "#E5ECF6",
            "gridcolor": "white",
            "gridwidth": 2,
            "linecolor": "white",
            "showbackground": true,
            "ticks": "",
            "zerolinecolor": "white"
           }
          },
          "shapedefaults": {
           "line": {
            "color": "#2a3f5f"
           }
          },
          "ternary": {
           "aaxis": {
            "gridcolor": "white",
            "linecolor": "white",
            "ticks": ""
           },
           "baxis": {
            "gridcolor": "white",
            "linecolor": "white",
            "ticks": ""
           },
           "bgcolor": "#E5ECF6",
           "caxis": {
            "gridcolor": "white",
            "linecolor": "white",
            "ticks": ""
           }
          },
          "title": {
           "x": 0.05
          },
          "xaxis": {
           "automargin": true,
           "gridcolor": "white",
           "linecolor": "white",
           "ticks": "",
           "title": {
            "standoff": 15
           },
           "zerolinecolor": "white",
           "zerolinewidth": 2
          },
          "yaxis": {
           "automargin": true,
           "gridcolor": "white",
           "linecolor": "white",
           "ticks": "",
           "title": {
            "standoff": 15
           },
           "zerolinecolor": "white",
           "zerolinewidth": 2
          }
         }
        },
        "title": {
         "text": "BRASIL OLÍMPICO - Maiores Medalhistas (por atleta)"
        },
        "xaxis": {
         "anchor": "y",
         "domain": [
          0,
          1
         ],
         "title": {
          "text": "Atletas"
         }
        },
        "yaxis": {
         "anchor": "x",
         "domain": [
          0,
          1
         ],
         "title": {
          "text": "Medalhas"
         }
        }
       }
      }
     },
     "metadata": {},
     "output_type": "display_data"
    }
   ],
   "source": [
    "# Criando o gráfico através do plotly express:\n",
    "fig_medalhistas_por_nome = px.bar(\n",
    "                  df_maiores_medalhistas,\n",
    "                  x='Name',\n",
    "                  y='Totals',\n",
    "                  color='Medal',\n",
    "                  color_discrete_map={\n",
    "                      'Gold': 'gold',\n",
    "                      'Silver': 'silver',\n",
    "                      'Bronze': 'brown'\n",
    "                  },\n",
    "                  labels={\n",
    "                      'Name': 'Atletas',\n",
    "                      'Totals': 'Medalhas',\n",
    "                      'Medal': 'Tipo de Medalha'\n",
    "                      },\n",
    "                  title='BRASIL OLÍMPICO - Maiores Medalhistas (por atleta)',\n",
    "                  barmode='relative')\n",
    "\n",
    "fig_medalhistas_por_nome.update_layout(\n",
    "    font=dict(size=7)\n",
    ")\n",
    "fig_medalhistas_por_nome.show()"
   ]
  },
  {
   "cell_type": "markdown",
   "metadata": {
    "id": "KG1C9RCTNY8C"
   },
   "source": [
    "Agora gere o mesmo gráfico de barras empilhadas substituindo os nomes dos atletas pelo nome de todos os esportes onde o Brasil já ganhou medalhas.\n",
    "\n",
    "**DICA:** tome muito cuidado nessa análise: cada **evento esportivo** rende 1 medalha. Por exemplo, quando a equipe de futebol vence, isso é considerado 1 medalha, mesmo tendo cerca de 20 atletas medalhistas na equipe. "
   ]
  },
  {
   "cell_type": "code",
   "execution_count": 43,
   "metadata": {},
   "outputs": [
    {
     "data": {
      "application/vnd.plotly.v1+json": {
       "config": {
        "plotlyServerURL": "https://plot.ly"
       },
       "data": [
        {
         "alignmentgroup": "True",
         "hovertemplate": "Tipo de Medalha=Silver<br>Esporte=%{x}<br>Medalhas=%{y}<extra></extra>",
         "legendgroup": "Silver",
         "marker": {
          "color": "silver",
          "pattern": {
           "shape": ""
          }
         },
         "name": "Silver",
         "offsetgroup": "Silver",
         "orientation": "v",
         "showlegend": true,
         "textposition": "auto",
         "type": "bar",
         "x": [
          "Football",
          "Canoeing",
          "Swimming",
          "Athletics",
          "Football",
          "Basketball",
          "Volleyball",
          "Judo",
          "Swimming",
          "Sailing",
          "Swimming",
          "Athletics",
          "Judo",
          "Sailing",
          "Gymnastics",
          "Football",
          "Athletics",
          "Volleyball",
          "Sailing",
          "Volleyball",
          "Gymnastics",
          "Shooting",
          "Boxing",
          "Judo",
          "Football"
         ],
         "xaxis": "x",
         "y": [
          2,
          2,
          2,
          1,
          1,
          1,
          1,
          1,
          1,
          1,
          1,
          1,
          1,
          1,
          1,
          1,
          1,
          1,
          1,
          1,
          1,
          1,
          1,
          1,
          1
         ],
         "yaxis": "y"
        },
        {
         "alignmentgroup": "True",
         "hovertemplate": "Tipo de Medalha=Bronze<br>Esporte=%{x}<br>Medalhas=%{y}<extra></extra>",
         "legendgroup": "Bronze",
         "marker": {
          "color": "brown",
          "pattern": {
           "shape": ""
          }
         },
         "name": "Bronze",
         "offsetgroup": "Bronze",
         "orientation": "v",
         "showlegend": true,
         "textposition": "auto",
         "type": "bar",
         "x": [
          "Swimming",
          "Sailing",
          "Judo",
          "Judo",
          "Equestrianism",
          "Judo",
          "Athletics",
          "Swimming",
          "Basketball",
          "Swimming",
          "Athletics",
          "Sailing",
          "Taekwondo",
          "Boxing",
          "Sailing",
          "Football",
          "Taekwondo",
          "Judo",
          "Football",
          "Sailing",
          "Athletics",
          "Athletics",
          "Modern Pentathlon",
          "Boxing",
          "Judo",
          "Athletics",
          "Judo",
          "Basketball",
          "Boxing",
          "Judo",
          "Volleyball",
          "Basketball",
          "Sailing",
          "Judo",
          "Sailing",
          "Athletics",
          "Judo",
          "Gymnastics",
          "Athletics",
          "Swimming",
          "Swimming",
          "Canoeing",
          "Judo",
          "Judo",
          "Sailing",
          "Judo",
          "Volleyball"
         ],
         "xaxis": "x",
         "y": [
          2,
          2,
          2,
          2,
          2,
          2,
          2,
          2,
          2,
          1,
          1,
          1,
          1,
          1,
          1,
          1,
          1,
          1,
          1,
          1,
          1,
          1,
          1,
          1,
          1,
          1,
          1,
          1,
          1,
          1,
          1,
          1,
          1,
          1,
          1,
          1,
          1,
          1,
          1,
          1,
          1,
          1,
          1,
          1,
          1,
          1,
          1
         ],
         "yaxis": "y"
        },
        {
         "alignmentgroup": "True",
         "hovertemplate": "Tipo de Medalha=Gold<br>Esporte=%{x}<br>Medalhas=%{y}<extra></extra>",
         "legendgroup": "Gold",
         "marker": {
          "color": "gold",
          "pattern": {
           "shape": ""
          }
         },
         "name": "Gold",
         "offsetgroup": "Gold",
         "orientation": "v",
         "showlegend": true,
         "textposition": "auto",
         "type": "bar",
         "x": [
          "Sailing",
          "Sailing",
          "Athletics",
          "Judo",
          "Athletics",
          "Sailing",
          "Sailing",
          "Volleyball",
          "Athletics",
          "Judo",
          "Equestrianism",
          "Boxing",
          "Volleyball",
          "Volleyball",
          "Judo",
          "Gymnastics",
          "Swimming",
          "Athletics",
          "Volleyball",
          "Volleyball",
          "Sailing",
          "Football"
         ],
         "xaxis": "x",
         "y": [
          2,
          2,
          2,
          1,
          1,
          1,
          1,
          1,
          1,
          1,
          1,
          1,
          1,
          1,
          1,
          1,
          1,
          1,
          1,
          1,
          1,
          1
         ],
         "yaxis": "y"
        }
       ],
       "layout": {
        "barmode": "relative",
        "font": {
         "size": 7
        },
        "legend": {
         "title": {
          "text": "Tipo de Medalha"
         },
         "tracegroupgap": 0
        },
        "template": {
         "data": {
          "bar": [
           {
            "error_x": {
             "color": "#2a3f5f"
            },
            "error_y": {
             "color": "#2a3f5f"
            },
            "marker": {
             "line": {
              "color": "#E5ECF6",
              "width": 0.5
             },
             "pattern": {
              "fillmode": "overlay",
              "size": 10,
              "solidity": 0.2
             }
            },
            "type": "bar"
           }
          ],
          "barpolar": [
           {
            "marker": {
             "line": {
              "color": "#E5ECF6",
              "width": 0.5
             },
             "pattern": {
              "fillmode": "overlay",
              "size": 10,
              "solidity": 0.2
             }
            },
            "type": "barpolar"
           }
          ],
          "carpet": [
           {
            "aaxis": {
             "endlinecolor": "#2a3f5f",
             "gridcolor": "white",
             "linecolor": "white",
             "minorgridcolor": "white",
             "startlinecolor": "#2a3f5f"
            },
            "baxis": {
             "endlinecolor": "#2a3f5f",
             "gridcolor": "white",
             "linecolor": "white",
             "minorgridcolor": "white",
             "startlinecolor": "#2a3f5f"
            },
            "type": "carpet"
           }
          ],
          "choropleth": [
           {
            "colorbar": {
             "outlinewidth": 0,
             "ticks": ""
            },
            "type": "choropleth"
           }
          ],
          "contour": [
           {
            "colorbar": {
             "outlinewidth": 0,
             "ticks": ""
            },
            "colorscale": [
             [
              0,
              "#0d0887"
             ],
             [
              0.1111111111111111,
              "#46039f"
             ],
             [
              0.2222222222222222,
              "#7201a8"
             ],
             [
              0.3333333333333333,
              "#9c179e"
             ],
             [
              0.4444444444444444,
              "#bd3786"
             ],
             [
              0.5555555555555556,
              "#d8576b"
             ],
             [
              0.6666666666666666,
              "#ed7953"
             ],
             [
              0.7777777777777778,
              "#fb9f3a"
             ],
             [
              0.8888888888888888,
              "#fdca26"
             ],
             [
              1,
              "#f0f921"
             ]
            ],
            "type": "contour"
           }
          ],
          "contourcarpet": [
           {
            "colorbar": {
             "outlinewidth": 0,
             "ticks": ""
            },
            "type": "contourcarpet"
           }
          ],
          "heatmap": [
           {
            "colorbar": {
             "outlinewidth": 0,
             "ticks": ""
            },
            "colorscale": [
             [
              0,
              "#0d0887"
             ],
             [
              0.1111111111111111,
              "#46039f"
             ],
             [
              0.2222222222222222,
              "#7201a8"
             ],
             [
              0.3333333333333333,
              "#9c179e"
             ],
             [
              0.4444444444444444,
              "#bd3786"
             ],
             [
              0.5555555555555556,
              "#d8576b"
             ],
             [
              0.6666666666666666,
              "#ed7953"
             ],
             [
              0.7777777777777778,
              "#fb9f3a"
             ],
             [
              0.8888888888888888,
              "#fdca26"
             ],
             [
              1,
              "#f0f921"
             ]
            ],
            "type": "heatmap"
           }
          ],
          "heatmapgl": [
           {
            "colorbar": {
             "outlinewidth": 0,
             "ticks": ""
            },
            "colorscale": [
             [
              0,
              "#0d0887"
             ],
             [
              0.1111111111111111,
              "#46039f"
             ],
             [
              0.2222222222222222,
              "#7201a8"
             ],
             [
              0.3333333333333333,
              "#9c179e"
             ],
             [
              0.4444444444444444,
              "#bd3786"
             ],
             [
              0.5555555555555556,
              "#d8576b"
             ],
             [
              0.6666666666666666,
              "#ed7953"
             ],
             [
              0.7777777777777778,
              "#fb9f3a"
             ],
             [
              0.8888888888888888,
              "#fdca26"
             ],
             [
              1,
              "#f0f921"
             ]
            ],
            "type": "heatmapgl"
           }
          ],
          "histogram": [
           {
            "marker": {
             "pattern": {
              "fillmode": "overlay",
              "size": 10,
              "solidity": 0.2
             }
            },
            "type": "histogram"
           }
          ],
          "histogram2d": [
           {
            "colorbar": {
             "outlinewidth": 0,
             "ticks": ""
            },
            "colorscale": [
             [
              0,
              "#0d0887"
             ],
             [
              0.1111111111111111,
              "#46039f"
             ],
             [
              0.2222222222222222,
              "#7201a8"
             ],
             [
              0.3333333333333333,
              "#9c179e"
             ],
             [
              0.4444444444444444,
              "#bd3786"
             ],
             [
              0.5555555555555556,
              "#d8576b"
             ],
             [
              0.6666666666666666,
              "#ed7953"
             ],
             [
              0.7777777777777778,
              "#fb9f3a"
             ],
             [
              0.8888888888888888,
              "#fdca26"
             ],
             [
              1,
              "#f0f921"
             ]
            ],
            "type": "histogram2d"
           }
          ],
          "histogram2dcontour": [
           {
            "colorbar": {
             "outlinewidth": 0,
             "ticks": ""
            },
            "colorscale": [
             [
              0,
              "#0d0887"
             ],
             [
              0.1111111111111111,
              "#46039f"
             ],
             [
              0.2222222222222222,
              "#7201a8"
             ],
             [
              0.3333333333333333,
              "#9c179e"
             ],
             [
              0.4444444444444444,
              "#bd3786"
             ],
             [
              0.5555555555555556,
              "#d8576b"
             ],
             [
              0.6666666666666666,
              "#ed7953"
             ],
             [
              0.7777777777777778,
              "#fb9f3a"
             ],
             [
              0.8888888888888888,
              "#fdca26"
             ],
             [
              1,
              "#f0f921"
             ]
            ],
            "type": "histogram2dcontour"
           }
          ],
          "mesh3d": [
           {
            "colorbar": {
             "outlinewidth": 0,
             "ticks": ""
            },
            "type": "mesh3d"
           }
          ],
          "parcoords": [
           {
            "line": {
             "colorbar": {
              "outlinewidth": 0,
              "ticks": ""
             }
            },
            "type": "parcoords"
           }
          ],
          "pie": [
           {
            "automargin": true,
            "type": "pie"
           }
          ],
          "scatter": [
           {
            "marker": {
             "colorbar": {
              "outlinewidth": 0,
              "ticks": ""
             }
            },
            "type": "scatter"
           }
          ],
          "scatter3d": [
           {
            "line": {
             "colorbar": {
              "outlinewidth": 0,
              "ticks": ""
             }
            },
            "marker": {
             "colorbar": {
              "outlinewidth": 0,
              "ticks": ""
             }
            },
            "type": "scatter3d"
           }
          ],
          "scattercarpet": [
           {
            "marker": {
             "colorbar": {
              "outlinewidth": 0,
              "ticks": ""
             }
            },
            "type": "scattercarpet"
           }
          ],
          "scattergeo": [
           {
            "marker": {
             "colorbar": {
              "outlinewidth": 0,
              "ticks": ""
             }
            },
            "type": "scattergeo"
           }
          ],
          "scattergl": [
           {
            "marker": {
             "colorbar": {
              "outlinewidth": 0,
              "ticks": ""
             }
            },
            "type": "scattergl"
           }
          ],
          "scattermapbox": [
           {
            "marker": {
             "colorbar": {
              "outlinewidth": 0,
              "ticks": ""
             }
            },
            "type": "scattermapbox"
           }
          ],
          "scatterpolar": [
           {
            "marker": {
             "colorbar": {
              "outlinewidth": 0,
              "ticks": ""
             }
            },
            "type": "scatterpolar"
           }
          ],
          "scatterpolargl": [
           {
            "marker": {
             "colorbar": {
              "outlinewidth": 0,
              "ticks": ""
             }
            },
            "type": "scatterpolargl"
           }
          ],
          "scatterternary": [
           {
            "marker": {
             "colorbar": {
              "outlinewidth": 0,
              "ticks": ""
             }
            },
            "type": "scatterternary"
           }
          ],
          "surface": [
           {
            "colorbar": {
             "outlinewidth": 0,
             "ticks": ""
            },
            "colorscale": [
             [
              0,
              "#0d0887"
             ],
             [
              0.1111111111111111,
              "#46039f"
             ],
             [
              0.2222222222222222,
              "#7201a8"
             ],
             [
              0.3333333333333333,
              "#9c179e"
             ],
             [
              0.4444444444444444,
              "#bd3786"
             ],
             [
              0.5555555555555556,
              "#d8576b"
             ],
             [
              0.6666666666666666,
              "#ed7953"
             ],
             [
              0.7777777777777778,
              "#fb9f3a"
             ],
             [
              0.8888888888888888,
              "#fdca26"
             ],
             [
              1,
              "#f0f921"
             ]
            ],
            "type": "surface"
           }
          ],
          "table": [
           {
            "cells": {
             "fill": {
              "color": "#EBF0F8"
             },
             "line": {
              "color": "white"
             }
            },
            "header": {
             "fill": {
              "color": "#C8D4E3"
             },
             "line": {
              "color": "white"
             }
            },
            "type": "table"
           }
          ]
         },
         "layout": {
          "annotationdefaults": {
           "arrowcolor": "#2a3f5f",
           "arrowhead": 0,
           "arrowwidth": 1
          },
          "autotypenumbers": "strict",
          "coloraxis": {
           "colorbar": {
            "outlinewidth": 0,
            "ticks": ""
           }
          },
          "colorscale": {
           "diverging": [
            [
             0,
             "#8e0152"
            ],
            [
             0.1,
             "#c51b7d"
            ],
            [
             0.2,
             "#de77ae"
            ],
            [
             0.3,
             "#f1b6da"
            ],
            [
             0.4,
             "#fde0ef"
            ],
            [
             0.5,
             "#f7f7f7"
            ],
            [
             0.6,
             "#e6f5d0"
            ],
            [
             0.7,
             "#b8e186"
            ],
            [
             0.8,
             "#7fbc41"
            ],
            [
             0.9,
             "#4d9221"
            ],
            [
             1,
             "#276419"
            ]
           ],
           "sequential": [
            [
             0,
             "#0d0887"
            ],
            [
             0.1111111111111111,
             "#46039f"
            ],
            [
             0.2222222222222222,
             "#7201a8"
            ],
            [
             0.3333333333333333,
             "#9c179e"
            ],
            [
             0.4444444444444444,
             "#bd3786"
            ],
            [
             0.5555555555555556,
             "#d8576b"
            ],
            [
             0.6666666666666666,
             "#ed7953"
            ],
            [
             0.7777777777777778,
             "#fb9f3a"
            ],
            [
             0.8888888888888888,
             "#fdca26"
            ],
            [
             1,
             "#f0f921"
            ]
           ],
           "sequentialminus": [
            [
             0,
             "#0d0887"
            ],
            [
             0.1111111111111111,
             "#46039f"
            ],
            [
             0.2222222222222222,
             "#7201a8"
            ],
            [
             0.3333333333333333,
             "#9c179e"
            ],
            [
             0.4444444444444444,
             "#bd3786"
            ],
            [
             0.5555555555555556,
             "#d8576b"
            ],
            [
             0.6666666666666666,
             "#ed7953"
            ],
            [
             0.7777777777777778,
             "#fb9f3a"
            ],
            [
             0.8888888888888888,
             "#fdca26"
            ],
            [
             1,
             "#f0f921"
            ]
           ]
          },
          "colorway": [
           "#636efa",
           "#EF553B",
           "#00cc96",
           "#ab63fa",
           "#FFA15A",
           "#19d3f3",
           "#FF6692",
           "#B6E880",
           "#FF97FF",
           "#FECB52"
          ],
          "font": {
           "color": "#2a3f5f"
          },
          "geo": {
           "bgcolor": "white",
           "lakecolor": "white",
           "landcolor": "#E5ECF6",
           "showlakes": true,
           "showland": true,
           "subunitcolor": "white"
          },
          "hoverlabel": {
           "align": "left"
          },
          "hovermode": "closest",
          "mapbox": {
           "style": "light"
          },
          "paper_bgcolor": "white",
          "plot_bgcolor": "#E5ECF6",
          "polar": {
           "angularaxis": {
            "gridcolor": "white",
            "linecolor": "white",
            "ticks": ""
           },
           "bgcolor": "#E5ECF6",
           "radialaxis": {
            "gridcolor": "white",
            "linecolor": "white",
            "ticks": ""
           }
          },
          "scene": {
           "xaxis": {
            "backgroundcolor": "#E5ECF6",
            "gridcolor": "white",
            "gridwidth": 2,
            "linecolor": "white",
            "showbackground": true,
            "ticks": "",
            "zerolinecolor": "white"
           },
           "yaxis": {
            "backgroundcolor": "#E5ECF6",
            "gridcolor": "white",
            "gridwidth": 2,
            "linecolor": "white",
            "showbackground": true,
            "ticks": "",
            "zerolinecolor": "white"
           },
           "zaxis": {
            "backgroundcolor": "#E5ECF6",
            "gridcolor": "white",
            "gridwidth": 2,
            "linecolor": "white",
            "showbackground": true,
            "ticks": "",
            "zerolinecolor": "white"
           }
          },
          "shapedefaults": {
           "line": {
            "color": "#2a3f5f"
           }
          },
          "ternary": {
           "aaxis": {
            "gridcolor": "white",
            "linecolor": "white",
            "ticks": ""
           },
           "baxis": {
            "gridcolor": "white",
            "linecolor": "white",
            "ticks": ""
           },
           "bgcolor": "#E5ECF6",
           "caxis": {
            "gridcolor": "white",
            "linecolor": "white",
            "ticks": ""
           }
          },
          "title": {
           "x": 0.05
          },
          "xaxis": {
           "automargin": true,
           "gridcolor": "white",
           "linecolor": "white",
           "ticks": "",
           "title": {
            "standoff": 15
           },
           "zerolinecolor": "white",
           "zerolinewidth": 2
          },
          "yaxis": {
           "automargin": true,
           "gridcolor": "white",
           "linecolor": "white",
           "ticks": "",
           "title": {
            "standoff": 15
           },
           "zerolinecolor": "white",
           "zerolinewidth": 2
          }
         }
        },
        "title": {
         "text": "BRASIL OLÍMPICO - Maiores Medalhistas (por esporte)"
        },
        "xaxis": {
         "anchor": "y",
         "domain": [
          0,
          1
         ],
         "title": {
          "text": "Esporte"
         }
        },
        "yaxis": {
         "anchor": "x",
         "domain": [
          0,
          1
         ],
         "title": {
          "text": "Medalhas"
         }
        }
       }
      }
     },
     "metadata": {},
     "output_type": "display_data"
    }
   ],
   "source": [
    "fig_medalhistas_por_esporte = px.bar(\n",
    "                  df_maiores_medalhistas,\n",
    "                  x='Sport',\n",
    "                  y='Totals',\n",
    "                  color='Medal',\n",
    "                  color_discrete_map={\n",
    "                      'Gold': 'gold',\n",
    "                      'Silver': 'silver',\n",
    "                      'Bronze': 'brown'\n",
    "                  },\n",
    "                  labels={\n",
    "                      'Sport': 'Esporte',\n",
    "                      'Totals': 'Medalhas',\n",
    "                      'Medal': 'Tipo de Medalha'\n",
    "                      },\n",
    "                  title='BRASIL OLÍMPICO - Maiores Medalhistas (por esporte)',\n",
    "                  barmode='relative')\n",
    "\n",
    "fig_medalhistas_por_esporte.update_layout(\n",
    "    font=dict(size=7)\n",
    ")\n",
    "fig_medalhistas_por_esporte.show()"
   ]
  },
  {
   "cell_type": "markdown",
   "metadata": {
    "id": "Hzg3ZSy3NY8D"
   },
   "source": [
    "Mais um gráfico de barras empilhadas: agora mostre os **eventos esportivos** que renderam medalhas para o Brasil.\n",
    "\n",
    "Lembrando: cada \"categoria\" dentro de um esporte é considerado um evento. Por exemplo, dentro de \"atletismo\", temos uma competição de 100m masculina, uma de 100m feminino, um revezamento 4 x 100m masculino, um revezamento 4 x 100m feminino, uma competição de 400m masculino, uma de 400m feminino, uma maratona masculina, uma maratona feminina, e assim sucessivamente."
   ]
  },
  {
   "cell_type": "code",
   "execution_count": null,
   "metadata": {
    "id": "6q4SA2TvNY8E"
   },
   "outputs": [],
   "source": []
  },
  {
   "cell_type": "markdown",
   "metadata": {
    "id": "aIjK-ynJNY8E"
   },
   "source": [
    "Utilize um gráfico de distribuição (como um histograma, por exemplo) ilustrando a quantidade total de medalhas do Brasil por esporte."
   ]
  },
  {
   "cell_type": "code",
   "execution_count": null,
   "metadata": {
    "ExecuteTime": {
     "end_time": "2021-10-28T01:17:45.099960Z",
     "start_time": "2021-10-28T01:17:45.001243Z"
    }
   },
   "outputs": [],
   "source": [
    "medalhas_brasil_total_esporte = df_dados_tratados.groupby('Sport').count()['Medal'].reset_index()\n",
    "medalhas_brasil_total_esporte.sort_values(by=['Medal','Sport'], ascending=False)"
   ]
  },
  {
   "cell_type": "code",
   "execution_count": null,
   "metadata": {
    "ExecuteTime": {
     "end_time": "2021-10-28T01:17:48.039061Z",
     "start_time": "2021-10-28T01:17:47.659748Z"
    },
    "id": "3oL8HPtkNY8F"
   },
   "outputs": [],
   "source": [
    "sns.countplot(x = df_dados_tratados['Sport'], palette=\"ch:s=.25,rot=-.25\" );\n",
    "plt.xticks(rotation=90);\n"
   ]
  },
  {
   "cell_type": "markdown",
   "metadata": {},
   "source": [
    "Repita o procedimento acima, mas com medalhas de ouro."
   ]
  },
  {
   "cell_type": "code",
   "execution_count": null,
   "metadata": {
    "ExecuteTime": {
     "end_time": "2021-10-28T01:17:50.581681Z",
     "start_time": "2021-10-28T01:17:50.530685Z"
    }
   },
   "outputs": [],
   "source": [
    "ouros = df_dados_tratados.groupby(by = ['Sport'])['Medal'].value_counts().to_frame(name='Quantidade de medalhas')\n",
    "ouros.reset_index(inplace = True)\n",
    "ouros2 = pd.pivot_table(ouros, values='Quantidade de medalhas', index='Sport', columns='Medal', aggfunc=sum)\n",
    "ouros2.reset_index(inplace = True)\n",
    "ouros2\n",
    "\n",
    "df_ouros = ouros2[['Sport','Gold']]\n",
    "df_ouros.dropna(inplace=True)\n",
    "df_ouros"
   ]
  },
  {
   "cell_type": "code",
   "execution_count": null,
   "metadata": {
    "ExecuteTime": {
     "end_time": "2021-10-28T01:17:56.340857Z",
     "start_time": "2021-10-28T01:17:56.013850Z"
    }
   },
   "outputs": [],
   "source": [
    "sns.barplot(y='Sport', x=\"Gold\", palette=\"flare\", data=df_ouros, order = df_ouros.sort_values('Gold').Sport)"
   ]
  },
  {
   "cell_type": "markdown",
   "metadata": {
    "id": "Nly79TxCNY8F"
   },
   "source": [
    "Agora faça um gráfico de setores (pizza) mostrando a distribuição de medalhas de ouro do Brasil por esporte."
   ]
  },
  {
   "cell_type": "code",
   "execution_count": null,
   "metadata": {
    "ExecuteTime": {
     "end_time": "2021-10-28T01:19:05.738514Z",
     "start_time": "2021-10-28T01:19:03.938946Z"
    },
    "id": "nFxsNiQUNY8F"
   },
   "outputs": [],
   "source": [
    "fig = px.pie(df_ouros, values='Gold', names='Sport', title='Distribuição de medalhas de ouro do Brasil por esporte.')\n",
    "fig.show()"
   ]
  },
  {
   "cell_type": "markdown",
   "metadata": {
    "id": "J7MQnm50NY8F"
   },
   "source": [
    "Para finalizar a história do Brasil, vamos ver a série temporal de medalhas brasileiras. Crie um gráfico de linhas contendo 3 linhas: ouro, prata e bronze. Coloque no eixo X a edição da olimpíada (em ordem cronológica) e no eixo Y o total de medalhas de cada tipo."
   ]
  },
  {
   "cell_type": "code",
   "execution_count": null,
   "metadata": {
    "ExecuteTime": {
     "end_time": "2021-10-28T01:19:09.166630Z",
     "start_time": "2021-10-28T01:19:09.126637Z"
    }
   },
   "outputs": [],
   "source": [
    "df_dummies = pd.concat([df_dados_tratados,pd.get_dummies(df_dados_tratados['Medal'])],axis=1)\n",
    "df_time_series = df_dummies.groupby(by = ['Year'])['Medal'].value_counts().to_frame(name='Quantidade de medalhas')\n",
    "df2 = df_time_series.reset_index()\n",
    "df3 = df_dummies.groupby('Year').sum()\n",
    "df3=df3.drop(['ID', 'Age', 'Height', 'Weight'], axis =1)\n",
    "df_year_medals = df3.reset_index()\n",
    "df_year_medals"
   ]
  },
  {
   "cell_type": "code",
   "execution_count": null,
   "metadata": {
    "ExecuteTime": {
     "end_time": "2021-10-28T01:19:18.508756Z",
     "start_time": "2021-10-28T01:19:18.282760Z"
    }
   },
   "outputs": [],
   "source": [
    "fig = px.line(df_year_medals, x=\"Year\", y= df3.columns,              \n",
    "              title='Total de Medalhas',  color_discrete_sequence = ['chocolate', 'gold', 'silver'])\n",
    "fig.update_xaxes(\n",
    "   \n",
    "    dtick=\"M1\",\n",
    "    tickangle = 45,\n",
    "    tickvals =df_year_medals['Year'] ,\n",
    "    ticklabelmode=\"period\")\n",
    "\n",
    "\n",
    "fig.show()\n",
    "\n",
    "\n",
    "\n"
   ]
  },
  {
   "cell_type": "code",
   "execution_count": null,
   "metadata": {
    "ExecuteTime": {
     "end_time": "2021-10-28T01:19:23.672084Z",
     "start_time": "2021-10-28T01:19:23.593086Z"
    },
    "id": "GLFe6cP7NY8G"
   },
   "outputs": [],
   "source": [
    "fig = px.line(df2, x=\"Year\", y= 'Quantidade de medalhas',              \n",
    "              title='Total de Medalhas')\n",
    "fig.update_xaxes(\n",
    "    dtick=\"M1\",\n",
    "    tickangle = 65,\n",
    "    tickvals =df2['Year'] ,\n",
    "    ticklabelmode=\"period\")\n",
    "fig.show()"
   ]
  },
  {
   "cell_type": "markdown",
   "metadata": {
    "id": "xN1S7XFONY8G"
   },
   "source": [
    "## 2. O mundo nos jogos de verão\n",
    "\n",
    "Filtre o DataFrame original para conter apenas informações sobre os **medalhistas** de todos os países **nos jogos de verão**.\n",
    "\n"
   ]
  },
  {
   "cell_type": "code",
   "execution_count": null,
   "metadata": {
    "id": "E4o-t1VpNY8G"
   },
   "outputs": [],
   "source": []
  },
  {
   "cell_type": "markdown",
   "metadata": {
    "id": "Dkrzkj8YNY8G"
   },
   "source": [
    "Utilizando subplots, crie 2 boxplots ilustrando a quantidade de medalhas por atleta. Em um deles, considere todos os atletas. No segundo, experimente remover os *outliers*."
   ]
  },
  {
   "cell_type": "code",
   "execution_count": null,
   "metadata": {
    "id": "ykN9KeAvNY8G"
   },
   "outputs": [],
   "source": []
  },
  {
   "cell_type": "markdown",
   "metadata": {
    "id": "A3bL8FBVNY8G"
   },
   "source": [
    "Descubra o total de medalhas de ouro de cada país (lembrando-se da restrição dos eventos esportivos, para não contabilizar múltiplas medalhas em esportes de equipe!).\n",
    "\n",
    "Agora pegue os 10 países com mais medalhas e crie uma categoria \"Outros\" para o restante dos países. Exiba um gráfico de pizza mostrando a distribuição de medalhas de ouro entre essas 11 \"equipes\"."
   ]
  },
  {
   "cell_type": "code",
   "execution_count": null,
   "metadata": {
    "id": "sDy530_sNY8G"
   },
   "outputs": [],
   "source": []
  },
  {
   "cell_type": "markdown",
   "metadata": {
    "id": "RyH8whUJNY8H"
   },
   "source": [
    "Repita o procedimento acima, mas mostrando o total de medalhas ao invés de apenas medalhas de ouro."
   ]
  },
  {
   "cell_type": "code",
   "execution_count": null,
   "metadata": {
    "id": "v9JC0T50NY8H"
   },
   "outputs": [],
   "source": []
  },
  {
   "cell_type": "markdown",
   "metadata": {
    "id": "R832ax7iNY8H"
   },
   "source": [
    "Crie um gráfico de barras empilhadas, com cada país das categorias acima no eixo X, total de medalhas no eixo Y, e barras empilhadas representando as medalhas de ouro, prata e bronze de cada país."
   ]
  },
  {
   "cell_type": "code",
   "execution_count": null,
   "metadata": {
    "id": "UfPDH6UFNY8H"
   },
   "outputs": [],
   "source": []
  },
  {
   "cell_type": "markdown",
   "metadata": {
    "id": "IBYKcFSlNY8H"
   },
   "source": [
    "Crie um gráfico de distribuição (por exemplo, um histograma) mostrando a quantidade total de medalhas por país."
   ]
  },
  {
   "cell_type": "code",
   "execution_count": null,
   "metadata": {
    "id": "vnKk7marNY8H"
   },
   "outputs": [],
   "source": []
  },
  {
   "cell_type": "markdown",
   "metadata": {
    "id": "cmxcC3rfNY8H"
   },
   "source": [
    "**Desafio bônus:** Crie uma visualização da quantidade de medalhas de ouro e outra para quantidade total de medalhas por país, ambas utilizando mapas. Utilize o tipo de mapa que achar mais adequado."
   ]
  },
  {
   "cell_type": "code",
   "execution_count": null,
   "metadata": {
    "id": "7f2ZZyXPNY8J"
   },
   "outputs": [],
   "source": []
  },
  {
   "cell_type": "markdown",
   "metadata": {
    "id": "AsG5XlFdNY8K"
   },
   "source": [
    "## 3. Brasil vs Mundo"
   ]
  },
  {
   "cell_type": "markdown",
   "metadata": {
    "id": "XNzcOru-NY8K"
   },
   "source": [
    "Faça um gráfico de barras comparando os maiores medalhistas brasileiros com os maiores medalhistas do mundo em suas respectivas categorias.\n",
    "\n",
    "Represente o esporte no eixo X, a quantidade de medalhas no eixo Y, coloque barras lado-a-lado representando os diferentes atletas de uma mesma modalidade e empilhe as medalhas de ouro, prata e bronze de cada atleta."
   ]
  },
  {
   "cell_type": "code",
   "execution_count": null,
   "metadata": {
    "id": "RkdigZlGNY8K"
   },
   "outputs": [],
   "source": []
  },
  {
   "cell_type": "markdown",
   "metadata": {
    "id": "hmkzpPQ1NY8K"
   },
   "source": [
    "Repita o procedimento acima, mas ao invés de atletas, considere o(s) esporte(s) onde o Brasil mais possui medalha comparando-os com o país com maior quantidade de medalhas naquele esporte."
   ]
  },
  {
   "cell_type": "code",
   "execution_count": null,
   "metadata": {
    "id": "4Ikht1A1NY8K"
   },
   "outputs": [],
   "source": []
  },
  {
   "cell_type": "markdown",
   "metadata": {
    "id": "7tyHTxh8NY8K"
   },
   "source": [
    "Para finalizar, repita os gráficos que você gerou com os 10 países com mais medalhas, mas remova o Brasil da categoria \"Outros\" e mostre-o também no gráfico."
   ]
  },
  {
   "cell_type": "code",
   "execution_count": null,
   "metadata": {
    "id": "xoUl3-9kNY8K"
   },
   "outputs": [],
   "source": []
  }
 ],
 "metadata": {
  "colab": {
   "name": "Projeto - Dataviz.ipynb",
   "provenance": []
  },
  "kernelspec": {
   "display_name": "Python 3",
   "language": "python",
   "name": "python3"
  },
  "language_info": {
   "codemirror_mode": {
    "name": "ipython",
    "version": 3
   },
   "file_extension": ".py",
   "mimetype": "text/x-python",
   "name": "python",
   "nbconvert_exporter": "python",
   "pygments_lexer": "ipython3",
   "version": "3.8.10"
  }
 },
 "nbformat": 4,
 "nbformat_minor": 1
}
